{
 "cells": [
  {
   "cell_type": "markdown",
   "metadata": {},
   "source": [
    "# SIO 113: Practice Problems\n",
    "### Lecture 18"
   ]
  },
  {
   "cell_type": "markdown",
   "metadata": {},
   "source": [
    "<div class=\"alert alert-block alert-info\"><b>Preliminaries</b>\n",
    "    \n",
    "- Rename this notebook using the format YourLastname_FirstInitial_PP_LectureNumber.ipynb.\n",
    "    \n",
    "- Answer each question in a separate cell.\n",
    "</div>"
   ]
  },
  {
   "cell_type": "markdown",
   "metadata": {},
   "source": [
    "**1. Geoplot**\n",
    "1. Read in the data in `../Datasets/navdat.txt` and filter for ages less than 10,000 years (the Holocene).\n",
    "2. Make an array of unique STATE names. Notice how one is misspelled. \n",
    "3. Use `.loc` to fix these state names. \n",
    "4. Filter the data to include only data from USA using the pandas `.isin()` method\n",
    "5. Make a point plot of the filtered data with **geoplot**.\n",
    "\n",
    "**2. UTM versus Lat./Lon.**\n",
    "1. How can you tell which is northing and which is easting in a UTM set of coordinates? \n",
    "\n",
    "\n",
    "**3. Shape files**\n",
    "1. Read in the coastline data for the state of Hawaii and make a plot with all the islands on it.  \n",
    "2. Read in the coastline data and convert it to UTM.\n",
    "3. Plot the Big Island in both Lat/Lon and UTM coordinates in side-by-side plots using the `fig.add_subplot()` method of the figure object. "
   ]
  },
  {
   "cell_type": "markdown",
   "metadata": {},
   "source": [
    "<div class=\"alert alert-block alert-danger\"><b> \n",
    "To receive full credit, your notebook:\n",
    "    \n",
    "1. Must have the correct name;\n",
    "2. Must be fully commented;\n",
    "3. Must run as expected;\n",
    "4. Must be submitted into Canvas before the deadline.\n",
    "</b></div>"
   ]
  }
 ],
 "metadata": {
  "kernelspec": {
   "display_name": "Python 3",
   "language": "python",
   "name": "python3"
  },
  "language_info": {
   "codemirror_mode": {
    "name": "ipython",
    "version": 3
   },
   "file_extension": ".py",
   "mimetype": "text/x-python",
   "name": "python",
   "nbconvert_exporter": "python",
   "pygments_lexer": "ipython3",
   "version": "3.8.3"
  }
 },
 "nbformat": 4,
 "nbformat_minor": 2
}
