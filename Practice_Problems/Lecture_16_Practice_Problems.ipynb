{
 "cells": [
  {
   "cell_type": "markdown",
   "metadata": {},
   "source": [
    "# SIO 113: Practice Problems\n",
    "### Lecture 16"
   ]
  },
  {
   "cell_type": "markdown",
   "metadata": {},
   "source": [
    "<div class=\"alert alert-block alert-info\"><b>Preliminaries</b>\n",
    "    \n",
    "- Rename this notebook using the format YourLastname_FirstInitial_PP_LectureNumber.ipynb.\n",
    "    \n",
    "- Answer each question in a separate cell.\n",
    "</div>"
   ]
  },
  {
   "cell_type": "code",
   "execution_count": 1,
   "metadata": {},
   "outputs": [],
   "source": [
    "import pandas as pd\n",
    "import numpy as np"
   ]
  },
  {
   "cell_type": "markdown",
   "metadata": {
    "collapsed": true
   },
   "source": [
    "**1. Linear regression**\n",
    "1. Read in the dataset `../Datasets/SpreadingRates/km_age.txt` as a pandas `DataFrame`.  \n",
    "Each data point is the age and distance from the South Atlantic ridge crests to a particular magnetic anomaly. The ages (Ma) were published by Gradstein et al. (2004). \n",
    "2. Plot the age against distance; use age as the x-axis. Label your figure.\n",
    "3. Calculate the spreading rate by using the function `np.polyfit()` and a linear fit.\n",
    "4. Evaluate the linear fit using `np.polyval()`.\n",
    "5. Plot the best fit line as a red dashed line along with the data."
   ]
  },
  {
   "cell_type": "markdown",
   "metadata": {},
   "source": [
    "**2. Lambda functions**\n",
    "1. Write a lambda function that converts z to velocity.\n",
    "2. Write a second lambda function that converts mu to distance.\n",
    "3. Rewrite the code cell that follows to call your new functions."
   ]
  },
  {
   "cell_type": "code",
   "execution_count": 2,
   "metadata": {},
   "outputs": [
    {
     "name": "stdout",
     "output_type": "stream",
     "text": [
      "16.865755533316488\n"
     ]
    }
   ],
   "source": [
    "new_data = pd.read_csv('../Datasets/redShiftDistance/mu_z.csv', header=1)\n",
    "\n",
    "# Function returns age in Ga for Ho\n",
    "age_from_Ho = lambda Ho : 1.0e-9 * 3.09e19 / (Ho * np.pi * 1.0e7)\n",
    "\n",
    "# Convert z to velocity in 10^3 km/s (or 10^6 m/s)\n",
    "c = 3.0e8 # Speed of light in m/s\n",
    "new_data['velocity'] = 1.0e-6 * c * \\\n",
    "    (((new_data.z + 1.0)**2 - 1.0)/((new_data.z + 1.0)**2 + 1.0)) # The formula for v from z (and c)\n",
    "\n",
    "# Convert mu to distance in 10^3 Mpc (a Gpc):\n",
    "new_data['distance'] = 10.0 * (10.0**((new_data['mu'])/5.0)) * 1.0e-9 # Convert mu to Gpc\n",
    "# and filter for the closest objects\n",
    "close_data = new_data[new_data.distance < 0.7]\n",
    "\n",
    "close_fit = np.polyfit(close_data['distance'], close_data['velocity'], 1) # Calculate the coefficients\n",
    "close_modelYs = np.polyval(close_fit, close_data['distance']) # Get the model values\n",
    "\n",
    "age = age_from_Ho(close_fit[0]) # Get a new age \n",
    "print(age)"
   ]
  },
  {
   "cell_type": "markdown",
   "metadata": {},
   "source": [
    "**3. Curve fitting**\n",
    "\n",
    "1. Generate a set of data from 0.0 to 720.0 degrees at a spacing of 10.0 degree intervals.\n",
    "2. Convert it to radians.\n",
    "3. Make a cosine wave from your radians array.\n",
    "4. Create a normal distribution generator with `stats.norm()` that has a mean of 0.0 and a standard deviation of 0.2.\n",
    "5. Generate a set of simulated normally distributed \"noise\" that has the same number of data points as your cosine curve. \n",
    "6. Add your \"noise\" to your cosine curve. \n",
    "7. Use `np.polyfit()` and `np.polyval()` to fit a polynomial curve to your noisy cosine data (use degrees 5 to 8).   \n",
    "8. Make a plot of the data with the opacity set to 0.5.\n",
    "9. Plot each fit (using a different colored line) and add a legend to the right of the plot using with the degree as the label. Hint: use the  `bbox_to_anchor()` method. \n",
    "10. Add the cosine curve to your plot. \n",
    "11. Which degree fits the best without over fitting? "
   ]
  },
  {
   "cell_type": "markdown",
   "metadata": {},
   "source": [
    "<div class=\"alert alert-block alert-danger\"><b> \n",
    "To receive full credit, your notebook:\n",
    "    \n",
    "1. Must have the correct name;\n",
    "2. Must be fully commented;\n",
    "3. Must run as expected;\n",
    "4. Must be submitted into Canvas before the deadline.\n",
    "</b></div>"
   ]
  }
 ],
 "metadata": {
  "kernelspec": {
   "display_name": "Python 3",
   "language": "python",
   "name": "python3"
  },
  "language_info": {
   "codemirror_mode": {
    "name": "ipython",
    "version": 3
   },
   "file_extension": ".py",
   "mimetype": "text/x-python",
   "name": "python",
   "nbconvert_exporter": "python",
   "pygments_lexer": "ipython3",
   "version": "3.8.3"
  }
 },
 "nbformat": 4,
 "nbformat_minor": 2
}
