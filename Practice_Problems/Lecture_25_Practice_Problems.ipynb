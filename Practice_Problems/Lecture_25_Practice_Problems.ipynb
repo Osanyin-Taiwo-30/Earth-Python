{
 "cells": [
  {
   "cell_type": "markdown",
   "metadata": {},
   "source": [
    "# Practice Problems\n",
    "### Lecture 25"
   ]
  },
  {
   "cell_type": "markdown",
   "metadata": {},
   "source": [
    "<div class=\"alert alert-block alert-info\"><b>Preliminaries</b>\n",
    "    \n",
    "- Rename this notebook using the format YourLastname_FirstInitial_PP_LectureNumber.ipynb.\n",
    "    \n",
    "- Answer each question in a separate cell.\n",
    "</div>"
   ]
  },
  {
   "cell_type": "markdown",
   "metadata": {
    "collapsed": true
   },
   "source": [
    "### 1. Meshgrid and contour\n",
    "1. Write a `lambda` function for the equation \n",
    "$$ c=f(a,b)=(1-a^2+b^3) e^{-(a^2+b^2)/2}.$$\n",
    "2. Create two arrays `a` and `b` that range from -3 to 3 in increments of 0.1.\n",
    "3. Make a meshgrid object from `a` and `b`.\n",
    "4. Evaluate `c` on the meshgrid object.\n",
    "5. Make a contour plot of `a`, `b` and `c`.  "
   ]
  },
  {
   "cell_type": "markdown",
   "metadata": {},
   "source": [
    "### 2. `mkigrf` and maps\n",
    "\n",
    "Lisa Tauxe moved to San Diego in 1983. Use the functions in the `mkigrf` module to do the following:\n",
    "1. Calculate the inclination, declination, and strength of the field that year.\n",
    "2. Create a map of the strength of the field in 1983.\n",
    "Include the following features:\n",
    "    - coastlines\n",
    "    - a title\n",
    "    - a color bar \n",
    "3. Make a plot of declination in San Diego (33,-117) over the last 100 years. "
   ]
  },
  {
   "cell_type": "markdown",
   "metadata": {},
   "source": [
    "<div class=\"alert alert-block alert-danger\"><b> \n",
    "To receive full credit, your notebook:\n",
    "    \n",
    "1. Must have the correct name;\n",
    "2. Must be fully commented;\n",
    "3. Must run as expected;\n",
    "4. Must be submitted into Canvas before the deadline.\n",
    "</b></div>"
   ]
  }
 ],
 "metadata": {
  "kernelspec": {
   "display_name": "Python 3",
   "language": "python",
   "name": "python3"
  },
  "language_info": {
   "codemirror_mode": {
    "name": "ipython",
    "version": 3
   },
   "file_extension": ".py",
   "mimetype": "text/x-python",
   "name": "python",
   "nbconvert_exporter": "python",
   "pygments_lexer": "ipython3",
   "version": "3.8.3"
  }
 },
 "nbformat": 4,
 "nbformat_minor": 2
}
