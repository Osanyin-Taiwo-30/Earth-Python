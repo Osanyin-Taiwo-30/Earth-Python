{
 "cells": [
  {
   "cell_type": "markdown",
   "metadata": {},
   "source": [
    "# SIO113: Practice Problems\n",
    "### Lecture 20"
   ]
  },
  {
   "cell_type": "markdown",
   "metadata": {},
   "source": [
    "<div class=\"alert alert-block alert-info\"><b>Preliminaries</b>\n",
    "    \n",
    "- Rename this notebook using the format YourLastname_FirstInitial_PP_LectureNumber.ipynb.\n",
    "    \n",
    "- Answer each question in a separate cell.\n",
    "</div>"
   ]
  },
  {
   "cell_type": "markdown",
   "metadata": {
    "collapsed": true
   },
   "source": [
    "**1. Cartesian coordinates and polar coordinates**\n",
    "\n",
    "1. Write a `lambda` functions to replace `dir2cart()` and `cart2dir()`. Call them `dir_cart` and `cart_dir`.\n",
    "2. You measured a bedding plane with an azimuth of  40 and a plunge of 62. Use your function `dir_cart()` to convert the coordinates to Cartesian coordinates.\n",
    "3. Use your function `cart_dir()` to convert the Cartesian coordinates back to polar coordinates.\n",
    "4. Test your functions by calling the `dir2cart()` and `cart2dir()` functions from the lecture.\n",
    "5. Modify `cart2dir()` to round to the nearest decimal."
   ]
  },
  {
   "cell_type": "markdown",
   "metadata": {},
   "source": [
    "**2. Unit vectors**\n",
    "\n",
    "Consider the two striation directions\n",
    "$$\n",
    "\\vec A = (Az_1, Pl_1) = (245, 22), \\\\\n",
    "\\vec B = (Az_2, Pl_2) = (10, 60). \\\\\n",
    "$$\n",
    "\n",
    "1. What is the sum of the two vectors, $\\vec X_1 + \\vec X_2$?\n",
    "2. What is the difference between the vectors, $\\vec X_1 - \\vec X_2$?  \n",
    "3. What is angle between the two vectors $\\vec X_1$ and  $\\vec X_2$? \n",
    "4. What is the pole to the two vectors?  \n",
    "5. Make an equal angle diagram\n",
    "    - Plot the two vectors as green triangles.\n",
    "    - Plot the pole to the plane as a blue star."
   ]
  },
  {
   "cell_type": "markdown",
   "metadata": {},
   "source": [
    "**3. Vectors with length**\n",
    "\n",
    "1. Modify the function `dir2cart()` from the lecture to include vector length $R$. Give the modified function the name `vec2cart()`.\n",
    "2. Apply your new function to evaluate the Cartesian coordinates of the vector with Azimuth=12, Plunge=42, R=8.\n",
    "3. Modify the function `cart2dir()` to return the full vector (Azimuth, Plunge and $R$) from the Cartesian coordinates.  Give the modified function the name `cart2vec()`.\n",
    "4. Verify that your function `cart2vec()` works, by feeding the output of `vec2cart()` into `cart2vec()` to make sure you get back what you started with (i.e. Azimuth=12, Plunge=42, R=8)."
   ]
  },
  {
   "cell_type": "markdown",
   "metadata": {},
   "source": [
    "<div class=\"alert alert-block alert-danger\"><b> \n",
    "To receive full credit, your notebook:\n",
    "    \n",
    "1. Must have the correct name;\n",
    "2. Must be fully commented;\n",
    "3. Must run as expected;\n",
    "4. Must be submitted into Canvas before the deadline.\n",
    "</b></div>"
   ]
  }
 ],
 "metadata": {
  "kernelspec": {
   "display_name": "Python 3",
   "language": "python",
   "name": "python3"
  },
  "language_info": {
   "codemirror_mode": {
    "name": "ipython",
    "version": 3
   },
   "file_extension": ".py",
   "mimetype": "text/x-python",
   "name": "python",
   "nbconvert_exporter": "python",
   "pygments_lexer": "ipython3",
   "version": "3.8.3"
  }
 },
 "nbformat": 4,
 "nbformat_minor": 2
}
