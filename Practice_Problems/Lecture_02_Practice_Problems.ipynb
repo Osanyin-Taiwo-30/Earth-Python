{
 "cells": [
  {
   "cell_type": "markdown",
   "metadata": {},
   "source": [
    "# SIO 113: Practice Problems\n",
    "### Lecture 2"
   ]
  },
  {
   "cell_type": "markdown",
   "metadata": {},
   "source": [
    "<div class=\"alert alert-block alert-info\"><b>Preliminaries</b>\n",
    "    \n",
    "- Rename this notebook using the format YourLastname_FirstInitial_PP_02. For example, <b>May_D_PP_02</b>.\n",
    "    \n",
    "- Answer each question in a separate cell.\n",
    "</div>"
   ]
  },
  {
   "cell_type": "markdown",
   "metadata": {},
   "source": [
    "1. Conceptual\n",
    "    - Insert a markdown cell into your practice notebook and answer the questions:\n",
    "        - Why are descriptive variable names useful?\n",
    "        - What are _reserved keywords_ and why can't you use them as variable names?\n",
    "\n",
    "\n",
    "2. Variables\n",
    "    - Insert a code cell into your practice notebook.\n",
    "    - In it, define a variable that  stores the value of $\\pi$ (you can use the value `3.1415`).\n",
    "\t- Define a variable called `radius`, that stores any floating point number (radius).\n",
    "\t- Define a string that stores `\"is the circumference of a circle with radius\"`.\n",
    "\n",
    "\n",
    "3. Operations\n",
    "    - Insert another code cell into your practice notebook.  \n",
    "\t- Calculate the circumference of a circle using the variables you defined earlier and store the answer in a separate variable (called `circumference`).\n",
    "    - Print your new variable.\n",
    "\n",
    "\n",
    "4. Changing variable types\n",
    "    - Convert all your variables (`circumference` and `radius`) into strings.\n",
    "    - Use the + operator to add  them together to make this string:    \n",
    "\t\t\"**circumference** is the circumference of a circle with radius of **radius**\".\n",
    "        \n",
    "    - Words in **bold** are your new string-ified numerical values.  \n",
    "\n",
    "\n",
    "5. Strings and string operation\n",
    "\t- Define a variable with the value:\n",
    "\t\t\t\"Scripps Institution of Oceanography\"\n",
    "\t- Print out the first 7 characters. \n",
    "    - Print indices 8 to 19.\n",
    "\t- Print index 23 to the end.\n",
    "\n",
    "\n",
    "6. Putting it all together\n",
    "    - Create an integer variable `depth` and set it to  6.\n",
    "    - Create a string variable `planet` and set it to `\"Earth\"`.\n",
    "    - Convert the variable `depth` into a string.\n",
    "    - Create a variable `ocean_depth` and set it to the string:    \n",
    "    \"The average ocean depth on Earth is 6 km\"    \n",
    "    by using the variables `depth` and `planet` instead of simply using `\"Earth\"` and `6`.\n",
    "    - Print out the variable `ocean_depth`."
   ]
  },
  {
   "cell_type": "markdown",
   "metadata": {},
   "source": [
    "<div class=\"alert alert-block alert-danger\"><b> \n",
    "To receive full credit, your notebook:\n",
    "    \n",
    "1. Must have the correct name;\n",
    "2. Must be fully commented;\n",
    "3. Must run as expected;\n",
    "4. Must be submitted into Canvas before the deadline.\n",
    "</b></div>"
   ]
  }
 ],
 "metadata": {
  "kernelspec": {
   "display_name": "Python 3",
   "language": "python",
   "name": "python3"
  },
  "language_info": {
   "codemirror_mode": {
    "name": "ipython",
    "version": 3
   },
   "file_extension": ".py",
   "mimetype": "text/x-python",
   "name": "python",
   "nbconvert_exporter": "python",
   "pygments_lexer": "ipython3",
   "version": "3.8.3"
  }
 },
 "nbformat": 4,
 "nbformat_minor": 2
}
