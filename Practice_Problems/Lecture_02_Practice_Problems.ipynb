{
 "cells": [
  {
   "cell_type": "markdown",
   "metadata": {},
   "source": [
    "# SIO 113: Practice Problems\n",
    "### Lecture 2"
   ]
  },
  {
   "cell_type": "markdown",
   "metadata": {},
   "source": [
    "<div class=\"alert alert-block alert-info\"><b>Preliminaries</b>\n",
    "    \n",
    "- Rename this notebook using the format YourLastname_FirstInitial_PP_02. For example, <b>May_D_PP_02</b>.\n",
    "    \n",
    "- Answer each question in a separate cell.\n",
    "</div>"
   ]
  },
  {
   "cell_type": "markdown",
   "metadata": {},
   "source": [
    "1. Conceptual\n",
    "    - Insert a markdown cell into your practice notebook and answer the questions:\n",
    "        - Why are descriptive variable names useful?\n",
    "        - What are _reserved keywords_ and why can't you use them as variable names?"
   ]
  },
  {
   "cell_type": "markdown",
   "metadata": {},
   "source": [
    "2. Variables\n",
    "    - Insert a code cell into your practice notebook.\n",
    "    - In it, define a variable that  stores the value of $\\pi$ (you can use the value `3.1415`).\n",
    "\t- Define a variable called `radius`, that stores a floating point number which represents the radius of a circle.\n",
    "\t- Define a string that stores the value `\"is the circumference of a circle with radius\"`."
   ]
  },
  {
   "cell_type": "markdown",
   "metadata": {},
   "source": [
    "3. Operations\n",
    "    - Insert another code cell into your practice notebook.  \n",
    "\t- Calculate the circumference of a circle using the variables you defined earlier and store the answer in a separate variable (called `circumference`).\n",
    "    - Print the value of `circumference`."
   ]
  },
  {
   "cell_type": "markdown",
   "metadata": {},
   "source": [
    "4. Changing variable types\n",
    "    - Convert the variables `circumference` and `radius` into strings.\n",
    "    - Use the + operator to add  them together to make this string:    \n",
    "    \n",
    "\t\t\"**CIRCUMFERENCE** is the circumference of a circle with radius **RADIUS**\".\n",
    "        \n",
    "        where words in **bold** should be replaced with the string-ified numerical values.  "
   ]
  },
  {
   "cell_type": "markdown",
   "metadata": {},
   "source": [
    "5. Strings and string operation\n",
    "\t- Define a variable with the value:\n",
    "    ```\n",
    "    \"Scripps Institution of Oceanography\"\n",
    "    ```\n",
    "\t- Print out the first 7 characters. \n",
    "    - Print indices 8 through to 19.\n",
    "\t- Print indices 23 through to the end."
   ]
  },
  {
   "cell_type": "markdown",
   "metadata": {},
   "source": [
    "6. Putting it all together\n",
    "    - Create an integer variable `depth` and sets its value to `6`.\n",
    "    - Create a string variable `planet` and set its value to `\"Earth\"`.\n",
    "    - Convert the variable `depth` into a string.\n",
    "    - Create a variable `ocean_depth` and set it to the string:  \n",
    "    \n",
    "        \"The average ocean depth on **Earth** is **6** km\"  \n",
    "        \n",
    "    by using the variables `depth` and `planet` in place of the bold text.\n",
    "    - Print out the variable `ocean_depth`."
   ]
  },
  {
   "cell_type": "markdown",
   "metadata": {},
   "source": [
    "<div class=\"alert alert-block alert-danger\"><b> \n",
    "To receive full credit, your notebook:\n",
    "    \n",
    "1. Must have the correct name;\n",
    "2. Must be fully commented;\n",
    "3. Must run as expected;\n",
    "4. Must be submitted into Canvas before the deadline.\n",
    "</b></div>"
   ]
  }
 ],
 "metadata": {
  "kernelspec": {
   "display_name": "Python 3 (ipykernel)",
   "language": "python",
   "name": "python3"
  },
  "language_info": {
   "codemirror_mode": {
    "name": "ipython",
    "version": 3
   },
   "file_extension": ".py",
   "mimetype": "text/x-python",
   "name": "python",
   "nbconvert_exporter": "python",
   "pygments_lexer": "ipython3",
   "version": "3.10.8"
  }
 },
 "nbformat": 4,
 "nbformat_minor": 2
}
