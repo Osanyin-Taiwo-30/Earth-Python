{
 "cells": [
  {
   "cell_type": "markdown",
   "metadata": {},
   "source": [
    "# SIO 113: Practice Problems\n",
    "### Lecture 17"
   ]
  },
  {
   "cell_type": "markdown",
   "metadata": {},
   "source": [
    "<div class=\"alert alert-block alert-info\"><b>Preliminaries</b>\n",
    "    \n",
    "- Rename this notebook using the format YourLastname_FirstInitial_PP_LectureNumber.ipynb.\n",
    "    \n",
    "- Answer each question in a separate cell.\n",
    "</div>"
   ]
  },
  {
   "cell_type": "markdown",
   "metadata": {
    "collapsed": true
   },
   "source": [
    "**1. Mercator projections**\n",
    "1. Make a mercator projection with latitude bounds of $\\pm$ 80.\n",
    "2. Color the oceans and continents with the colors `aqua` and `coral` respectively.\n",
    "3. Draw on parallels and meridians at 15$^{\\circ}$ intervals.\n",
    "4. Place a pentagon where you were born and set the markersize to 15. Hint: Use `help(plt.plot)`."
   ]
  },
  {
   "cell_type": "markdown",
   "metadata": {
    "collapsed": true
   },
   "source": [
    "**2. Orthographic maps**\n",
    "- Make an orthographic map for the other side of the world by setting `lon_0` and `lat_0` to 180 and -80 respectively.\n",
    "- Color the continents black.\n",
    "- Plot a large magenta square at the South Pole (-90, 170)."
   ]
  },
  {
   "cell_type": "markdown",
   "metadata": {
    "collapsed": true
   },
   "source": [
    "**3. Lambert conformal conic maps**\n",
    "- Make a Lambert conformal conic projection  with the boundaries 0-40$^{\\circ}$N and 110-160$^{\\circ}$E.\n",
    "- Add the continents to your map \n",
    "- Add reasonable latitude and longitude grid lines and label them.\n",
    "- Plot the earthquakes in the datafile `../Datasets/EarthquakeLocations/last5Years.csv` as black triangles.\n",
    "- Change the size of the markers based on depths - you can use the same depth bins as before, or use your own bins."
   ]
  },
  {
   "cell_type": "markdown",
   "metadata": {},
   "source": [
    "<div class=\"alert alert-block alert-danger\"><b> \n",
    "To receive full credit, your notebook:\n",
    "    \n",
    "1. Must have the correct name;\n",
    "2. Must be fully commented;\n",
    "3. Must run as expected;\n",
    "4. Must be submitted into Canvas before the deadline.\n",
    "</b></div>"
   ]
  }
 ],
 "metadata": {
  "kernelspec": {
   "display_name": "Python 3",
   "language": "python",
   "name": "python3"
  },
  "language_info": {
   "codemirror_mode": {
    "name": "ipython",
    "version": 3
   },
   "file_extension": ".py",
   "mimetype": "text/x-python",
   "name": "python",
   "nbconvert_exporter": "python",
   "pygments_lexer": "ipython3",
   "version": "3.8.3"
  }
 },
 "nbformat": 4,
 "nbformat_minor": 2
}
