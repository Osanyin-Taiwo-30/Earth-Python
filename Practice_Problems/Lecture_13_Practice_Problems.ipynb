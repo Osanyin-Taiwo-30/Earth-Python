{
 "cells": [
  {
   "cell_type": "markdown",
   "metadata": {},
   "source": [
    "# SIO113: Practice Problems\n",
    "### Lecture 13"
   ]
  },
  {
   "cell_type": "markdown",
   "metadata": {},
   "source": [
    "<div class=\"alert alert-block alert-info\"><b>Preliminaries</b>\n",
    "    \n",
    "- Rename this notebook using the format YourLastname_FirstInitial_PP_13. For example, <b>Cych_B_PP_13</b>.\n",
    "    \n",
    "- Answer each question in a separate cell.\n",
    "</div>"
   ]
  },
  {
   "cell_type": "markdown",
   "metadata": {},
   "source": [
    "**1. `matplotlib.pyplot` usage**\n",
    "1. Use `open(file).readlines()` to peek at the data in the file:\n",
    "```python\n",
    "Datasets/Tides/SDtides.csv\n",
    "```\n",
    "2. Import the data into a pandas `DataFrame`\n",
    "    - The data file contains information about high and low tides predicted for SIO (in 2017). For up to date charts, go to: [https://tidesandcurrents.noaa.gov/noaatideannual.html?id=9410170](https://tidesandcurrents.noaa.gov/noaatideannual.html?id=9410170)\n",
    "3. Plot a line chart of high tide (cm) for the first 60 days of the year.\n",
    "    - Include a title, x-axis label, and y-axis label.\n",
    "4. Add a line chart of low tide (cm) to the same plot.\n",
    "5. Include a legend in your figure."
   ]
  },
  {
   "cell_type": "markdown",
   "metadata": {},
   "source": [
    "**2. `matplotlib.pyplot.figure.add_subplot()` usage**\n",
    "- Use `fig.add_subplot()` to plot high tide (cm) for the first 60 days and low tide (cm) for the first 60 days in two subplots that are side-by-side.\n",
    "- Add a title, y label, and x label to each figure."
   ]
  },
  {
   "cell_type": "markdown",
   "metadata": {},
   "source": [
    "**3. Bar charts**\n",
    "1. Use `plt.bar()` to plot the height at low tide for the first 60 days of the year.\n",
    "2. Include a title, x-axis label, y-axis label."
   ]
  },
  {
   "cell_type": "markdown",
   "metadata": {},
   "source": [
    "<div class=\"alert alert-block alert-danger\"><b> \n",
    "To receive full credit, your notebook:\n",
    "    \n",
    "1. Must have the correct name;\n",
    "2. Must be fully commented;\n",
    "3. Must run as expected;\n",
    "4. Must be submitted into Canvas before the deadline.\n",
    "</b></div>"
   ]
  }
 ],
 "metadata": {
  "kernelspec": {
   "display_name": "Python 3",
   "language": "python",
   "name": "python3"
  },
  "language_info": {
   "codemirror_mode": {
    "name": "ipython",
    "version": 3
   },
   "file_extension": ".py",
   "mimetype": "text/x-python",
   "name": "python",
   "nbconvert_exporter": "python",
   "pygments_lexer": "ipython3",
   "version": "3.8.3"
  }
 },
 "nbformat": 4,
 "nbformat_minor": 2
}
