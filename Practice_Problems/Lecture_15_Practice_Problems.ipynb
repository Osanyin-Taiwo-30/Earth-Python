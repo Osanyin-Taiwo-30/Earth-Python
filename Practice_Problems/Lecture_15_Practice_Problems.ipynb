{
 "cells": [
  {
   "cell_type": "markdown",
   "metadata": {},
   "source": [
    "# SIO113: Practice Problems\n",
    "### Lecture 15"
   ]
  },
  {
   "cell_type": "markdown",
   "metadata": {},
   "source": [
    "<div class=\"alert alert-block alert-info\"><b>Preliminaries</b>\n",
    "    \n",
    "- Rename this notebook using the format YourLastname_FirstInitial_PP_LectureNumber.ipynb.\n",
    "    \n",
    "- Answer each question in a separate cell.\n",
    "</div>"
   ]
  },
  {
   "cell_type": "markdown",
   "metadata": {},
   "source": [
    "**1.  Binomial functions**  \n",
    "Assume that the probability of getting a winning lottery ticket ($p$) is 1 in 20 and you have money to purchase up to 10 tickets ($n$).\n",
    "1. Calculate the probability of purchasing one winning lottery ticket. \n",
    "2. Create a list of probabilites. The probability of purchasing 1 winning ticket, 2 winning tickets, 3 winning tickets, ... up to 10 winning tickets. \n",
    "3. Plot the probability against the number of winning tickets purchased as a green bar plot. Label both axes."
   ]
  },
  {
   "cell_type": "markdown",
   "metadata": {},
   "source": [
    "**2. Monte Carlo simulations with `stats.binom()`**  \n",
    "Again, assume that the probability of getting a winning lottery ticket ($p$) is 1 in 20 and you have money to purchase up to 10 tickets ($n$). \n",
    "1. Run 100 simulations ($Nmc$) of the scenario.\n",
    "2. Plot the simulated results as a histogram and the theoretical distribution as a line graph.\n",
    "3. Add a title to the plot.\n",
    "4. Add a legend.\n",
    "5. Add a label to the x-axis and y-axis."
   ]
  },
  {
   "cell_type": "markdown",
   "metadata": {},
   "source": [
    "**3. Uniform distributions**\n",
    "1. Calculate the theoretical distribution of getting a particular azimuth between 0 and 360 when measuring, for example, the direction of a strike - assume that each result is equally likely (a uniform distribution between 0 and 360).\n",
    "2. Perform a  Monte Carlo simulation with $n=30$ trials. \n",
    "3. Plot your theoretical and simulated results as a bar and histogram plot respectively.  \n",
    "4. Try this again using the random.seed() function.  "
   ]
  },
  {
   "cell_type": "markdown",
   "metadata": {},
   "source": [
    "**4. Normal distributions**\n",
    "1. Calculate the theoretical distribution of grades on an exam with a mean of 50% and a standard deviation of $\\pm$ 20.\n",
    "2. Simulate the results of an exam taken by 35 students.\n",
    "3. Calculate the mean and standard deviation of your simulated results. \n",
    "4. Plot theoretical and simulated results as a bar graph and histogram respectively.\n",
    "5. Plot a solid line representing the cutoffs for As, Bs, Cs, Ds, and Fs.\n",
    "6. Add a title, x-label, y-label, and legend."
   ]
  },
  {
   "cell_type": "markdown",
   "metadata": {},
   "source": [
    "**5. Log-normal distributions**\n",
    "1. Simulate a grain size distribution that is drawn from a log normal distribution with 1000 grains and a mean and standard deviation of 10 and 0.1 microns respectively. \n",
    "2. Plot the distribution as a histogram (density set to True).\n",
    "3. Calculate the mean, standard deviation, expectation and variance of the distribution.  "
   ]
  },
  {
   "cell_type": "markdown",
   "metadata": {},
   "source": [
    "<div class=\"alert alert-block alert-danger\"><b> \n",
    "To receive full credit, your notebook:\n",
    "    \n",
    "1. Must have the correct name;\n",
    "2. Must be fully commented;\n",
    "3. Must run as expected;\n",
    "4. Must be submitted into Canvas before the deadline.\n",
    "</b></div>"
   ]
  }
 ],
 "metadata": {
  "kernelspec": {
   "display_name": "Python 3",
   "language": "python",
   "name": "python3"
  },
  "language_info": {
   "codemirror_mode": {
    "name": "ipython",
    "version": 3
   },
   "file_extension": ".py",
   "mimetype": "text/x-python",
   "name": "python",
   "nbconvert_exporter": "python",
   "pygments_lexer": "ipython3",
   "version": "3.8.3"
  }
 },
 "nbformat": 4,
 "nbformat_minor": 2
}
