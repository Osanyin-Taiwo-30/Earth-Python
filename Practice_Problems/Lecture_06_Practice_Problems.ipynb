{
 "cells": [
  {
   "cell_type": "markdown",
   "metadata": {},
   "source": [
    "# SIO113: Practice Problems\n",
    "### Lecture 6"
   ]
  },
  {
   "cell_type": "markdown",
   "metadata": {},
   "source": [
    "<div class=\"alert alert-block alert-info\"><b>Preliminaries</b>\n",
    "    \n",
    "- Rename this notebook using the format YourLastname_FirstInitial_PP_06. For example, <b>Cych_B_PP_06</b>.\n",
    "    \n",
    "- Answer each question in a separate cell.\n",
    "</div>"
   ]
  },
  {
   "cell_type": "markdown",
   "metadata": {},
   "source": [
    "1. Numpy attributes\n",
    "    - print out the value of __e__ using the **np.e** attribute.\n",
    "\n",
    "2. Matplotlib.pyplot\n",
    "    - import **matplotlib.pyplot** as **plt**\n",
    "    - use the magic command to be able to see plots in the notebook.\n",
    "    - create a list of angles called **thetas_in_radians**\n",
    "    - Use your array **thetas_in_radians** to generate an array of tangents (using the appropriate **NumPy** function (listed in the Lecture).\n",
    "    - Plot this array with **thetas_in_radians** on the X axis and your array of tangents on the y axis.  Draw the tangent with a red line.   \n",
    "    - Try different line styles,  different line widths, and colors.  (look at the **matplotlib.pyplot** API link, or use the Python **help( )** function.  \n",
    "    - Put on axis labels and a legend.  Play with the legend location. \n",
    "    - set the y limits to -1 and 1\n",
    "    \n",
    "3. Numpy\n",
    "    - Create a list of numbers ranging from 1931 to 2016\n",
    "    - Read in 'Datasets/rainFall/Avg_Rain.txt' in the Datasets directory into an ndarray using **NumPy**. These data came from: the Knipling-Bushland US Livestock Insects Research Laboratory, USDA-ARS in Kerrville, Texas. The file contains total annual rainfall.\n",
    "    - Plot the annual average rainfall against your list of numbers.\n",
    "    - Label the $x$ and $y$ axes.\n",
    "    - What do you suppose the units of rainfall are?  \n"
   ]
  },
  {
   "cell_type": "markdown",
   "metadata": {},
   "source": [
    "<div class=\"alert alert-block alert-danger\"><b> \n",
    "To receive full credit, your notebook:\n",
    "    \n",
    "1. Must have the correct name;\n",
    "2. Must be fully commented;\n",
    "3. Must run as expected;\n",
    "4. Must be submitted into Canvas before the deadline.\n",
    "</b></div>"
   ]
  }
 ],
 "metadata": {
  "kernelspec": {
   "display_name": "Python 3",
   "language": "python",
   "name": "python3"
  },
  "language_info": {
   "codemirror_mode": {
    "name": "ipython",
    "version": 3
   },
   "file_extension": ".py",
   "mimetype": "text/x-python",
   "name": "python",
   "nbconvert_exporter": "python",
   "pygments_lexer": "ipython3",
   "version": "3.8.3"
  }
 },
 "nbformat": 4,
 "nbformat_minor": 2
}
