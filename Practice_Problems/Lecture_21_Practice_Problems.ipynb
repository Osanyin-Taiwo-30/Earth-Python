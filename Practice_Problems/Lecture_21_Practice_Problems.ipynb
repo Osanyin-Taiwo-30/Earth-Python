{
 "cells": [
  {
   "cell_type": "markdown",
   "metadata": {},
   "source": [
    "# SIO 113: Practice Problems\n",
    "### Lecture 21"
   ]
  },
  {
   "cell_type": "markdown",
   "metadata": {},
   "source": [
    "<div class=\"alert alert-block alert-info\"><b>Preliminaries</b>\n",
    "    \n",
    "- Rename this notebook using the format YourLastname_FirstInitial_PP_LectureNumber.ipynb.\n",
    "    \n",
    "- Answer each question in a separate cell.\n",
    "</div>"
   ]
  },
  {
   "cell_type": "markdown",
   "metadata": {
    "collapsed": true
   },
   "source": [
    "**1. Great circles**\n",
    "\n",
    "- Someone measured the strike and dip of a plane to be 333 and 42$^{\\circ}$ NE.   \n",
    "- Calculate the dip direction and the pole to the plane from the strike and dip.  \n",
    "- Plot the trace of the plane on an equal area net.   \n",
    "\n",
    "Hint: Refer to Lecture 19 for how strike and dip works."
   ]
  },
  {
   "cell_type": "markdown",
   "metadata": {},
   "source": [
    "**2. Small circles**\n",
    "\n",
    "- Someone measured a bunch of geomagnetic directions with a mean inclination of 33 $^{\\circ}$ declination of 12$^{\\circ}$ and a circle of 95% confidence of 15$^{\\circ}$.  \n",
    "- Plot the mean direction as a solid red triangle in an equal area diagram.\n",
    "- Plot the circle of confidence as blue dots.\n",
    "- Calculate the antipode of the mean direction (the direction 180$^{\\circ}$ away with the opposite inclination).\n",
    "- Plot the antipode as a white triangle with a black edge. "
   ]
  },
  {
   "cell_type": "markdown",
   "metadata": {},
   "source": [
    "<div class=\"alert alert-block alert-danger\"><b> \n",
    "To receive full credit, your notebook:\n",
    "    \n",
    "1. Must have the correct name;\n",
    "2. Must be fully commented;\n",
    "3. Must run as expected;\n",
    "4. Must be submitted into Canvas before the deadline.\n",
    "</b></div>"
   ]
  }
 ],
 "metadata": {
  "kernelspec": {
   "display_name": "Python 3",
   "language": "python",
   "name": "python3"
  },
  "language_info": {
   "codemirror_mode": {
    "name": "ipython",
    "version": 3
   },
   "file_extension": ".py",
   "mimetype": "text/x-python",
   "name": "python",
   "nbconvert_exporter": "python",
   "pygments_lexer": "ipython3",
   "version": "3.8.3"
  }
 },
 "nbformat": 4,
 "nbformat_minor": 2
}
