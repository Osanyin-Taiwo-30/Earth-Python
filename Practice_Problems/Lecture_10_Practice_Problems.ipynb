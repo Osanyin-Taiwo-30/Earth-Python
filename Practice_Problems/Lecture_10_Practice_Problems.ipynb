{
 "cells": [
  {
   "cell_type": "markdown",
   "metadata": {},
   "source": [
    "# SIO113: Practice Problems\n",
    "## Lecture 10"
   ]
  },
  {
   "cell_type": "markdown",
   "metadata": {},
   "source": [
    "<div class=\"alert alert-block alert-info\"><b>Preliminaries</b>\n",
    "    \n",
    "- Rename this notebook using the format YourLastname_FirstInitial_PP_10. For example, <b>May_D_PP_10</b>.\n",
    "    \n",
    "- Answer each question in a separate cell.\n",
    "</div>"
   ]
  },
  {
   "cell_type": "markdown",
   "metadata": {},
   "source": [
    "**1. Classes**  \n",
    "1. Create a class called `Rectangle` with width (`width`) and length (`length`) as attributes.\n",
    "2. Include a docstring in your class.\n",
    "3. Define two methods `area()` and `perimeter()`.\n",
    "    - `area()` should calculate the area of the rectangle.\n",
    "    - `perimeter()` should calculate the perimeter of the rectangle.\n",
    "    - Include a docstring for each of the above two methods you wrote.\n",
    "4. Create a new instance of the `Rectangle` class with width 1 and length 4.\n",
    "5. Create a second instance of the `Rectangle` class with width 4 and length 4.\n",
    "6. Call the method `area()` on both your first and second `Rectangle` object. Print the area.\n",
    "7. Call the method `perimeter()` on your second `Rectangle` object and save the outcome in a new variable. Print the value of the new variable.\n",
    "\n",
    "\n",
    "**2. Classes in modules**  \n",
    "1. Rename the `Rectangle` class `Rect` and save it to a module called `Shapes.py`.  \n",
    "Now we can import and re-use it whenever we like.  \n",
    "2. Do this by following these steps:\n",
    "    1. Copy the class definition code block (from Q1) into a Jupyter notebook cell.\n",
    "        - Save it to this directory using the `%%writefile` magic command.\n",
    "    2. `import` the `Rect` class into your Practice Problems notebook.\n",
    "    3. Create a new instance of the `Rect` class called `my_rect`.\n",
    "    4. Call the methods `area()` and `perimeter()` on `my_rect` and print the output.\n",
    "\n",
    "\n",
    "**3. Copies**  \n",
    "  1. Using your `Shapes` module, make an instance of `Rect` called `rec` with a length and width of 2 and 4.\n",
    "  2. Make a copy of `rec` called `rec_copy`.\n",
    "  3. Make a deep-copy of `rec_copy` called `rec_deep`.\n",
    "  4. Change the length attribute associated with `rec_copy` to 3.\n",
    "  5. Print out `rec.length`, `rec_copy.length`, `rec_deep.length`."
   ]
  },
  {
   "cell_type": "markdown",
   "metadata": {},
   "source": [
    "**Reminder**   \n",
    "If you have changed a module and you need to import the changes into the Jupyter notebook, then \n",
    "execute the command: \n",
    "```python\n",
    "from importlib import reload\n",
    "```\n",
    "\n",
    "Then you can use this command to refresh your module in the notebook:\n",
    "\n",
    "```python\n",
    "reload(yourModuleName)\n",
    "```"
   ]
  },
  {
   "cell_type": "markdown",
   "metadata": {},
   "source": [
    "<div class=\"alert alert-block alert-danger\"><b> \n",
    "To receive full credit, your notebook:\n",
    "    \n",
    "1. Must have the correct name;\n",
    "2. Must be fully commented;\n",
    "3. Must run as expected;\n",
    "4. Must be submitted into Canvas before the deadline.\n",
    "</b></div>"
   ]
  }
 ],
 "metadata": {
  "kernelspec": {
   "display_name": "Python 3",
   "language": "python",
   "name": "python3"
  },
  "language_info": {
   "codemirror_mode": {
    "name": "ipython",
    "version": 3
   },
   "file_extension": ".py",
   "mimetype": "text/x-python",
   "name": "python",
   "nbconvert_exporter": "python",
   "pygments_lexer": "ipython3",
   "version": "3.8.3"
  }
 },
 "nbformat": 4,
 "nbformat_minor": 2
}
