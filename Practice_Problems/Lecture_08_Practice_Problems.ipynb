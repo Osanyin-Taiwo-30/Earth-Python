{
 "cells": [
  {
   "cell_type": "markdown",
   "metadata": {},
   "source": [
    "# SIO113: Practice Problems\n",
    "## Lecture 8"
   ]
  },
  {
   "cell_type": "markdown",
   "metadata": {},
   "source": [
    "<div class=\"alert alert-block alert-info\"><b>Preliminaries</b>\n",
    "    \n",
    "- Rename this notebook using the format YourLastname_FirstInitial_PP_08. For example, <b>Cych_B_PP_08</b>.\n",
    "    \n",
    "- Answer each question in a separate cell.\n",
    "</div>"
   ]
  },
  {
   "cell_type": "markdown",
   "metadata": {
    "collapsed": true
   },
   "source": [
    "1. **Adding notes in `matplotlib.pyplot`**  \n",
    "  1. Similar to the lecture:\n",
    "    - Read the file `Datasets/seismicRecord/earthquake.txt` into a Pandas `DataFrame`.\n",
    "    - Change the units of the x-axis to time in minutes.\n",
    "  2. Make a plot of velocity against time.\n",
    "    - Include a label for the x and y-axis. \n",
    "    - Plot the line red.\n",
    "    - Use `help()` to learn about the Matplotlib function `title()` then add this title: `\"Earthquake observed at Pinyon Flat Observatory\"`.\n",
    "  3. Add a note\n",
    "    - Place the note at `x = 4` and `y = 170000`. \n",
    "    - Write the text `\"P-S delay interval\"`.\n",
    "    - Color the text blue.\n",
    "    - Rotate the text so that it is vertical (hint: use `rotation = 90`).\n",
    "2. **Pandas `DataFrames`**  \n",
    "  1. Import the file `Datasets/TravelTimeDelta/DeltaTime.txt` into a Pandas `DataFrame`.\n",
    "  2. Get acquainted with the DataFrame object:  \n",
    "    - Print out the name of the columns.\n",
    "    - Print out the first few lines of the data frame.\n",
    "    - Change the column headers.\n",
    "    - Print out the new column headers.\n",
    "  3. Convert the P wave arrival from minutes and seconds to decimal minutes. Add the P wave arrival, in decimal minutes, to the data frame.\n",
    "  4. Calculate the S wave arrival by:\n",
    "    - Converting S-P to decimal minutes.\n",
    "    - Adding P in decimal minutes to S-P in decimal minutes.     \n",
    "3. **Additional `matplotlib.pyplot` exercises**  \n",
    "  1. Plot `Degrees` against `decimal minutes` for both the primary wave arrival and the secondary wave arrival.\n",
    "  2. Color the primary wave green and label it `\"P wave\"`.\n",
    "  3. Color the shear wave blue and label it `\"Shear wave\"`.\n",
    "  4. Add a legend in the lower right hand corner of your figure.\n",
    "  5. Add a title to your figure .\n",
    "  6. Add a label to the x and y axis.\n",
    "  7. Save the figure.\n",
    "  8. Remove the legend from your plot. Insert the text `\"Primary wave\"` and `\"Shear wave\"` above the appropriate line.\n",
    "  9. Save the new figure."
   ]
  },
  {
   "cell_type": "markdown",
   "metadata": {},
   "source": [
    "<div class=\"alert alert-block alert-danger\"><b> \n",
    "To receive full credit, your notebook:\n",
    "    \n",
    "1. Must have the correct name;\n",
    "2. Must be fully commented;\n",
    "3. Must run as expected;\n",
    "4. Must be submitted into Canvas before the deadline.\n",
    "</b></div>"
   ]
  }
 ],
 "metadata": {
  "kernelspec": {
   "display_name": "Python 3",
   "language": "python",
   "name": "python3"
  },
  "language_info": {
   "codemirror_mode": {
    "name": "ipython",
    "version": 3
   },
   "file_extension": ".py",
   "mimetype": "text/x-python",
   "name": "python",
   "nbconvert_exporter": "python",
   "pygments_lexer": "ipython3",
   "version": "3.8.3"
  }
 },
 "nbformat": 4,
 "nbformat_minor": 2
}
