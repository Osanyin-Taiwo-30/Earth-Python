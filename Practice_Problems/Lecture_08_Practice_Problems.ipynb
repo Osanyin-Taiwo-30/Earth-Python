{
 "cells": [
  {
   "cell_type": "markdown",
   "metadata": {},
   "source": [
    "# SIO113: Practice Problems\n",
    "### Lecture 8"
   ]
  },
  {
   "cell_type": "markdown",
   "metadata": {},
   "source": [
    "<div class=\"alert alert-block alert-info\"><b>Preliminaries</b>\n",
    "    \n",
    "- Rename this notebook using the format YourLastname_FirstInitial_PP_08. For example, <b>Cych_B_PP_08</b>.\n",
    "    \n",
    "- Answer each question in a separate cell.\n",
    "</div>"
   ]
  },
  {
   "cell_type": "markdown",
   "metadata": {
    "collapsed": true
   },
   "source": [
    "1.  Adding notes in matplotlib.pyplot\n",
    "    - Similar to the lecture:\n",
    "        - Read the file 'Datasets/seismicRecord/earthquake.txt'into a pandas DataFrame\n",
    "        - Change the units of the x-axis to time in minutes\n",
    "    - Make a plot of velocity against time\n",
    "        - Include a label for the x and y-axis. \n",
    "        - Plot the line red\n",
    "        - Use **help( )** to learn about the matplotlib function **title( )** then add this title: 'Earthquake observed at Pinyon Flat Observatory'\n",
    "    - Add a note\n",
    "        - Place the note at x = 4 and y = 170000 \n",
    "        - Write the text 'P-S delay interval'\n",
    "        - Color the text blue\n",
    "        - rotate the text so that it is vertical (hint: use rotation = 90)\n",
    "2. Panda DataFrames\n",
    "    - Import the file 'Datasets/TravelTimeDelta/DeltaTime.txt' into a panda DataFrame\n",
    "    - Get acquainted with the DataFrame:\n",
    "        - print out the name of the columns\n",
    "        - print out the first few lines of the DataFrame\n",
    "        - change the column headers \n",
    "        - print out the new column headers\n",
    "    - Convert the P wave arrival from minutes and seconds to decimal minutes. Add the P wave arrival, in decimal minutes, to the data frame\n",
    "    - Calculate the S wave arrival by:\n",
    "        1. Converting S-P to decimal minutes\n",
    "        2. Adding P in decimal minutes to S-P in decimal minutes\n",
    "     \n",
    "3. Additional matplotlib.pyplot practice\n",
    "    - Plot Degrees against decimal minutes for both the Primary wave arrival and the Secondary wave arrival\n",
    "    - Color the primary wave green and label it \"P wave\"\n",
    "    - Color the shear wave blue and label it \"Shear wave\"\n",
    "    - Add a legend in the lower right hand corner of your figure \n",
    "    - Add a title to your figure \n",
    "    - Add a label to the x and y axis \n",
    "    - Save the figure\n",
    "    - Remove the legend from your plot. Insert the text  \"Primary wave\" and \"Shear wave\" above the appropriate line\n",
    "    - Save the new figure"
   ]
  },
  {
   "cell_type": "markdown",
   "metadata": {},
   "source": [
    "<div class=\"alert alert-block alert-danger\"><b> \n",
    "To receive full credit, your notebook:\n",
    "    \n",
    "1. Must have the correct name;\n",
    "2. Must be fully commented;\n",
    "3. Must run as expected;\n",
    "4. Must be submitted into Canvas before the deadline.\n",
    "</b></div>"
   ]
  }
 ],
 "metadata": {
  "kernelspec": {
   "display_name": "Python 3",
   "language": "python",
   "name": "python3"
  },
  "language_info": {
   "codemirror_mode": {
    "name": "ipython",
    "version": 3
   },
   "file_extension": ".py",
   "mimetype": "text/x-python",
   "name": "python",
   "nbconvert_exporter": "python",
   "pygments_lexer": "ipython3",
   "version": "3.8.3"
  }
 },
 "nbformat": 4,
 "nbformat_minor": 2
}
