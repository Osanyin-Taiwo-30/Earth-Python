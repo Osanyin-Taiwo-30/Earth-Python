{
 "cells": [
  {
   "cell_type": "markdown",
   "metadata": {},
   "source": [
    "# SIO113: Practice Problems\n",
    "### Lecture 26"
   ]
  },
  {
   "cell_type": "markdown",
   "metadata": {},
   "source": [
    "<div class=\"alert alert-block alert-info\"><b>Preliminaries</b>\n",
    "    \n",
    "- Rename this notebook using the format YourLastname_FirstInitial_PP_LectureNumber.ipynb.\n",
    "    \n",
    "- Answer each question in a separate cell.\n",
    "</div>"
   ]
  },
  {
   "cell_type": "markdown",
   "metadata": {},
   "source": [
    "## 1. Eccentricity\n",
    "- Read in the insoltation data in the file 'Datasets/IceAges/INSOLN.LA2004.BTL.100.csv' as a Pandas DataFrame.\n",
    "- Calculate the frequencies and powers for the Eccentricity data over the the last 1 Ma \n",
    "- Plot the periodogram of Eccentricity\n",
    "    - The plot should have a log y-scale and a linear x-scale \n",
    "    - Set the limits of the x-axis to .001 and .06\n",
    "    - Set the limits of the y-axis to .00001 and .1\n",
    "    - Add labels to the axes\n",
    "    - Add a vertical line at 1/100 (the frequency of eccentricity)\n",
    "    - Add the text \"100 kyr\" above the vertical line\n",
    "    \n",
    "## 2. Wavelets\n",
    "- Filter the LR04 data set for the time interval older than 800 kyr.\n",
    "- Repeat the wavelet analysis\n",
    "- Try different color maps to enhance the obliquity and precessional frequencies. See: https://matplotlib.org/3.1.0/tutorials/colors/colormaps.html for ideas on color maps.  Which one works the best?"
   ]
  },
  {
   "cell_type": "markdown",
   "metadata": {},
   "source": [
    "<div class=\"alert alert-block alert-danger\"><b> \n",
    "To receive full credit, your notebook:\n",
    "    \n",
    "1. Must have the correct name;\n",
    "2. Must be fully commented;\n",
    "3. Must run as expected;\n",
    "4. Must be submitted into Canvas before the deadline.\n",
    "</b></div>"
   ]
  }
 ],
 "metadata": {
  "kernelspec": {
   "display_name": "Python 3",
   "language": "python",
   "name": "python3"
  },
  "language_info": {
   "codemirror_mode": {
    "name": "ipython",
    "version": 3
   },
   "file_extension": ".py",
   "mimetype": "text/x-python",
   "name": "python",
   "nbconvert_exporter": "python",
   "pygments_lexer": "ipython3",
   "version": "3.8.3"
  }
 },
 "nbformat": 4,
 "nbformat_minor": 2
}
