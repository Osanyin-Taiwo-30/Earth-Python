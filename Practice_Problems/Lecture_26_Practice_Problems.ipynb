{
 "cells": [
  {
   "cell_type": "markdown",
   "metadata": {},
   "source": [
    "# SIO 113: Practice Problems\n",
    "### Lecture 26"
   ]
  },
  {
   "cell_type": "markdown",
   "metadata": {},
   "source": [
    "<div class=\"alert alert-block alert-info\"><b>Preliminaries</b>\n",
    "    \n",
    "- Rename this notebook using the format YourLastname_FirstInitial_PP_LectureNumber.ipynb.\n",
    "    \n",
    "- Answer each question in a separate cell.\n",
    "</div>"
   ]
  },
  {
   "cell_type": "markdown",
   "metadata": {},
   "source": [
    "### 1. mplot3d\n",
    "\n",
    "1. Import the package `random` from NumPy (`from numpy import random`) and use it to generate 3 arrays- each with 10 random values. \n",
    "2. Plot the points using the `Axes3D` `.add_subplot()` to make a 3D figure object. Then use the  method `ax.scatter()` to plot the data as blue dots.  \n",
    "3. Label your axes.  "
   ]
  },
  {
   "cell_type": "markdown",
   "metadata": {},
   "source": [
    "### 2. mplot3d and subduction zones\n",
    "\n",
    "Modify the 3D figure of the earthquakes around the Marianas Trench.\n",
    "\n",
    "1. Read in the data in `Datasets/EarthquakeLocations/last5Years.csv` as a pandas `DataFrame` and filter with the box as in the lecture. \n",
    "2. Look at the columns in the filtered `DataFrame` named `box`.\n",
    "3. What is the magnitude of the largest earthquake? What is the smallest earthquake?\n",
    "4. Change the color to blue and set the opacity using the `alpha` keyword.\n",
    "5. Make an array of `mag_sizes` from the `'mag'` column. Compute `energy = 32**mag_sizes` (to be proportional to the energy released). \n",
    "6. Normalize the `energy` array by its mean value, then multiply the array by 10.\n",
    "7. Set the symbol size in the 3D figure, to be proportional to your `energy` array. \n",
    "    - **Hint:** use the keyword argument `s` to set the marker size."
   ]
  },
  {
   "cell_type": "markdown",
   "metadata": {},
   "source": [
    "<div class=\"alert alert-block alert-danger\"><b> \n",
    "To receive full credit, your notebook:\n",
    "    \n",
    "1. Must have the correct name;\n",
    "2. Must be fully commented;\n",
    "3. Must run as expected;\n",
    "4. Must be submitted into Canvas before the deadline.\n",
    "</b></div>"
   ]
  }
 ],
 "metadata": {
  "kernelspec": {
   "display_name": "Python 3",
   "language": "python",
   "name": "python3"
  },
  "language_info": {
   "codemirror_mode": {
    "name": "ipython",
    "version": 3
   },
   "file_extension": ".py",
   "mimetype": "text/x-python",
   "name": "python",
   "nbconvert_exporter": "python",
   "pygments_lexer": "ipython3",
   "version": "3.8.3"
  }
 },
 "nbformat": 4,
 "nbformat_minor": 2
}
