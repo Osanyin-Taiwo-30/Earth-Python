{
 "cells": [
  {
   "cell_type": "markdown",
   "metadata": {},
   "source": [
    "# SIO 113: Practice Problems\n",
    "### Lecture 22"
   ]
  },
  {
   "cell_type": "markdown",
   "metadata": {},
   "source": [
    "<div class=\"alert alert-block alert-info\"><b>Preliminaries</b>\n",
    "    \n",
    "- Rename this notebook using the format YourLastname_FirstInitial_PP_LectureNumber.ipynb.\n",
    "    \n",
    "- Answer each question in a separate cell.\n",
    "</div>"
   ]
  },
  {
   "cell_type": "markdown",
   "metadata": {},
   "source": [
    "## 1. Clustering Ocean Data\n",
    "- The World Ocean Atlas 2013 (https://www.nodc.noaa.gov/OC5/woa13/woa13data.html) provides long term average ocean climate data across the world. Using clustering analysis on these data can help us understand more about ocean circulation and productivity. \n",
    "\n",
    "- Open the file `Datasets/WOA_Surface_Data.csv` as a Pandas `DataFrame`.\n",
    "- Drop all the rows that have nan values from your `DataFrame`.\n",
    "- Use your Pandas `DataFrame` to make a **NumPy** array of all the data except for the latitude and longitude columns. Look at Lecture 12 for help.\n",
    "- Use `KMeans()` from `sklearn.cluster` to perform clustering analysis on the data points. Start by using 10 clusters. \n",
    "- Make a plot of the world's coastlines using **cartopy** and the `PlateCarree` projection.\n",
    "- Plot the ocean data on your plot using `plt.scatter()`. Set the color to the clusters that you got from your  KMeans algorithm. Use the `'nipy_spectral'` colormap to easily see your clusters.\n",
    "- Make the markers squares and change the marker size to make the plot easier to look at.\n",
    "\n",
    "- Now make the same plot again but using 20 clusters in your `Kmeans()` algorithm. \n",
    "\n",
    "- Similar work has been done by ESRI, they are calling their clusters 'Ecological Marine Units', but they did this in 3D, looking at all depths in the ocean. If you're interested, compare their clusters to yours at https://livingatlas.arcgis.com/emu/"
   ]
  },
  {
   "cell_type": "markdown",
   "metadata": {},
   "source": [
    "<div class=\"alert alert-block alert-danger\"><b> \n",
    "To receive full credit, your notebook:\n",
    "    \n",
    "1. Must have the correct name;\n",
    "2. Must be fully commented;\n",
    "3. Must run as expected;\n",
    "4. Must be submitted into Canvas before the deadline.\n",
    "</b></div>"
   ]
  }
 ],
 "metadata": {
  "kernelspec": {
   "display_name": "Python 3",
   "language": "python",
   "name": "python3"
  },
  "language_info": {
   "codemirror_mode": {
    "name": "ipython",
    "version": 3
   },
   "file_extension": ".py",
   "mimetype": "text/x-python",
   "name": "python",
   "nbconvert_exporter": "python",
   "pygments_lexer": "ipython3",
   "version": "3.8.3"
  }
 },
 "nbformat": 4,
 "nbformat_minor": 4
}
