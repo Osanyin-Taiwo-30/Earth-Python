{
 "cells": [
  {
   "cell_type": "markdown",
   "metadata": {},
   "source": [
    "# SIO 113: Practice Problems\n",
    "### Lecture 3"
   ]
  },
  {
   "cell_type": "markdown",
   "metadata": {},
   "source": [
    "<div class=\"alert alert-block alert-info\"><b>Preliminaries</b>\n",
    "    \n",
    "- Rename this notebook using the format YourLastname_FirstInitial_PP_03. For example, <b>May_D_PP_03</b>.\n",
    "    \n",
    "- Answer each question in a separate cell.\n",
    "</div>"
   ]
  },
  {
   "cell_type": "markdown",
   "metadata": {},
   "source": [
    "### Oceans and Continents\n",
    "1.  Conceptual \n",
    "     - Give an example of when you would  use a `set`.\n",
    "     - Give an example of when you would use a `tuple`.\n",
    "     -  Give an example of when you would use `range()`. \n",
    "2.  Lists\n",
    "     -  Create an empty list called `oceans`.\n",
    "     -  Append all the oceans to the list.  \n",
    "     -  Print the ocean at **index** 3 in the list.\n",
    "     -  Print the last element of your list. \n",
    "     -  Make a shallow copy of `oceans` called `seas` and a deep copy of `oceans` called  `big_water`. Try to modify the copies. Verify that the shallow copy refers to the same underlying object while the deep copy makes an independent object.  \n",
    "     -  Apply the method `.sort()` to one of your copies and then print the copy.\n",
    "3. The `range()` function\n",
    "     -  Use the function `range()` to create a list with a  “range” of numbers from 0 up to (but not including) 100, increment by any number (less than 100) and print the results.\n",
    "4. Tuples\n",
    "     -  Create a tuple called `continents` with the continents as elements.\n",
    "     -  Attempt to change the second **element** (not index) in place (this should throw an error). \n",
    "     -  Print out the third **element** (not index)  in the tuple.\n",
    "5. Sets\n",
    "     -  Create a set from the `oceans` list you created earlier.\n",
    "     -  Print out the set of oceans."
   ]
  },
  {
   "cell_type": "markdown",
   "metadata": {},
   "source": [
    "<div class=\"alert alert-block alert-danger\"><b> \n",
    "To receive full credit, your notebook:\n",
    "    \n",
    "1. Must have the correct name;\n",
    "2. Must be fully commented;\n",
    "3. Must run as expected;\n",
    "4. Must be submitted into Canvas before the deadline.\n",
    "</b></div>"
   ]
  }
 ],
 "metadata": {
  "kernelspec": {
   "display_name": "Python 3",
   "language": "python",
   "name": "python3"
  },
  "language_info": {
   "codemirror_mode": {
    "name": "ipython",
    "version": 3
   },
   "file_extension": ".py",
   "mimetype": "text/x-python",
   "name": "python",
   "nbconvert_exporter": "python",
   "pygments_lexer": "ipython3",
   "version": "3.8.3"
  }
 },
 "nbformat": 4,
 "nbformat_minor": 2
}
