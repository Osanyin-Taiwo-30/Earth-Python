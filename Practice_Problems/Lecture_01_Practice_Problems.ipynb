{
 "cells": [
  {
   "cell_type": "markdown",
   "metadata": {},
   "source": [
    "# SIO 113: Practice Problems\n",
    "### Lecture 1"
   ]
  },
  {
   "cell_type": "markdown",
   "metadata": {},
   "source": [
    "<div class=\"alert alert-block alert-info\"><b>Preliminaries</b>    \n",
    "\n",
    "- Launch the Jupyter notebook environment.\n",
    "- Create a new notebook using the format YourLastname_FirstInitial_PP_01. For example, <b>May_D_PP_01</b>.\n",
    "- Answer each question in a separate cell.\n",
    "</div>"
   ]
  },
  {
   "cell_type": "markdown",
   "metadata": {},
   "source": [
    "<div class=\"alert alert-block alert-success\"><b> \n",
    "You do not have to submit this problem set to Canvas. \n",
    "</b>\n",
    "    \n",
    "That said, please complete it - it is the foundation of every single lecture and course assessments.\n",
    "</div>"
   ]
  },
  {
   "cell_type": "markdown",
   "metadata": {},
   "source": [
    "1. Practice with inserting cells\n",
    "    - Insert a cell. \n",
    "    - Change it to ‘Markdown’ and type some notes. You can just type most things, but special features like Section headers, bullets, numbered lists and other fun things require special formatting. For a pretty good explanation see this link: https://github.com/adam-p/markdown-here/wiki/Markdown-Cheatsheet.\n",
    "    - Run the cell to typeset your notes. If you want to change them, just double click on the cell, type away, then 'run' it again.\n",
    "\n",
    "\n",
    "2. Practice with Markdown cells\n",
    "    - If you see plain text in one of the cells in the lecture notebooks, just double click on it and all will be revealed. Try double clicking on THIS cell to see how to make bulleted lists.\n",
    "    - Then run it.\n",
    "\n",
    "\n",
    "3. Practice with code cells\n",
    "    - Insert another cell, keeping it the default of Code.\n",
    "    - Type in the cell: `print(\"Hello World\")`.\n",
    "    - Run that cell.\n",
    "    \n",
    "    \n",
    "4. Commands within a Jupyter notebook\n",
    "    - Import the `os` module by running the cell below (don't worry about what this is doing just yet).\n",
    "    - Create a  directory called `Practice`.\n",
    "    - List the contents of the current directory. \n",
    "    - Remove the directory `Practice`. \n",
    "    - List the contents of the current directory again."
   ]
  },
  {
   "cell_type": "code",
   "execution_count": null,
   "metadata": {},
   "outputs": [],
   "source": [
    "# Code snippet for use with Q4\n",
    "import os"
   ]
  },
  {
   "cell_type": "code",
   "execution_count": null,
   "metadata": {},
   "outputs": [],
   "source": []
  },
  {
   "cell_type": "markdown",
   "metadata": {},
   "source": [
    "5. Download your notebook by clicking on 'File' and selecting 'Download'. This will put it in your downloads folder. Practice uploading your notebook and verify it appears in your interactive session."
   ]
  }
 ],
 "metadata": {
  "kernelspec": {
   "display_name": "Python 3 (ipykernel)",
   "language": "python",
   "name": "python3"
  },
  "language_info": {
   "codemirror_mode": {
    "name": "ipython",
    "version": 3
   },
   "file_extension": ".py",
   "mimetype": "text/x-python",
   "name": "python",
   "nbconvert_exporter": "python",
   "pygments_lexer": "ipython3",
   "version": "3.10.8"
  }
 },
 "nbformat": 4,
 "nbformat_minor": 2
}
