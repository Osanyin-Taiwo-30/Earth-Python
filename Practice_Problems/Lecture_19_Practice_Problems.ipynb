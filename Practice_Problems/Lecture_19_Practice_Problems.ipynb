{
 "cells": [
  {
   "cell_type": "markdown",
   "metadata": {},
   "source": [
    "# SIO 113: Practice Problems\n",
    "### Lecture 19"
   ]
  },
  {
   "cell_type": "markdown",
   "metadata": {},
   "source": [
    "<div class=\"alert alert-block alert-info\"><b>Preliminaries</b>\n",
    "    \n",
    "- Rename this notebook using the format YourLastname_FirstInitial_PP_LectureNumber.ipynb.\n",
    "    \n",
    "- Answer each question in a separate cell.\n",
    "</div>"
   ]
  },
  {
   "cell_type": "markdown",
   "metadata": {
    "collapsed": true
   },
   "source": [
    "**1. Rose diagrams**\n",
    "- NOAA collects wind directional data for the US which we can download and do whatever we like with it (decide whether or not to go sailing or surfing, for example).  We can also plot the data as a rose diagram.  :)\n",
    "-  We downloaded data for May 14, 2017 (Mother's day) from this search:  http://www.ndbc.noaa.gov/radial_search.php?lat1=33N&lon1=117W&uom=E&dist=250&ot=A&time=1 and reformatted the file as a CSV datafile in  `Datasets/WindDirections/wind.csv`.\n",
    "\n",
    "\n",
    "1. Read in the data as a **pandas** `DataFrame`.  Use the `df.head()` syntax (where `df` is the name of your wind `DataFrame`) to inspect the file first, then you can set the skiprows and/or header keywords appropriately.\n",
    "2. The wind directions are in the WDIR column. Use `df.dropna()` to get rid of the blank WDIR lines.\n",
    "3. Plot the WDIR data as a rose diagram."
   ]
  },
  {
   "cell_type": "markdown",
   "metadata": {},
   "source": [
    "**2. Equal angle nets**  \n",
    "\n",
    "Somebody measured the direction of the magnetic field at 33N and 117W for the last 10,000 years. Ok not really, but there are models of the secular variation of the field for this.\n",
    "\n",
    "1. Read in the data file `Datasets/GeomagneticDirections/dec_inc.csv`.\n",
    "2. Plot the declination (`Dec`) and inclination (`Inc`) data on an equal angle net as red symbols with black edges.  Declinations are azimuths and inclination are plunges."
   ]
  },
  {
   "cell_type": "markdown",
   "metadata": {},
   "source": [
    "**3. Equal area Nets**\n",
    "1. Re-plot the declination (`Dec`) and inclination (`Inc`) data from Question 2 (above) on an equal area net."
   ]
  },
  {
   "cell_type": "markdown",
   "metadata": {},
   "source": [
    "<div class=\"alert alert-block alert-danger\"><b> \n",
    "To receive full credit, your notebook:\n",
    "    \n",
    "1. Must have the correct name;\n",
    "2. Must be fully commented;\n",
    "3. Must run as expected;\n",
    "4. Must be submitted into Canvas before the deadline.\n",
    "</b></div>"
   ]
  }
 ],
 "metadata": {
  "kernelspec": {
   "display_name": "Python 3",
   "language": "python",
   "name": "python3"
  },
  "language_info": {
   "codemirror_mode": {
    "name": "ipython",
    "version": 3
   },
   "file_extension": ".py",
   "mimetype": "text/x-python",
   "name": "python",
   "nbconvert_exporter": "python",
   "pygments_lexer": "ipython3",
   "version": "3.8.3"
  }
 },
 "nbformat": 4,
 "nbformat_minor": 2
}
