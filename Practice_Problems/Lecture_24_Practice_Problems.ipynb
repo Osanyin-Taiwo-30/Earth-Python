{
 "cells": [
  {
   "cell_type": "markdown",
   "metadata": {},
   "source": [
    "# SIO 113: Practice Problems\n",
    "## Lecture 24"
   ]
  },
  {
   "cell_type": "markdown",
   "metadata": {},
   "source": [
    "<div class=\"alert alert-block alert-info\"><b>Preliminaries</b>\n",
    "    \n",
    "- Rename this notebook using the format YourLastname_FirstInitial_PP_LectureNumber.ipynb.\n",
    "    \n",
    "- Answer each question in a separate cell.\n",
    "</div>"
   ]
  },
  {
   "cell_type": "markdown",
   "metadata": {},
   "source": [
    "## Image compression using the SVD\n",
    "1. Load the image `Datasets/pca/death_valley_ca.jpg` using the `PIL` library, as we did in the Lecture notebook. This image is a 2022 satellite view of part of Death Valley, CA, from Google Earth. \n",
    "2. Use the `low_rank_approximation()` function from lecture to create low-rank approximations of the rgb bands of the image. Create approximations of rank `r=10`, `r=40`, and `r=120`. \n",
    "3. Plot your approximations with a title that includes the rank of the approximation and the %variability explained. \n",
    "4. Decide whether you are satisfied with your approximations - try out higher or lower rank approximations if you think it is necessary.\n",
    "5. Recombine your rank `r = 120` approximated red, green, and blue bands into an RGB image and save it as a .png file."
   ]
  },
  {
   "cell_type": "markdown",
   "metadata": {},
   "source": [
    "<div class=\"alert alert-block alert-danger\"><b> \n",
    "To receive full credit, your notebook:\n",
    "    \n",
    "1. Must have the correct name;\n",
    "2. Must be fully commented;\n",
    "3. Must run as expected;\n",
    "4. Must be submitted into Canvas before the deadline.\n",
    "</b></div>"
   ]
  }
 ],
 "metadata": {
  "kernelspec": {
   "display_name": "Python 3",
   "language": "python",
   "name": "python3"
  },
  "language_info": {
   "codemirror_mode": {
    "name": "ipython",
    "version": 3
   },
   "file_extension": ".py",
   "mimetype": "text/x-python",
   "name": "python",
   "nbconvert_exporter": "python",
   "pygments_lexer": "ipython3",
   "version": "3.8.3"
  }
 },
 "nbformat": 4,
 "nbformat_minor": 4
}
