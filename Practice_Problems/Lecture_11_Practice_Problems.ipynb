{
 "cells": [
  {
   "cell_type": "markdown",
   "metadata": {},
   "source": [
    "# SIO113: Practice Problems\n",
    "## Lecture 11"
   ]
  },
  {
   "cell_type": "markdown",
   "metadata": {},
   "source": [
    "<div class=\"alert alert-block alert-info\"><b>Preliminaries</b>\n",
    "    \n",
    "- Rename this notebook using the format YourLastname_FirstInitial_PP_11. For example, <b>Cych_B_PP_1</b>.\n",
    "    \n",
    "- Answer each question in a separate cell.\n",
    "</div>"
   ]
  },
  {
   "cell_type": "markdown",
   "metadata": {},
   "source": [
    "**1. Lambda functions**  \n",
    "1. Write a regular function `s` that takes one argument and returns the square of that argument.\n",
    "2. Write a `lambda` function called `square` that squares the input parameter.\n",
    "3. Call your function `s` with the value 4. Print the output.\n",
    "4. Call your function `square` with the value 4. Print the output."
   ]
  },
  {
   "cell_type": "markdown",
   "metadata": {},
   "source": [
    "**2. List comprehensions**  \n",
    "The following dictionary, `atomicNumbers`, has the atomic number of an element as the key and the element name as the value\n",
    "```python\n",
    "atomicNumbers = { 1:'H',   2:\"He\",  3: \"Li\", 4:\"Be\",  5:\"B\",   \\\n",
    "                  6:\"C\",   7: \"N\",  8:\"O\",   9:\"F\",   10:\"Ne\", \\\n",
    "                  11:\"Na\", 12:\"Mg\", 13:\"Al\", 14:\"Si\", 15:\"P\",  \\\n",
    "                  16:\"S\",  17:\"Cl\", 18:\"Ar\"}\n",
    "```  \n",
    "The following `list`, `lifeElements`, contains the atomic numbers essential for life\n",
    "```python\n",
    "lifeElements = [6, 1, 8, 7, 15, 16]\n",
    "```\n",
    "* Use a **list comprehension** to print out the names of the elements that are essential for life."
   ]
  },
  {
   "cell_type": "markdown",
   "metadata": {},
   "source": [
    "**3. Dictionary comprehensions**  \n",
    "The following list `elements` is a list of the first 18 elements in the periodic table\n",
    "```python\n",
    "elements = [\"H\",  \"He\", \"Li\", \"Be\", \"B\", \\\n",
    "            \"C\",  \"N\",  \"O\",  \"F\",  \"N\", \\\n",
    "            \"Na\", \"Mg\", \"Al\", \"Si\", \"P\", \\\n",
    "            \"S\",  \"Cl\", \"Ar\"]\n",
    "```\n",
    "1. Create a **dictionary comprehension** of the elements and their atomic number. The key is the element name while the value is the atomic number\n",
    "2. Print the resulting dictionary."
   ]
  },
  {
   "cell_type": "markdown",
   "metadata": {},
   "source": [
    "**4. Exceptions**  \n",
    "Consider the function you wrote in lecture practice problem 09 (PP09, question 2B) which computed the difference between longitudes (assume the inputs are in degrees). A longitude value (in degrees) should be restricted to the range $[-180, 180]$ - any valid outside this range will be considered as invalid.\n",
    "\n",
    "* Modify your function from PP09 question 2B to raise an error if either longitude input is invalid, i.e. outside of the range $[-180, 180]$. When raising the error, your error message should indicate which arg was invalid.  \n",
    "\n",
    "You should consult the webpage https://docs.python.org/3/library/exceptions.html, specificially the section \"Concrete exceptions\" to select, in your opinion, the most appropriate Python standard exception for the use-case we consider here. \n"
   ]
  },
  {
   "cell_type": "markdown",
   "metadata": {},
   "source": [
    "<div class=\"alert alert-block alert-danger\"><b> \n",
    "To receive full credit, your notebook:\n",
    "    \n",
    "1. Must have the correct name;\n",
    "2. Must be fully commented;\n",
    "3. Must run as expected;\n",
    "4. Must be submitted into Canvas before the deadline.\n",
    "</b></div>"
   ]
  }
 ],
 "metadata": {
  "kernelspec": {
   "display_name": "Python 3",
   "language": "python",
   "name": "python3"
  },
  "language_info": {
   "codemirror_mode": {
    "name": "ipython",
    "version": 3
   },
   "file_extension": ".py",
   "mimetype": "text/x-python",
   "name": "python",
   "nbconvert_exporter": "python",
   "pygments_lexer": "ipython3",
   "version": "3.8.3"
  }
 },
 "nbformat": 4,
 "nbformat_minor": 2
}
