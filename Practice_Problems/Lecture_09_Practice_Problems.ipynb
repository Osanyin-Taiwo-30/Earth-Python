{
 "cells": [
  {
   "cell_type": "markdown",
   "metadata": {},
   "source": [
    "# SIO113: Practice Problems\n",
    "## Lecture 9"
   ]
  },
  {
   "cell_type": "markdown",
   "metadata": {},
   "source": [
    "<div class=\"alert alert-block alert-info\"><b>Preliminaries</b>\n",
    "    \n",
    "- Rename this notebook using the format YourLastname_FirstInitial_PP_09. For example, <b>May_D_PP_09</b>.\n",
    "    \n",
    "- Answer each question in a separate cell.\n",
    "</div>"
   ]
  },
  {
   "cell_type": "markdown",
   "metadata": {},
   "source": [
    "<div class=\"alert alert-block alert-warning\"><b>Note:</b>\n",
    "In the following it is assumed that you imported the NumPy module into the following namespace\n",
    "    \n",
    "`\n",
    "import numpy as np\n",
    "`    \n",
    "</div>"
   ]
  },
  {
   "cell_type": "markdown",
   "metadata": {},
   "source": [
    "1. **Pandas: Methods and filters** \n",
    "  1. Import the file `Datasets/minutes_velocity.csv` into a Pandas `DataFrame`.\n",
    "  2. Find the median velocity from this `DataFrame` (use the function `Series.median()`). Print the median value.\n",
    "  3. Find the mean velocity (use the function `Series.mean()`). Print the mean value.\n",
    "  4. Filter your `DataFrame` to select all the velocities that fall between the median and mean using the 'and' conditional syntax. \n",
    "  5. Check your work: find the maximum and minimum velocities in the filtered data frame. Print the maximum and minimum values and compare them to the median and mean.\n",
    "2. **Functions**  \n",
    "  1. Write a function that takes latitudes (in degrees) and converts them to colatitudes (in radians).\n",
    "  2. Write a function, that takes two longitudes and returns the difference.\n",
    "  3. Re-write the function `great_circle()` that calls the two other functions and returns the  separation in degrees. (**Hint:** remember that NumPy assumes that the units are in radians).\n",
    "3. **Great circles**  \n",
    "  1. Use your new function to find the angular difference between where you were born and Pinyon Flat (**PF_lat = 33.3,PF_lon = -115.7**).\n",
    "  2. There are roughly 111 km in one degree, how many kilometers is the distance between your birthplace and Pinyon Flat?  Print the distance.\n",
    "4. **Formatting strings**  \n",
    "  1. Set a variable, `pi`,  to the value of `np.pi`.\n",
    "  2. Print the value of `pi`.\n",
    "  3. Format the value to have four significant digits.\n",
    "  4. Print out a sentence with the formatted value of `pi` in it.\n",
    "  5. Multiply `pi` by 50 and use the exponential form of string formatting to print out 4 significant digits."
   ]
  },
  {
   "cell_type": "markdown",
   "metadata": {},
   "source": [
    "<div class=\"alert alert-block alert-danger\"><b> \n",
    "To receive full credit, your notebook:\n",
    "    \n",
    "1. Must have the correct name;\n",
    "2. Must be fully commented;\n",
    "3. Must run as expected;\n",
    "4. Must be submitted into Canvas before the deadline.\n",
    "</b></div>"
   ]
  }
 ],
 "metadata": {
  "kernelspec": {
   "display_name": "Python 3",
   "language": "python",
   "name": "python3"
  },
  "language_info": {
   "codemirror_mode": {
    "name": "ipython",
    "version": 3
   },
   "file_extension": ".py",
   "mimetype": "text/x-python",
   "name": "python",
   "nbconvert_exporter": "python",
   "pygments_lexer": "ipython3",
   "version": "3.8.3"
  }
 },
 "nbformat": 4,
 "nbformat_minor": 2
}
