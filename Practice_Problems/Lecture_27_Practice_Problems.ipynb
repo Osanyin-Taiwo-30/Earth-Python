{
 "cells": [
  {
   "cell_type": "markdown",
   "metadata": {},
   "source": [
    "# SIO 113: Practice Problems\n",
    "### Lecture 27"
   ]
  },
  {
   "cell_type": "markdown",
   "metadata": {},
   "source": [
    "<div class=\"alert alert-block alert-info\"><b>Preliminaries</b>\n",
    "    \n",
    "- Rename this notebook using the format YourLastname_FirstInitial_PP_LectureNumber.ipynb.\n",
    "    \n",
    "- Answer each question in a separate cell.\n",
    "</div>"
   ]
  },
  {
   "cell_type": "markdown",
   "metadata": {},
   "source": [
    "All questions below require you use the data file for topograph.\n",
    "Read in the NetCDF file `Datasets/topo_ca.nc`."
   ]
  },
  {
   "cell_type": "markdown",
   "metadata": {},
   "source": [
    "**Question 1. 3D topography**\n",
    "\n",
    "Plot the topography as a surface using the matplotlib function `plot_surface()`.\n",
    "Label axis appropriately (provide units), and give you figure a title."
   ]
  },
  {
   "cell_type": "markdown",
   "metadata": {},
   "source": [
    "**Question 2. Topographic profiles**\n",
    "\n",
    "1. Create topographic profiles at the following longitude values: -120, -118, -116. The first point in each profile should correspond to the minimum latitude (32 degrees). Use 128 sample points along each transect and use the function scipy.interpolate.interpn() to create your profiles.\n",
    "2. Plot all profiles at -120, -118 and -116 on a single figure using a red, blue and green lines respectively. \n",
    "3. Label each line using the argument `label=\"MEANINGUL LABEL GOES HERE\"` to `plt.plot()`. Label the x and y axis, and include the appropriate units on each axis label. Make sure to call `plt.legend();` otherwise the legend will not get displayed."
   ]
  },
  {
   "cell_type": "markdown",
   "metadata": {},
   "source": [
    "**Question 3.**\n",
    "\n",
    "Compute the average land elevation.\n",
    "You should exclude bathymetry from your average. The answer should be given in kilometers."
   ]
  },
  {
   "cell_type": "markdown",
   "metadata": {},
   "source": [
    "**Question 4. Distance along a path**\n",
    "\n",
    "Consider the transect given by the longitude / latitude coordinates of the following two points:"
   ]
  },
  {
   "cell_type": "code",
   "execution_count": 2,
   "metadata": {},
   "outputs": [],
   "source": [
    "point_1 = (-120.0, 36.0)\n",
    "point_2 = (-118.0, 41.0)"
   ]
  },
  {
   "cell_type": "markdown",
   "metadata": {},
   "source": [
    "1. What is the along surface distance between point 1 and point 2?\n",
    "2. If you were to walk / hike / run from `point_1` to `point_2`, what is the peak-to-peak elevation you would have covered on your journey?\n",
    "\n",
    "Please indicate the units in your answers.\n",
    "You can use the approximation that 1 degree = 111.32 km.\n",
    "To obtain an accurate answer, be sure that you use a sufficiently large number of sample points along the transect. Given the raw data set has $600 \\times 660$ cells, your transect should use on the order of 1000 sample points."
   ]
  },
  {
   "cell_type": "markdown",
   "metadata": {},
   "source": [
    "<div class=\"alert alert-block alert-danger\"><b> \n",
    "To receive full credit, your notebook:\n",
    "    \n",
    "1. Must have the correct name;\n",
    "2. Must be fully commented;\n",
    "3. Must run as expected;\n",
    "4. Must be submitted into Canvas before the deadline.\n",
    "</b></div>"
   ]
  }
 ],
 "metadata": {
  "kernelspec": {
   "display_name": "Python 3",
   "language": "python",
   "name": "python3"
  },
  "language_info": {
   "codemirror_mode": {
    "name": "ipython",
    "version": 3
   },
   "file_extension": ".py",
   "mimetype": "text/x-python",
   "name": "python",
   "nbconvert_exporter": "python",
   "pygments_lexer": "ipython3",
   "version": "3.8.3"
  }
 },
 "nbformat": 4,
 "nbformat_minor": 2
}
