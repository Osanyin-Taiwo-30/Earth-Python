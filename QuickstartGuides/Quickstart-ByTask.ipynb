{
 "cells": [
  {
   "cell_type": "markdown",
   "metadata": {},
   "source": [
    "# Python Quick Start Guide (by task)\n",
    "\n",
    "*Dave A. May (dmay@ucsd.edu)*"
   ]
  },
  {
   "cell_type": "markdown",
   "metadata": {},
   "source": [
    "## Contents\n",
    "1. [Reading a file](#sec-file)\n",
    "  - ascii, binary, structured, CSV, Excel, NetCDF, HDF5, JSON, XML\n",
    "2. [Sorting data](#sec-sort)\n",
    "3. [File system manipulation](#sec-filesys)\n",
    "  - Dealing with paths\n",
    "  - Report, create and remove directories\n",
    "3. [Interacting with the operating system](#sec-os)\n",
    "  - Executing Unix commands\n",
    "  - Changing your environment\n",
    "4. [Interpolation](#sec-interpolation)\n",
    "  - Interpolate to improve `pcolormesh()` result\n",
    "5. [Visualizing data](#sec-viz)\n",
    "  - Working with VTK files\n",
    "  - Unstructured point clouds\n",
    "6. Sparse linear algebra\n",
    "7. Solving systems of linear equations"
   ]
  },
  {
   "cell_type": "markdown",
   "metadata": {},
   "source": [
    "<a id='sec-file'></a>"
   ]
  },
  {
   "cell_type": "markdown",
   "metadata": {},
   "source": [
    "----\n",
    "## Reading a file"
   ]
  },
  {
   "cell_type": "markdown",
   "metadata": {},
   "source": [
    "Before attempting to even open a file to read, we should know what the file type actually is, or more over what representation of the data is used within the file (for example ascii versus binary).\n",
    "You can attempt to determine this using the package `mimetypes` and the method `guess_type()`."
   ]
  },
  {
   "cell_type": "code",
   "execution_count": 1,
   "metadata": {},
   "outputs": [
    {
     "name": "stdout",
     "output_type": "stream",
     "text": [
      "('text/plain', None)\n",
      "('application/x-netcdf', None)\n"
     ]
    }
   ],
   "source": [
    "import mimetypes\n",
    "\n",
    "file_name = 'sample_datasets/DeltaTime.txt'\n",
    "mime = mimetypes.guess_type(file_name)\n",
    "print(mime)\n",
    "\n",
    "file_name = 'sample_datasets/data.nc'\n",
    "mime = mimetypes.guess_type(file_name)\n",
    "print(mime)"
   ]
  },
  {
   "cell_type": "markdown",
   "metadata": {},
   "source": [
    "Once you know what the file contents is, you can ask how to read the file contents."
   ]
  },
  {
   "cell_type": "markdown",
   "metadata": {},
   "source": [
    "### Plain text file (ascii, human readable)"
   ]
  },
  {
   "cell_type": "markdown",
   "metadata": {},
   "source": [
    "To read an entire text file into `data`, do this"
   ]
  },
  {
   "cell_type": "code",
   "execution_count": 2,
   "metadata": {},
   "outputs": [],
   "source": [
    "file_name = 'sample_datasets/DeltaTime.txt'\n",
    "with open(file_name,'r') as fp:\n",
    "    data = fp.readlines()"
   ]
  },
  {
   "cell_type": "markdown",
   "metadata": {},
   "source": [
    "If you just wanted to skim the file, maybe just to see what the header might look like, maybe you don't want to load the entire contents but just read the first 10 lines. You might try this."
   ]
  },
  {
   "cell_type": "code",
   "execution_count": 3,
   "metadata": {},
   "outputs": [
    {
     "name": "stdout",
     "output_type": "stream",
     "text": [
      "['https://earthquake.usgs.gov/learn/topics/ttgraph.php\\n', 'Delta Time of P  S-P Time\\n', '  Deg   M   S     M   S\\n', '  0.0   0   5.4   0   4.0\\n', '  0.5   0  10.6   0   7.8\\n', '  1.0   0  17.7   0  13.5\\n', '  1.5   0  24.6   0  19.0\\n', '  2.0   0  31.4   0  24.4\\n', '  2.5   0  38.3   0  29.9\\n', '  3.0   0  45.2   0  35.4\\n']\n"
     ]
    }
   ],
   "source": [
    "file_name = 'sample_datasets/DeltaTime.txt'\n",
    "with open(file_name,'r') as fp:\n",
    "    print(fp.readlines()[0:10])"
   ]
  },
  {
   "cell_type": "markdown",
   "metadata": {},
   "source": [
    "Actually this first reads the entire file and then simpy reports the first 10 lines. If you want to only read 10 lines (the file might be massive), do this"
   ]
  },
  {
   "cell_type": "code",
   "execution_count": 4,
   "metadata": {},
   "outputs": [
    {
     "name": "stdout",
     "output_type": "stream",
     "text": [
      "['https://earthquake.usgs.gov/learn/topics/ttgraph.php\\n', 'Delta Time of P  S-P Time\\n', '  Deg   M   S     M   S\\n', '  0.0   0   5.4   0   4.0\\n', '  0.5   0  10.6   0   7.8\\n', '  1.0   0  17.7   0  13.5\\n', '  1.5   0  24.6   0  19.0\\n', '  2.0   0  31.4   0  24.4\\n', '  2.5   0  38.3   0  29.9\\n', '  3.0   0  45.2   0  35.4\\n']\n"
     ]
    }
   ],
   "source": [
    "file_name = 'sample_datasets/DeltaTime.txt'\n",
    "with open(file_name,'r') as fp:\n",
    "    head = [next(fp) for x in range(10)]\n",
    "    print(head)"
   ]
  },
  {
   "cell_type": "markdown",
   "metadata": {},
   "source": [
    "### Structured file\n",
    "\n",
    "If each row in the text file has the same number of values, you can use `numpy.loadtxt()`.\n",
    "```python \n",
    "numpy.loadtxt(fname, dtype=<class 'float'>, comments='#', delimiter=None, converters=None, skiprows=0, usecols=None, unpack=False, ndmin=0, encoding='bytes', max_rows=None, *, like=None)\n",
    "```\n",
    "\n",
    "A more sophisticated version is `numpy.genfromtext()`.\n",
    "```python\n",
    "numpy.genfromtxt(fname, dtype=<class 'float'>, comments='#', delimiter=None, skip_header=0, skip_footer=0, converters=None, missing_values=None, filling_values=None, usecols=None, names=None, excludelist=None, deletechars=\" !#$%&'()*+, -./:;<=>?@[\\\\]^{|}~\", replace_space='_', autostrip=False, case_sensitive=True, defaultfmt='f%i', unpack=None, usemask=False, loose=True, invalid_raise=True, max_rows=None, encoding='bytes', *, like=None)\n",
    "```\n"
   ]
  },
  {
   "cell_type": "markdown",
   "metadata": {},
   "source": [
    "### CSV file"
   ]
  },
  {
   "cell_type": "markdown",
   "metadata": {},
   "source": [
    "CSV files typically have the extension `.csv`. \n",
    "To load a basic CSV file, either of the methods `numpy.genfromtext()` or `numpy.loadtxt()` from the `numpy` package may be appropriate. \n",
    "However, if the CSV file is complicated, these basic loaders may fail.\n",
    "The `pandas` package provides a sophisticated CSV reader which should be able to load any valid CSV file.\n",
    "The method is called `pandas.read_csv()`.\n",
    "\n",
    "Whenever reading CSV files, you will have to provide the method being used to laod the file information about the \"header\". The \"header\" provides meta data at the top of the file and provides information related to the contents of the file. Usually the header identifies what the data in each column represnts."
   ]
  },
  {
   "cell_type": "code",
   "execution_count": 5,
   "metadata": {},
   "outputs": [],
   "source": [
    "import pandas as pd"
   ]
  },
  {
   "cell_type": "code",
   "execution_count": 6,
   "metadata": {},
   "outputs": [
    {
     "name": "stdout",
     "output_type": "stream",
     "text": [
      "Help on function read_csv in module pandas.io.parsers:\n",
      "\n",
      "read_csv(filepath_or_buffer: Union[str, pathlib.Path, IO[~AnyStr]], sep=',', delimiter=None, header='infer', names=None, index_col=None, usecols=None, squeeze=False, prefix=None, mangle_dupe_cols=True, dtype=None, engine=None, converters=None, true_values=None, false_values=None, skipinitialspace=False, skiprows=None, skipfooter=0, nrows=None, na_values=None, keep_default_na=True, na_filter=True, verbose=False, skip_blank_lines=True, parse_dates=False, infer_datetime_format=False, keep_date_col=False, date_parser=None, dayfirst=False, cache_dates=True, iterator=False, chunksize=None, compression='infer', thousands=None, decimal: str = '.', lineterminator=None, quotechar='\"', quoting=0, doublequote=True, escapechar=None, comment=None, encoding=None, dialect=None, error_bad_lines=True, warn_bad_lines=True, delim_whitespace=False, low_memory=True, memory_map=False, float_precision=None)\n",
      "    Read a comma-separated values (csv) file into DataFrame.\n",
      "    \n",
      "    Also supports optionally iterating or breaking of the file\n",
      "    into chunks.\n",
      "    \n",
      "    Additional help can be found in the online docs for\n",
      "    `IO Tools <https://pandas.pydata.org/pandas-docs/stable/user_guide/io.html>`_.\n",
      "    \n",
      "    Parameters\n",
      "    ----------\n",
      "    filepath_or_buffer : str, path object or file-like object\n",
      "        Any valid string path is acceptable. The string could be a URL. Valid\n",
      "        URL schemes include http, ftp, s3, and file. For file URLs, a host is\n",
      "        expected. A local file could be: file://localhost/path/to/table.csv.\n",
      "    \n",
      "        If you want to pass in a path object, pandas accepts any ``os.PathLike``.\n",
      "    \n",
      "        By file-like object, we refer to objects with a ``read()`` method, such as\n",
      "        a file handler (e.g. via builtin ``open`` function) or ``StringIO``.\n",
      "    sep : str, default ','\n",
      "        Delimiter to use. If sep is None, the C engine cannot automatically detect\n",
      "        the separator, but the Python parsing engine can, meaning the latter will\n",
      "        be used and automatically detect the separator by Python's builtin sniffer\n",
      "        tool, ``csv.Sniffer``. In addition, separators longer than 1 character and\n",
      "        different from ``'\\s+'`` will be interpreted as regular expressions and\n",
      "        will also force the use of the Python parsing engine. Note that regex\n",
      "        delimiters are prone to ignoring quoted data. Regex example: ``'\\r\\t'``.\n",
      "    delimiter : str, default ``None``\n",
      "        Alias for sep.\n",
      "    header : int, list of int, default 'infer'\n",
      "        Row number(s) to use as the column names, and the start of the\n",
      "        data.  Default behavior is to infer the column names: if no names\n",
      "        are passed the behavior is identical to ``header=0`` and column\n",
      "        names are inferred from the first line of the file, if column\n",
      "        names are passed explicitly then the behavior is identical to\n",
      "        ``header=None``. Explicitly pass ``header=0`` to be able to\n",
      "        replace existing names. The header can be a list of integers that\n",
      "        specify row locations for a multi-index on the columns\n",
      "        e.g. [0,1,3]. Intervening rows that are not specified will be\n",
      "        skipped (e.g. 2 in this example is skipped). Note that this\n",
      "        parameter ignores commented lines and empty lines if\n",
      "        ``skip_blank_lines=True``, so ``header=0`` denotes the first line of\n",
      "        data rather than the first line of the file.\n",
      "    names : array-like, optional\n",
      "        List of column names to use. If the file contains a header row,\n",
      "        then you should explicitly pass ``header=0`` to override the column names.\n",
      "        Duplicates in this list are not allowed.\n",
      "    index_col : int, str, sequence of int / str, or False, default ``None``\n",
      "      Column(s) to use as the row labels of the ``DataFrame``, either given as\n",
      "      string name or column index. If a sequence of int / str is given, a\n",
      "      MultiIndex is used.\n",
      "    \n",
      "      Note: ``index_col=False`` can be used to force pandas to *not* use the first\n",
      "      column as the index, e.g. when you have a malformed file with delimiters at\n",
      "      the end of each line.\n",
      "    usecols : list-like or callable, optional\n",
      "        Return a subset of the columns. If list-like, all elements must either\n",
      "        be positional (i.e. integer indices into the document columns) or strings\n",
      "        that correspond to column names provided either by the user in `names` or\n",
      "        inferred from the document header row(s). For example, a valid list-like\n",
      "        `usecols` parameter would be ``[0, 1, 2]`` or ``['foo', 'bar', 'baz']``.\n",
      "        Element order is ignored, so ``usecols=[0, 1]`` is the same as ``[1, 0]``.\n",
      "        To instantiate a DataFrame from ``data`` with element order preserved use\n",
      "        ``pd.read_csv(data, usecols=['foo', 'bar'])[['foo', 'bar']]`` for columns\n",
      "        in ``['foo', 'bar']`` order or\n",
      "        ``pd.read_csv(data, usecols=['foo', 'bar'])[['bar', 'foo']]``\n",
      "        for ``['bar', 'foo']`` order.\n",
      "    \n",
      "        If callable, the callable function will be evaluated against the column\n",
      "        names, returning names where the callable function evaluates to True. An\n",
      "        example of a valid callable argument would be ``lambda x: x.upper() in\n",
      "        ['AAA', 'BBB', 'DDD']``. Using this parameter results in much faster\n",
      "        parsing time and lower memory usage.\n",
      "    squeeze : bool, default False\n",
      "        If the parsed data only contains one column then return a Series.\n",
      "    prefix : str, optional\n",
      "        Prefix to add to column numbers when no header, e.g. 'X' for X0, X1, ...\n",
      "    mangle_dupe_cols : bool, default True\n",
      "        Duplicate columns will be specified as 'X', 'X.1', ...'X.N', rather than\n",
      "        'X'...'X'. Passing in False will cause data to be overwritten if there\n",
      "        are duplicate names in the columns.\n",
      "    dtype : Type name or dict of column -> type, optional\n",
      "        Data type for data or columns. E.g. {'a': np.float64, 'b': np.int32,\n",
      "        'c': 'Int64'}\n",
      "        Use `str` or `object` together with suitable `na_values` settings\n",
      "        to preserve and not interpret dtype.\n",
      "        If converters are specified, they will be applied INSTEAD\n",
      "        of dtype conversion.\n",
      "    engine : {'c', 'python'}, optional\n",
      "        Parser engine to use. The C engine is faster while the python engine is\n",
      "        currently more feature-complete.\n",
      "    converters : dict, optional\n",
      "        Dict of functions for converting values in certain columns. Keys can either\n",
      "        be integers or column labels.\n",
      "    true_values : list, optional\n",
      "        Values to consider as True.\n",
      "    false_values : list, optional\n",
      "        Values to consider as False.\n",
      "    skipinitialspace : bool, default False\n",
      "        Skip spaces after delimiter.\n",
      "    skiprows : list-like, int or callable, optional\n",
      "        Line numbers to skip (0-indexed) or number of lines to skip (int)\n",
      "        at the start of the file.\n",
      "    \n",
      "        If callable, the callable function will be evaluated against the row\n",
      "        indices, returning True if the row should be skipped and False otherwise.\n",
      "        An example of a valid callable argument would be ``lambda x: x in [0, 2]``.\n",
      "    skipfooter : int, default 0\n",
      "        Number of lines at bottom of file to skip (Unsupported with engine='c').\n",
      "    nrows : int, optional\n",
      "        Number of rows of file to read. Useful for reading pieces of large files.\n",
      "    na_values : scalar, str, list-like, or dict, optional\n",
      "        Additional strings to recognize as NA/NaN. If dict passed, specific\n",
      "        per-column NA values.  By default the following values are interpreted as\n",
      "        NaN: '', '#N/A', '#N/A N/A', '#NA', '-1.#IND', '-1.#QNAN', '-NaN', '-nan',\n",
      "        '1.#IND', '1.#QNAN', '<NA>', 'N/A', 'NA', 'NULL', 'NaN', 'n/a',\n",
      "        'nan', 'null'.\n",
      "    keep_default_na : bool, default True\n",
      "        Whether or not to include the default NaN values when parsing the data.\n",
      "        Depending on whether `na_values` is passed in, the behavior is as follows:\n",
      "    \n",
      "        * If `keep_default_na` is True, and `na_values` are specified, `na_values`\n",
      "          is appended to the default NaN values used for parsing.\n",
      "        * If `keep_default_na` is True, and `na_values` are not specified, only\n",
      "          the default NaN values are used for parsing.\n",
      "        * If `keep_default_na` is False, and `na_values` are specified, only\n",
      "          the NaN values specified `na_values` are used for parsing.\n",
      "        * If `keep_default_na` is False, and `na_values` are not specified, no\n",
      "          strings will be parsed as NaN.\n",
      "    \n",
      "        Note that if `na_filter` is passed in as False, the `keep_default_na` and\n",
      "        `na_values` parameters will be ignored.\n",
      "    na_filter : bool, default True\n",
      "        Detect missing value markers (empty strings and the value of na_values). In\n",
      "        data without any NAs, passing na_filter=False can improve the performance\n",
      "        of reading a large file.\n",
      "    verbose : bool, default False\n",
      "        Indicate number of NA values placed in non-numeric columns.\n",
      "    skip_blank_lines : bool, default True\n",
      "        If True, skip over blank lines rather than interpreting as NaN values.\n",
      "    parse_dates : bool or list of int or names or list of lists or dict, default False\n",
      "        The behavior is as follows:\n",
      "    \n",
      "        * boolean. If True -> try parsing the index.\n",
      "        * list of int or names. e.g. If [1, 2, 3] -> try parsing columns 1, 2, 3\n",
      "          each as a separate date column.\n",
      "        * list of lists. e.g.  If [[1, 3]] -> combine columns 1 and 3 and parse as\n",
      "          a single date column.\n",
      "        * dict, e.g. {'foo' : [1, 3]} -> parse columns 1, 3 as date and call\n",
      "          result 'foo'\n",
      "    \n",
      "        If a column or index cannot be represented as an array of datetimes,\n",
      "        say because of an unparseable value or a mixture of timezones, the column\n",
      "        or index will be returned unaltered as an object data type. For\n",
      "        non-standard datetime parsing, use ``pd.to_datetime`` after\n",
      "        ``pd.read_csv``. To parse an index or column with a mixture of timezones,\n",
      "        specify ``date_parser`` to be a partially-applied\n",
      "        :func:`pandas.to_datetime` with ``utc=True``. See\n",
      "        :ref:`io.csv.mixed_timezones` for more.\n",
      "    \n",
      "        Note: A fast-path exists for iso8601-formatted dates.\n",
      "    infer_datetime_format : bool, default False\n",
      "        If True and `parse_dates` is enabled, pandas will attempt to infer the\n",
      "        format of the datetime strings in the columns, and if it can be inferred,\n",
      "        switch to a faster method of parsing them. In some cases this can increase\n",
      "        the parsing speed by 5-10x.\n",
      "    keep_date_col : bool, default False\n",
      "        If True and `parse_dates` specifies combining multiple columns then\n",
      "        keep the original columns.\n",
      "    date_parser : function, optional\n",
      "        Function to use for converting a sequence of string columns to an array of\n",
      "        datetime instances. The default uses ``dateutil.parser.parser`` to do the\n",
      "        conversion. Pandas will try to call `date_parser` in three different ways,\n",
      "        advancing to the next if an exception occurs: 1) Pass one or more arrays\n",
      "        (as defined by `parse_dates`) as arguments; 2) concatenate (row-wise) the\n",
      "        string values from the columns defined by `parse_dates` into a single array\n",
      "        and pass that; and 3) call `date_parser` once for each row using one or\n",
      "        more strings (corresponding to the columns defined by `parse_dates`) as\n",
      "        arguments.\n",
      "    dayfirst : bool, default False\n",
      "        DD/MM format dates, international and European format.\n",
      "    cache_dates : bool, default True\n",
      "        If True, use a cache of unique, converted dates to apply the datetime\n",
      "        conversion. May produce significant speed-up when parsing duplicate\n",
      "        date strings, especially ones with timezone offsets.\n",
      "    \n",
      "        .. versionadded:: 0.25.0\n",
      "    iterator : bool, default False\n",
      "        Return TextFileReader object for iteration or getting chunks with\n",
      "        ``get_chunk()``.\n",
      "    chunksize : int, optional\n",
      "        Return TextFileReader object for iteration.\n",
      "        See the `IO Tools docs\n",
      "        <https://pandas.pydata.org/pandas-docs/stable/io.html#io-chunking>`_\n",
      "        for more information on ``iterator`` and ``chunksize``.\n",
      "    compression : {'infer', 'gzip', 'bz2', 'zip', 'xz', None}, default 'infer'\n",
      "        For on-the-fly decompression of on-disk data. If 'infer' and\n",
      "        `filepath_or_buffer` is path-like, then detect compression from the\n",
      "        following extensions: '.gz', '.bz2', '.zip', or '.xz' (otherwise no\n",
      "        decompression). If using 'zip', the ZIP file must contain only one data\n",
      "        file to be read in. Set to None for no decompression.\n",
      "    thousands : str, optional\n",
      "        Thousands separator.\n",
      "    decimal : str, default '.'\n",
      "        Character to recognize as decimal point (e.g. use ',' for European data).\n",
      "    lineterminator : str (length 1), optional\n",
      "        Character to break file into lines. Only valid with C parser.\n",
      "    quotechar : str (length 1), optional\n",
      "        The character used to denote the start and end of a quoted item. Quoted\n",
      "        items can include the delimiter and it will be ignored.\n",
      "    quoting : int or csv.QUOTE_* instance, default 0\n",
      "        Control field quoting behavior per ``csv.QUOTE_*`` constants. Use one of\n",
      "        QUOTE_MINIMAL (0), QUOTE_ALL (1), QUOTE_NONNUMERIC (2) or QUOTE_NONE (3).\n",
      "    doublequote : bool, default ``True``\n",
      "       When quotechar is specified and quoting is not ``QUOTE_NONE``, indicate\n",
      "       whether or not to interpret two consecutive quotechar elements INSIDE a\n",
      "       field as a single ``quotechar`` element.\n",
      "    escapechar : str (length 1), optional\n",
      "        One-character string used to escape other characters.\n",
      "    comment : str, optional\n",
      "        Indicates remainder of line should not be parsed. If found at the beginning\n",
      "        of a line, the line will be ignored altogether. This parameter must be a\n",
      "        single character. Like empty lines (as long as ``skip_blank_lines=True``),\n",
      "        fully commented lines are ignored by the parameter `header` but not by\n",
      "        `skiprows`. For example, if ``comment='#'``, parsing\n",
      "        ``#empty\\na,b,c\\n1,2,3`` with ``header=0`` will result in 'a,b,c' being\n",
      "        treated as the header.\n",
      "    encoding : str, optional\n",
      "        Encoding to use for UTF when reading/writing (ex. 'utf-8'). `List of Python\n",
      "        standard encodings\n",
      "        <https://docs.python.org/3/library/codecs.html#standard-encodings>`_ .\n",
      "    dialect : str or csv.Dialect, optional\n",
      "        If provided, this parameter will override values (default or not) for the\n",
      "        following parameters: `delimiter`, `doublequote`, `escapechar`,\n",
      "        `skipinitialspace`, `quotechar`, and `quoting`. If it is necessary to\n",
      "        override values, a ParserWarning will be issued. See csv.Dialect\n",
      "        documentation for more details.\n",
      "    error_bad_lines : bool, default True\n",
      "        Lines with too many fields (e.g. a csv line with too many commas) will by\n",
      "        default cause an exception to be raised, and no DataFrame will be returned.\n",
      "        If False, then these \"bad lines\" will dropped from the DataFrame that is\n",
      "        returned.\n",
      "    warn_bad_lines : bool, default True\n",
      "        If error_bad_lines is False, and warn_bad_lines is True, a warning for each\n",
      "        \"bad line\" will be output.\n",
      "    delim_whitespace : bool, default False\n",
      "        Specifies whether or not whitespace (e.g. ``' '`` or ``'    '``) will be\n",
      "        used as the sep. Equivalent to setting ``sep='\\s+'``. If this option\n",
      "        is set to True, nothing should be passed in for the ``delimiter``\n",
      "        parameter.\n",
      "    low_memory : bool, default True\n",
      "        Internally process the file in chunks, resulting in lower memory use\n",
      "        while parsing, but possibly mixed type inference.  To ensure no mixed\n",
      "        types either set False, or specify the type with the `dtype` parameter.\n",
      "        Note that the entire file is read into a single DataFrame regardless,\n",
      "        use the `chunksize` or `iterator` parameter to return the data in chunks.\n",
      "        (Only valid with C parser).\n",
      "    memory_map : bool, default False\n",
      "        If a filepath is provided for `filepath_or_buffer`, map the file object\n",
      "        directly onto memory and access the data directly from there. Using this\n",
      "        option can improve performance because there is no longer any I/O overhead.\n",
      "    float_precision : str, optional\n",
      "        Specifies which converter the C engine should use for floating-point\n",
      "        values. The options are `None` for the ordinary converter,\n",
      "        `high` for the high-precision converter, and `round_trip` for the\n",
      "        round-trip converter.\n",
      "    \n",
      "    Returns\n",
      "    -------\n",
      "    DataFrame or TextParser\n",
      "        A comma-separated values (csv) file is returned as two-dimensional\n",
      "        data structure with labeled axes.\n",
      "    \n",
      "    See Also\n",
      "    --------\n",
      "    to_csv : Write DataFrame to a comma-separated values (csv) file.\n",
      "    read_csv : Read a comma-separated values (csv) file into DataFrame.\n",
      "    read_fwf : Read a table of fixed-width formatted lines into DataFrame.\n",
      "    \n",
      "    Examples\n",
      "    --------\n",
      "    >>> pd.read_csv('data.csv')  # doctest: +SKIP\n",
      "\n"
     ]
    }
   ],
   "source": [
    "help(pd.read_csv)"
   ]
  },
  {
   "cell_type": "code",
   "execution_count": 7,
   "metadata": {},
   "outputs": [
    {
     "data": {
      "text/html": [
       "<div>\n",
       "<style scoped>\n",
       "    .dataframe tbody tr th:only-of-type {\n",
       "        vertical-align: middle;\n",
       "    }\n",
       "\n",
       "    .dataframe tbody tr th {\n",
       "        vertical-align: top;\n",
       "    }\n",
       "\n",
       "    .dataframe thead th {\n",
       "        text-align: right;\n",
       "    }\n",
       "</style>\n",
       "<table border=\"1\" class=\"dataframe\">\n",
       "  <thead>\n",
       "    <tr style=\"text-align: right;\">\n",
       "      <th></th>\n",
       "      <th>Deg</th>\n",
       "      <th>M</th>\n",
       "      <th>S</th>\n",
       "      <th>M.1</th>\n",
       "      <th>S.1</th>\n",
       "    </tr>\n",
       "  </thead>\n",
       "  <tbody>\n",
       "    <tr>\n",
       "      <th>0</th>\n",
       "      <td>0.0</td>\n",
       "      <td>0</td>\n",
       "      <td>5.4</td>\n",
       "      <td>0</td>\n",
       "      <td>4.0</td>\n",
       "    </tr>\n",
       "    <tr>\n",
       "      <th>1</th>\n",
       "      <td>0.5</td>\n",
       "      <td>0</td>\n",
       "      <td>10.6</td>\n",
       "      <td>0</td>\n",
       "      <td>7.8</td>\n",
       "    </tr>\n",
       "    <tr>\n",
       "      <th>2</th>\n",
       "      <td>1.0</td>\n",
       "      <td>0</td>\n",
       "      <td>17.7</td>\n",
       "      <td>0</td>\n",
       "      <td>13.5</td>\n",
       "    </tr>\n",
       "    <tr>\n",
       "      <th>3</th>\n",
       "      <td>1.5</td>\n",
       "      <td>0</td>\n",
       "      <td>24.6</td>\n",
       "      <td>0</td>\n",
       "      <td>19.0</td>\n",
       "    </tr>\n",
       "    <tr>\n",
       "      <th>4</th>\n",
       "      <td>2.0</td>\n",
       "      <td>0</td>\n",
       "      <td>31.4</td>\n",
       "      <td>0</td>\n",
       "      <td>24.4</td>\n",
       "    </tr>\n",
       "  </tbody>\n",
       "</table>\n",
       "</div>"
      ],
      "text/plain": [
       "   Deg  M     S  M.1   S.1\n",
       "0  0.0  0   5.4    0   4.0\n",
       "1  0.5  0  10.6    0   7.8\n",
       "2  1.0  0  17.7    0  13.5\n",
       "3  1.5  0  24.6    0  19.0\n",
       "4  2.0  0  31.4    0  24.4"
      ]
     },
     "execution_count": 7,
     "metadata": {},
     "output_type": "execute_result"
    }
   ],
   "source": [
    "df = pd.read_csv(\"sample_datasets/DeltaTime.txt\", delim_whitespace=True, skiprows=2, header=0)\n",
    "df.head()"
   ]
  },
  {
   "cell_type": "markdown",
   "metadata": {},
   "source": [
    "### Excel files"
   ]
  },
  {
   "cell_type": "markdown",
   "metadata": {},
   "source": [
    "Excel files with extension `.xls` and `.xlsx` can be loaded with the `pandas` pacakge. See\n",
    "`pandas.read_excel()`. As with CSV files, additional information may have to be provided regarding the header."
   ]
  },
  {
   "cell_type": "markdown",
   "metadata": {},
   "source": [
    "### NetCDF file"
   ]
  },
  {
   "cell_type": "markdown",
   "metadata": {},
   "source": [
    "NetCDF stands for Network Common Data Form (https://en.wikipedia.org/wiki/NetCDF).\n",
    "To load NetCDF files, you will need to use the package `netCDF4`.\n",
    "NetCDF files usually have the extension `.nc`.\n",
    "NetCDF files organize the contents into `groups` and `variables`.\n",
    "`variables` define the data you want to load into a NumPy array.\n",
    "`groups` define collections of `variables`."
   ]
  },
  {
   "cell_type": "code",
   "execution_count": 8,
   "metadata": {},
   "outputs": [],
   "source": [
    "import netCDF4 as nc4"
   ]
  },
  {
   "cell_type": "markdown",
   "metadata": {},
   "source": [
    "To open a file in read-only mode, do this"
   ]
  },
  {
   "cell_type": "code",
   "execution_count": 9,
   "metadata": {},
   "outputs": [],
   "source": [
    "file_name = \"sample_datasets/data.nc\"\n",
    "\n",
    "etopo = nc4.Dataset(file_name, 'r') # Open the file, 'r' => read-only\n",
    "# ...\n",
    "# extract what you want\n",
    "# ...\n",
    "etopo.close() # Close the file"
   ]
  },
  {
   "cell_type": "markdown",
   "metadata": {},
   "source": [
    "Inspecting the file contents. Start by just using `print()`. This will display what is called the `root group`.\n",
    "If the field `variables` is not empty, the names shown define data you can load.\n",
    "`groups` may also list some names - these are collections of other data you can load."
   ]
  },
  {
   "cell_type": "code",
   "execution_count": 10,
   "metadata": {},
   "outputs": [
    {
     "name": "stdout",
     "output_type": "stream",
     "text": [
      "<class 'netCDF4._netCDF4.Dataset'>\n",
      "root group (NETCDF4 data model, file format HDF5):\n",
      "    title: Example NetCDF file\n",
      "    dimensions(sizes): field(16)\n",
      "    variables(dimensions): float64 field(field)\n",
      "    groups: mesh\n"
     ]
    }
   ],
   "source": [
    "file_name = \"sample_datasets/data.nc\"\n",
    "\n",
    "etopo = nc4.Dataset(file_name, 'r') # Open the file, 'r' => read-only\n",
    "\n",
    "print(etopo)\n",
    "etopo.close() # Close the file"
   ]
  },
  {
   "cell_type": "markdown",
   "metadata": {},
   "source": [
    "`variables` is empty, but `groups` lists `mesh`. To access the `mesh` group, use dictionary like notation."
   ]
  },
  {
   "cell_type": "code",
   "execution_count": 11,
   "metadata": {},
   "outputs": [
    {
     "name": "stdout",
     "output_type": "stream",
     "text": [
      "<class 'netCDF4._netCDF4.Dataset'>\n",
      "root group (NETCDF4 data model, file format HDF5):\n",
      "    title: Example NetCDF file\n",
      "    dimensions(sizes): field(16)\n",
      "    variables(dimensions): float64 field(field)\n",
      "    groups: mesh\n",
      "<class 'netCDF4._netCDF4.Group'>\n",
      "group /mesh:\n",
      "    dimensions(sizes): x(16), idx(16)\n",
      "    variables(dimensions): float64 x-coor(x), int32 indices(idx)\n",
      "    groups: mesh_transform\n"
     ]
    }
   ],
   "source": [
    "file_name = \"sample_datasets/data.nc\"\n",
    "etopo = nc4.Dataset(file_name, 'r') # Open the file, 'r' => read-only\n",
    "print(etopo)\n",
    "print(etopo['mesh'])\n",
    "etopo.close() # Close the file"
   ]
  },
  {
   "cell_type": "markdown",
   "metadata": {},
   "source": [
    "Accessing variables in the same manner (dict-like) via the `.variables` attribute"
   ]
  },
  {
   "cell_type": "code",
   "execution_count": 12,
   "metadata": {},
   "outputs": [
    {
     "name": "stdout",
     "output_type": "stream",
     "text": [
      "<class 'netCDF4._netCDF4.Dataset'>\n",
      "root group (NETCDF4 data model, file format HDF5):\n",
      "    title: Example NetCDF file\n",
      "    dimensions(sizes): field(16)\n",
      "    variables(dimensions): float64 field(field)\n",
      "    groups: mesh\n",
      "<class 'netCDF4._netCDF4.Variable'>\n",
      "float64 x-coor(x)\n",
      "    units: m\n",
      "path = /mesh\n",
      "unlimited dimensions: \n",
      "current shape = (16,)\n",
      "filling on, default _FillValue of 9.969209968386869e+36 used\n"
     ]
    }
   ],
   "source": [
    "file_name = \"sample_datasets/data.nc\"\n",
    "etopo = nc4.Dataset(file_name, 'r') # Open the file, 'r' => read-only\n",
    "print(etopo)\n",
    "print(etopo['mesh'].variables['x-coor'])\n",
    "etopo.close() # Close the file"
   ]
  },
  {
   "cell_type": "markdown",
   "metadata": {},
   "source": [
    "A slightly smarter way might to try and trawl the file automatically. Below the function `nc4_group_variable_query()` descends through groups recursively to try and understand the file contents. The attribute `path` on each variable defines where the data lives within the group hierarchy."
   ]
  },
  {
   "cell_type": "code",
   "execution_count": 13,
   "metadata": {},
   "outputs": [],
   "source": [
    "def nc4_group_variable_query(data):\n",
    "    # Descend through the groups until we hit an empty group\n",
    "    if data.groups is not None:\n",
    "        for g in data.groups:\n",
    "            nc4_group_variable_query(data.groups[g])\n",
    "    \n",
    "    if data.variables is not None:\n",
    "        for v in data.variables:\n",
    "            print('--- variable:', v, '---')\n",
    "            print(data.variables[v])"
   ]
  },
  {
   "cell_type": "code",
   "execution_count": 14,
   "metadata": {},
   "outputs": [
    {
     "name": "stdout",
     "output_type": "stream",
     "text": [
      "--- variable: transform ---\n",
      "<class 'netCDF4._netCDF4.Variable'>\n",
      "int32 transform(tform)\n",
      "    units: -\n",
      "path = /mesh/mesh_transform\n",
      "unlimited dimensions: \n",
      "current shape = (16,)\n",
      "filling on, default _FillValue of -2147483647 used\n",
      "--- variable: x-coor ---\n",
      "<class 'netCDF4._netCDF4.Variable'>\n",
      "float64 x-coor(x)\n",
      "    units: m\n",
      "path = /mesh\n",
      "unlimited dimensions: \n",
      "current shape = (16,)\n",
      "filling on, default _FillValue of 9.969209968386869e+36 used\n",
      "--- variable: indices ---\n",
      "<class 'netCDF4._netCDF4.Variable'>\n",
      "int32 indices(idx)\n",
      "    units: -\n",
      "path = /mesh\n",
      "unlimited dimensions: \n",
      "current shape = (16,)\n",
      "filling on, default _FillValue of -2147483647 used\n",
      "--- variable: field ---\n",
      "<class 'netCDF4._netCDF4.Variable'>\n",
      "float64 field(field)\n",
      "    units: m/s\n",
      "unlimited dimensions: \n",
      "current shape = (16,)\n",
      "filling on, default _FillValue of 9.969209968386869e+36 used\n"
     ]
    }
   ],
   "source": [
    "file_name = \"sample_datasets/data.nc\"\n",
    "nc_data = nc4.Dataset(file_name, 'r') # Open the file, 'r' => read-only\n",
    "\n",
    "# Report contents recursively\n",
    "nc4_group_variable_query(nc_data)\n",
    "\n",
    "nc_data.close() # Close the file"
   ]
  },
  {
   "cell_type": "markdown",
   "metadata": {},
   "source": [
    "### HDF5 file"
   ]
  },
  {
   "cell_type": "markdown",
   "metadata": {},
   "source": [
    "HDF stands for Hierarchical Data Format (https://en.wikipedia.org/wiki/Hierarchical_Data_Format).\n",
    "To load HDF5 (or HDF4) files, you will need the package `h5py`.\n",
    "HDF5 files usually have the extension `.h5`. H5 files contain `group` objects and `dataset` objects.\n",
    "The `dataset` object contains the data you want to load into a NumPy array.\n",
    "A `group` object defines a collection of `dataset` objects."
   ]
  },
  {
   "cell_type": "code",
   "execution_count": 15,
   "metadata": {},
   "outputs": [],
   "source": [
    "import h5py as h5py"
   ]
  },
  {
   "cell_type": "code",
   "execution_count": 16,
   "metadata": {},
   "outputs": [
    {
     "name": "stdout",
     "output_type": "stream",
     "text": [
      "<HDF5 file \"data.h5\" (mode r)>\n",
      "<KeysViewHDF5 ['field', 'mesh']>\n"
     ]
    }
   ],
   "source": [
    "hf = h5py.File('sample_datasets/data.h5', 'r')\n",
    "\n",
    "# Print the file\n",
    "print(hf)\n",
    "\n",
    "# Not much report with print.\n",
    "# Use .keys() to see the list of group / dataset's in the root\n",
    "print(hf.keys())"
   ]
  },
  {
   "cell_type": "code",
   "execution_count": 17,
   "metadata": {},
   "outputs": [
    {
     "name": "stdout",
     "output_type": "stream",
     "text": [
      "<HDF5 dataset \"field\": shape (16,), type \"<f8\">\n",
      "[1.         1.22444444 1.45777778 1.7        1.95111111 2.21111111\n",
      " 2.48       2.75777778 3.04444444 3.34       3.64444444 3.95777778\n",
      " 4.28       4.61111111 4.95111111 5.3       ] <class 'numpy.ndarray'> float64\n"
     ]
    }
   ],
   "source": [
    "print(hf[\"field\"])\n",
    "\n",
    "# \"field\" is a dataset, so can load it this way\n",
    "val_field = hf[\"field\"][:]\n",
    "print(val_field, type(val_field), val_field.dtype)"
   ]
  },
  {
   "cell_type": "code",
   "execution_count": 18,
   "metadata": {},
   "outputs": [
    {
     "name": "stdout",
     "output_type": "stream",
     "text": [
      "<HDF5 group \"/mesh\" (3 members)>\n",
      "<KeysViewHDF5 ['indices', 'mesh_transform', 'x-coor']>\n",
      "<HDF5 dataset \"x-coor\": shape (16,), type \"<f8\">\n",
      "[0.         0.06666667 0.13333333 0.2        0.26666667 0.33333333\n",
      " 0.4        0.46666667 0.53333333 0.6        0.66666667 0.73333333\n",
      " 0.8        0.86666667 0.93333333 1.        ] <class 'numpy.ndarray'> float64\n",
      "<HDF5 dataset \"indices\": shape (16,), type \"<i8\">\n",
      "[ 0  1  2  3  4  5  6  7  8  9 10 11 12 13 14 15] <class 'numpy.ndarray'> int64\n",
      "<HDF5 group \"/mesh/mesh_transform\" (1 members)>\n"
     ]
    }
   ],
   "source": [
    "print(hf[\"mesh\"])\n",
    "\n",
    "# \"mesh\" is a group, print its contents\n",
    "print(hf[\"mesh\"].keys())\n",
    "\n",
    "print(hf[\"mesh\"][\"x-coor\"])\n",
    "val_coor = hf[\"mesh\"][\"x-coor\"][:]\n",
    "print(val_coor, type(val_coor), val_coor.dtype)\n",
    "\n",
    "print(hf[\"mesh\"][\"indices\"])\n",
    "val_idx = hf[\"mesh\"][\"indices\"][:]\n",
    "print(val_idx, type(val_idx), val_idx.dtype)\n",
    "\n",
    "print(hf[\"mesh\"][\"mesh_transform\"])\n"
   ]
  },
  {
   "cell_type": "code",
   "execution_count": 19,
   "metadata": {},
   "outputs": [],
   "source": [
    "hf.close()"
   ]
  },
  {
   "cell_type": "markdown",
   "metadata": {},
   "source": [
    "As before, below I provide a function (`h5_group_dataset_query()`) which will recursively query datasets with a HDF5 file."
   ]
  },
  {
   "cell_type": "code",
   "execution_count": 20,
   "metadata": {},
   "outputs": [],
   "source": [
    "def h5_group_dataset_query(data, gname='root/'):\n",
    "    # Descend through the groups until we hit an empty group\n",
    "    is_ds = isinstance(data, h5py.Dataset)\n",
    "    if is_ds == False:\n",
    "        keys = data.keys()\n",
    "        for k in keys:\n",
    "            if isinstance(data[k], h5py.Group):\n",
    "                gname2 = gname + str(k) + '/'\n",
    "            else: gname2 = gname\n",
    "            h5_group_dataset_query(data[k], gname2)\n",
    "    else:\n",
    "        print('path:',gname,data)"
   ]
  },
  {
   "cell_type": "code",
   "execution_count": 21,
   "metadata": {},
   "outputs": [
    {
     "name": "stdout",
     "output_type": "stream",
     "text": [
      "path: root/ <HDF5 dataset \"field\": shape (16,), type \"<f8\">\n",
      "path: root/mesh/ <HDF5 dataset \"indices\": shape (16,), type \"<i8\">\n",
      "path: root/mesh/mesh_transform/ <HDF5 dataset \"transform\": shape (16,), type \"<i8\">\n",
      "path: root/mesh/ <HDF5 dataset \"x-coor\": shape (16,), type \"<f8\">\n"
     ]
    }
   ],
   "source": [
    "# Open the file and report the contents recursively\n",
    "hf = h5py.File('sample_datasets/data.h5', 'r')\n",
    "\n",
    "h5_group_dataset_query(hf)\n",
    "\n",
    "hf.close()"
   ]
  },
  {
   "cell_type": "markdown",
   "metadata": {},
   "source": [
    "### JSON file"
   ]
  },
  {
   "cell_type": "markdown",
   "metadata": {},
   "source": [
    "JSON stands for Java Script Object Notation (https://www.json.org/json-en.html).\n",
    "Don't be fooled by the name, the format is actually independent of Java Script - that's just the language it was originally intended for. JSON formatted files have wide spread applicability outside of Java.\n",
    "Python provides a built-in package for reading JSON files (usually having the extension `.json`). The package is called `json`."
   ]
  },
  {
   "cell_type": "code",
   "execution_count": 22,
   "metadata": {},
   "outputs": [],
   "source": [
    "import json"
   ]
  },
  {
   "cell_type": "code",
   "execution_count": 23,
   "metadata": {},
   "outputs": [],
   "source": [
    "# Load the JSON file\n",
    "json_file = \"sample_datasets/ptatin3dctx.json\"\n",
    "with open(json_file, 'r') as fp:\n",
    "    js = json.load(fp)"
   ]
  },
  {
   "cell_type": "code",
   "execution_count": 24,
   "metadata": {},
   "outputs": [
    {
     "name": "stdout",
     "output_type": "stream",
     "text": [
      "json object\n",
      "{'pTatinCtx': {'commSize': 1, 'mx': 8, 'my': 8, 'mz': 8, 'restartFromFile': False, 'restartPath': '', 'checkpointEvery': 1000, 'checkpointEveryNSteps': 1000, 'checkpointEveryNCPUMins': 90, 'useMFStokes': False, 'formattedTimestamp': '2021.01.18_12:58:26', 'outputPath': 'sinker-ex1-const', 'coefficientProjectionType': 1, 'solverStatistics': False, 'continuation_m': 1, 'continuation_M': 1, 'timeStep': 1, 'timeStepMax': 5, 'timeStepSize': 0.095005, 'timeStepSizeMax': 1000, 'timeStepSizeMin': 1e-06, 'timeStepSizeAdv': 0, 'constantTimeStepSize': 0, 'useConstantTimeStepSize': False, 'time': 0.019394, 'timeMax': 100000000000000005366162204393472, 'outputFrequency': 2, 'stokes->gravity_vector': {'ctype': 'double', 'length': 3, 'dataFormat': 'ascii', 'data': [0, 0, -10], 'data[ascii]': [0, 0, -10]}, 'stokes->dmv': {'ctype': 'DMDA', 'dataFormat': 'json-meta', 'fileName': 'sinker-ex1-const/checkpoints/step1/stokes_v_dmda.json'}, 'materialpoint_db': {'ctype': 'DataBucket', 'dataFormat': 'native', 'fileName': 'sinker-ex1-const/checkpoints/step1/materialpoint_db.json'}, 'material_constants': {'ctype': 'DataBucket', 'dataFormat': 'native', 'fileName': 'sinker-ex1-const/checkpoints/step1/materialconstants_db.json'}, 'stokes.Xs->Xv': {'ctype': 'Vec', 'dataFormat': 'petsc-binary', 'fileName': 'sinker-ex1-const/checkpoints/step1/ptatinstate_stokes_Xv.pbvec'}, 'stokes.Xs->Xp': {'ctype': 'Vec', 'dataFormat': 'petsc-binary', 'fileName': 'sinker-ex1-const/checkpoints/step1/ptatinstate_stokes_Xp.pbvec'}}}\n"
     ]
    }
   ],
   "source": [
    "print('json object')\n",
    "print(js)"
   ]
  },
  {
   "cell_type": "code",
   "execution_count": 25,
   "metadata": {},
   "outputs": [
    {
     "name": "stdout",
     "output_type": "stream",
     "text": [
      "8 <class 'int'>\n"
     ]
    }
   ],
   "source": [
    "# Get one variable \"mx\" from the object\n",
    "mx = js[\"pTatinCtx\"][\"mx\"]\n",
    "print(mx, type(mx))"
   ]
  },
  {
   "cell_type": "code",
   "execution_count": 26,
   "metadata": {},
   "outputs": [
    {
     "name": "stdout",
     "output_type": "stream",
     "text": [
      "{'ctype': 'double', 'length': 3, 'dataFormat': 'ascii', 'data': [0, 0, -10], 'data[ascii]': [0, 0, -10]}\n"
     ]
    }
   ],
   "source": [
    "# Get one object \"stokes->gravity_vector\"\n",
    "gravity_data = js[\"pTatinCtx\"][\"stokes->gravity_vector\"]\n",
    "print(gravity_data)"
   ]
  },
  {
   "cell_type": "code",
   "execution_count": 27,
   "metadata": {},
   "outputs": [
    {
     "name": "stdout",
     "output_type": "stream",
     "text": [
      "[0, 0, -10] <class 'list'> <class 'int'>\n"
     ]
    }
   ],
   "source": [
    "g_vec = gravity_data[\"data[ascii]\"]\n",
    "print(g_vec, type(g_vec), type(g_vec[2]))"
   ]
  },
  {
   "cell_type": "markdown",
   "metadata": {},
   "source": [
    "Note that that numbers without a decimal point are interpretted as integers."
   ]
  },
  {
   "cell_type": "markdown",
   "metadata": {},
   "source": [
    "Another option to load JSON files is to the `pandas` package, and the method `pandas.read_json()`."
   ]
  },
  {
   "cell_type": "markdown",
   "metadata": {},
   "source": [
    "### XML file"
   ]
  },
  {
   "cell_type": "markdown",
   "metadata": {},
   "source": [
    "XML stands for Extensible Markup Language (https://en.wikipedia.org/wiki/XML).\n",
    "There are numerous ways to parse XML files (typically having the extension `.xml`).\n",
    "I like the package `xmltodict`.\n",
    "Using this package, you can walk the XML tree using key / value (dict-like) access pattern."
   ]
  },
  {
   "cell_type": "code",
   "execution_count": 28,
   "metadata": {},
   "outputs": [],
   "source": [
    "import xmltodict"
   ]
  },
  {
   "cell_type": "code",
   "execution_count": 29,
   "metadata": {},
   "outputs": [],
   "source": [
    "# Load the XML file\n",
    "xml_file = \"sample_datasets/mun-POD.xdmf\"\n",
    "with open(xml_file, 'r') as fp:\n",
    "    doc = xmltodict.parse(fp.read())"
   ]
  },
  {
   "cell_type": "code",
   "execution_count": 30,
   "metadata": {},
   "outputs": [
    {
     "name": "stdout",
     "output_type": "stream",
     "text": [
      "XML tree\n",
      "OrderedDict([('Xdmf', OrderedDict([('@Version', '2.0'), ('Domain', OrderedDict([('Grid', OrderedDict([('@Name', 'TimeSeries'), ('@GridType', 'Collection'), ('@CollectionType', 'Temporal'), ('Grid', OrderedDict([('@Name', 'step_000000000000'), ('@GridType', 'Uniform'), ('Topology', OrderedDict([('@TopologyType', 'Triangle'), ('@NumberOfElements', '21187'), ('DataItem', OrderedDict([('@NumberType', 'Int'), ('@Precision', '8'), ('@Format', 'HDF'), ('@Dimensions', '21187 3'), ('#text', 'data/mun-GME/mun-GME-surface_cell.h5:/mesh0/connect')]))])), ('Geometry', OrderedDict([('@Name', 'geo'), ('@GeometryType', 'XYZ'), ('@NumberOfElements', '10783'), ('DataItem', OrderedDict([('@NumberType', 'Float'), ('@Precision', '8'), ('@Format', 'HDF'), ('@Dimensions', '10783 3'), ('#text', 'data/mun-GME/mun-GME-surface_vertex.h5:/mesh0/geometry')]))])), ('Time', OrderedDict([('@Value', '0')])), ('Attribute', OrderedDict([('@Name', 'SA00.POD'), ('@Center', 'Cell'), ('DataItem', OrderedDict([('@ItemType', 'HyperSlab'), ('@Dimensions', '21187'), ('DataItem', [OrderedDict([('@NumberType', 'UInt'), ('@Precision', '4'), ('@Format', 'XML'), ('@Dimensions', '3 2'), ('#text', '0 0 1 1 1 21187')]), OrderedDict([('@NumberType', 'Float'), ('@Precision', '8'), ('@Format', 'HDF'), ('@Dimensions', '1 21187'), ('#text', 'pod_surface_cell.h5:/mesh0/pod')])])]))]))]))]))]))]))])\n",
      "XML tree Xdma/Domain/Grid/Grid\n",
      "OrderedDict([('@Name', 'step_000000000000'), ('@GridType', 'Uniform'), ('Topology', OrderedDict([('@TopologyType', 'Triangle'), ('@NumberOfElements', '21187'), ('DataItem', OrderedDict([('@NumberType', 'Int'), ('@Precision', '8'), ('@Format', 'HDF'), ('@Dimensions', '21187 3'), ('#text', 'data/mun-GME/mun-GME-surface_cell.h5:/mesh0/connect')]))])), ('Geometry', OrderedDict([('@Name', 'geo'), ('@GeometryType', 'XYZ'), ('@NumberOfElements', '10783'), ('DataItem', OrderedDict([('@NumberType', 'Float'), ('@Precision', '8'), ('@Format', 'HDF'), ('@Dimensions', '10783 3'), ('#text', 'data/mun-GME/mun-GME-surface_vertex.h5:/mesh0/geometry')]))])), ('Time', OrderedDict([('@Value', '0')])), ('Attribute', OrderedDict([('@Name', 'SA00.POD'), ('@Center', 'Cell'), ('DataItem', OrderedDict([('@ItemType', 'HyperSlab'), ('@Dimensions', '21187'), ('DataItem', [OrderedDict([('@NumberType', 'UInt'), ('@Precision', '4'), ('@Format', 'XML'), ('@Dimensions', '3 2'), ('#text', '0 0 1 1 1 21187')]), OrderedDict([('@NumberType', 'Float'), ('@Precision', '8'), ('@Format', 'HDF'), ('@Dimensions', '1 21187'), ('#text', 'pod_surface_cell.h5:/mesh0/pod')])])]))]))])\n",
      "Attribute\n",
      "OrderedDict([('@Name', 'SA00.POD'), ('@Center', 'Cell'), ('DataItem', OrderedDict([('@ItemType', 'HyperSlab'), ('@Dimensions', '21187'), ('DataItem', [OrderedDict([('@NumberType', 'UInt'), ('@Precision', '4'), ('@Format', 'XML'), ('@Dimensions', '3 2'), ('#text', '0 0 1 1 1 21187')]), OrderedDict([('@NumberType', 'Float'), ('@Precision', '8'), ('@Format', 'HDF'), ('@Dimensions', '1 21187'), ('#text', 'pod_surface_cell.h5:/mesh0/pod')])])]))])\n",
      "  key @Name\n",
      "  value SA00.POD\n",
      "  key @Center\n",
      "  value Cell\n",
      "  key DataItem\n",
      "  value OrderedDict([('@ItemType', 'HyperSlab'), ('@Dimensions', '21187'), ('DataItem', [OrderedDict([('@NumberType', 'UInt'), ('@Precision', '4'), ('@Format', 'XML'), ('@Dimensions', '3 2'), ('#text', '0 0 1 1 1 21187')]), OrderedDict([('@NumberType', 'Float'), ('@Precision', '8'), ('@Format', 'HDF'), ('@Dimensions', '1 21187'), ('#text', 'pod_surface_cell.h5:/mesh0/pod')])])])\n"
     ]
    }
   ],
   "source": [
    "# Print the entire XML tree structure\n",
    "print('XML tree')\n",
    "print(doc)\n",
    "\n",
    "# Access a specific part of the tree\n",
    "data_root = doc['Xdmf']['Domain']['Grid']['Grid']\n",
    "print('XML tree Xdma/Domain/Grid/Grid')\n",
    "print(data_root)\n",
    "\n",
    "x_attr = data_root['Attribute']\n",
    "print('Attribute')\n",
    "print(x_attr)\n",
    "for item in x_attr:\n",
    "    print('  key', item)\n",
    "    print('  value', x_attr[item])"
   ]
  },
  {
   "cell_type": "markdown",
   "metadata": {},
   "source": [
    "<a id='sec-sort'></a>"
   ]
  },
  {
   "cell_type": "markdown",
   "metadata": {},
   "source": [
    "----\n",
    "## Sorting data"
   ]
  },
  {
   "cell_type": "markdown",
   "metadata": {},
   "source": [
    "### `list, tuple`\n",
    "\n",
    "Standard containers can be sorted using the built-in function `sorted()`.\n",
    "This function does not modify the input, but rather returns a resulting object which is sorted."
   ]
  },
  {
   "cell_type": "code",
   "execution_count": 31,
   "metadata": {},
   "outputs": [
    {
     "name": "stdout",
     "output_type": "stream",
     "text": [
      "y: [-1.0, 1.0, 2.0, 3.0, 4.0]\n"
     ]
    }
   ],
   "source": [
    "x = [1.0, 2.0, 3.0, -1.0, 4.0]\n",
    "y = sorted(x)\n",
    "print('y:', y)"
   ]
  },
  {
   "cell_type": "code",
   "execution_count": 32,
   "metadata": {},
   "outputs": [
    {
     "name": "stdout",
     "output_type": "stream",
     "text": [
      "y: [-1.0, 1.0, 2.0, 3.0, 4.0]\n"
     ]
    }
   ],
   "source": [
    "x = (1.0, 2.0, 3.0, -1.0, 4.0)\n",
    "y = sorted(x)\n",
    "print('y:', y)"
   ]
  },
  {
   "cell_type": "markdown",
   "metadata": {},
   "source": [
    "The list object has its own method to sort (`list.sort()`). \n",
    "Unlike `sorted()`, the `list.sort()` method sorts the list inplace:"
   ]
  },
  {
   "cell_type": "code",
   "execution_count": 33,
   "metadata": {},
   "outputs": [
    {
     "name": "stdout",
     "output_type": "stream",
     "text": [
      "x: [-1.0, 1.0, 2.0, 3.0, 4.0]\n"
     ]
    }
   ],
   "source": [
    "x = [1.0, 2.0, 3.0, -1.0, 4.0]\n",
    "x.sort()\n",
    "print('x:', x)"
   ]
  },
  {
   "cell_type": "markdown",
   "metadata": {},
   "source": [
    "### Strings\n",
    "\n",
    "Strings can also be sorted using `sorted()`."
   ]
  },
  {
   "cell_type": "code",
   "execution_count": 34,
   "metadata": {},
   "outputs": [
    {
     "name": "stdout",
     "output_type": "stream",
     "text": [
      "['-', '.', '0', '1', '2', '4', 'A', 'L', 'N', 'W', 'a', 'a', 'k', 'l', 'm', 'n', 's']\n"
     ]
    }
   ],
   "source": [
    "x = 'malknasLNWA-0124.'\n",
    "y = sorted(x)\n",
    "print(y)"
   ]
  },
  {
   "cell_type": "markdown",
   "metadata": {},
   "source": [
    "Note that when sorting a string, the definition of \"smallest\" to \"largest\" is given by\n",
    "\n",
    "non alpha-numeric characters < numeric characters < captial alphabet characeters < lower-case alphabet characters\n",
    "\n",
    "Note the result of the sorted string is actually a list.\n",
    "If you want a string result, you can do this"
   ]
  },
  {
   "cell_type": "code",
   "execution_count": 35,
   "metadata": {},
   "outputs": [
    {
     "name": "stdout",
     "output_type": "stream",
     "text": [
      "-.0124ALNWaaklmns\n"
     ]
    }
   ],
   "source": [
    "y = \"\".join(y)\n",
    "print(y)"
   ]
  },
  {
   "cell_type": "markdown",
   "metadata": {},
   "source": [
    "A list of strings can also be sorted."
   ]
  },
  {
   "cell_type": "code",
   "execution_count": 36,
   "metadata": {},
   "outputs": [
    {
     "name": "stdout",
     "output_type": "stream",
     "text": [
      "['aaavs', 'malknasLNWA0124', 'vvascbc']\n"
     ]
    }
   ],
   "source": [
    "x = ['malknasLNWA0124', 'aaavs', 'vvascbc' ]\n",
    "y = sorted(x)\n",
    "print(y)"
   ]
  },
  {
   "cell_type": "markdown",
   "metadata": {},
   "source": [
    "### `ndarray`"
   ]
  },
  {
   "cell_type": "code",
   "execution_count": 37,
   "metadata": {},
   "outputs": [],
   "source": [
    "import numpy as np\n",
    "\n",
    "x = np.array([1.0, 2.0, 3.0, -1.0, 4.0])"
   ]
  },
  {
   "cell_type": "markdown",
   "metadata": {},
   "source": [
    "To sort the array `x`, you can use `ndarray.sort()`. \n",
    "This method will sort `x` in-place.\n",
    "The result is ordered from smallest to largest value."
   ]
  },
  {
   "cell_type": "code",
   "execution_count": 38,
   "metadata": {},
   "outputs": [
    {
     "name": "stdout",
     "output_type": "stream",
     "text": [
      "x(sorted): [-1.  1.  2.  3.  4.]\n"
     ]
    }
   ],
   "source": [
    "x.sort()\n",
    "print('x(sorted):', x)"
   ]
  },
  {
   "cell_type": "markdown",
   "metadata": {},
   "source": [
    "`ndarray.sort()` accepts the argument `kind={‘quicksort’, ‘mergesort’, ‘heapsort’, ‘stable’}` which allows you to choose specific sorting algorithms."
   ]
  },
  {
   "cell_type": "markdown",
   "metadata": {},
   "source": [
    "Often it is convienent to create an array which defines a permuatation which when applied will sort the array `x`.\n",
    "This can be achieved using `np.argsort()` - this method will not alter `x` in anyway."
   ]
  },
  {
   "cell_type": "code",
   "execution_count": 39,
   "metadata": {},
   "outputs": [
    {
     "name": "stdout",
     "output_type": "stream",
     "text": [
      "x:      [ 1.  2.  3. -1.  4.]\n",
      "idx:    [3 0 1 2 4]\n",
      "x[idx]: [-1.  1.  2.  3.  4.]\n"
     ]
    }
   ],
   "source": [
    "x = np.array([1.0, 2.0, 3.0, -1.0, 4.0])\n",
    "\n",
    "idx = np.argsort(x)\n",
    "print('x:     ', x)\n",
    "print('idx:   ', idx)\n",
    "print('x[idx]:', x[idx])"
   ]
  },
  {
   "cell_type": "markdown",
   "metadata": {},
   "source": [
    "<a id='sec-filesys'></a>"
   ]
  },
  {
   "cell_type": "markdown",
   "metadata": {},
   "source": [
    "----\n",
    "## File system manipulation"
   ]
  },
  {
   "cell_type": "markdown",
   "metadata": {},
   "source": [
    "### Dealing with file system paths"
   ]
  },
  {
   "cell_type": "markdown",
   "metadata": {},
   "source": [
    "The built-in package `os.path` conatins lots of utilities to help you manage path strings."
   ]
  },
  {
   "cell_type": "code",
   "execution_count": 40,
   "metadata": {},
   "outputs": [],
   "source": [
    "import os"
   ]
  },
  {
   "cell_type": "code",
   "execution_count": 41,
   "metadata": {},
   "outputs": [
    {
     "name": "stdout",
     "output_type": "stream",
     "text": [
      "user/dmay/some_file\n"
     ]
    }
   ],
   "source": [
    "# Make a nice path with the appropriate syntax indepednent of your operating system.\n",
    "filename = os.path.join('user', 'dmay', 'some_file')\n",
    "print(filename)"
   ]
  },
  {
   "cell_type": "markdown",
   "metadata": {},
   "source": [
    "Take a file name, and convert it into a full path:"
   ]
  },
  {
   "cell_type": "code",
   "execution_count": 42,
   "metadata": {},
   "outputs": [
    {
     "name": "stdout",
     "output_type": "stream",
     "text": [
      "relative path name: sample_datasets/data.h5\n",
      "full path name: /Users/dmay/+ucsd/sio-113-2021/course-material/Python-for-Earth-Science-Students/QuickstartGuides/sample_datasets/data.h5\n"
     ]
    }
   ],
   "source": [
    "relative_file_name = \"sample_datasets/data.h5\"\n",
    "print(\"relative path name:\", relative_file_name)\n",
    "\n",
    "full_path_name = os.path.abspath(relative_file_name)\n",
    "\n",
    "print(\"full path name:\", full_path_name)"
   ]
  },
  {
   "cell_type": "markdown",
   "metadata": {},
   "source": [
    "Strip off the file name from the path (full path or relative path):"
   ]
  },
  {
   "cell_type": "code",
   "execution_count": 43,
   "metadata": {},
   "outputs": [
    {
     "name": "stdout",
     "output_type": "stream",
     "text": [
      "base file name: data.h5\n"
     ]
    }
   ],
   "source": [
    "file_name = os.path.basename(full_path_name)\n",
    "print(\"base file name:\", file_name)"
   ]
  },
  {
   "cell_type": "markdown",
   "metadata": {},
   "source": [
    "To obtain the current working directory"
   ]
  },
  {
   "cell_type": "code",
   "execution_count": 44,
   "metadata": {},
   "outputs": [
    {
     "name": "stdout",
     "output_type": "stream",
     "text": [
      "/Users/dmay/+ucsd/sio-113-2021/course-material/Python-for-Earth-Science-Students/QuickstartGuides\n"
     ]
    }
   ],
   "source": [
    "print(os.getcwd())"
   ]
  },
  {
   "cell_type": "markdown",
   "metadata": {},
   "source": [
    "### Report, create and remove directories"
   ]
  },
  {
   "cell_type": "markdown",
   "metadata": {},
   "source": [
    "Determine if a directory exists"
   ]
  },
  {
   "cell_type": "code",
   "execution_count": 45,
   "metadata": {},
   "outputs": [
    {
     "name": "stdout",
     "output_type": "stream",
     "text": [
      "datasets/ exists?        False\n",
      "sample_datasets/ exists? True\n"
     ]
    }
   ],
   "source": [
    "print(\"datasets/ exists?       \", os.path.exists(\"datasets/\"))\n",
    "print(\"sample_datasets/ exists?\", os.path.exists(\"sample_datasets/\"))"
   ]
  },
  {
   "cell_type": "markdown",
   "metadata": {},
   "source": [
    "You can also use `os.path.isdir()`:"
   ]
  },
  {
   "cell_type": "code",
   "execution_count": 46,
   "metadata": {},
   "outputs": [
    {
     "name": "stdout",
     "output_type": "stream",
     "text": [
      "datasets/ exists?        False\n",
      "sample_datasets/ exists? True\n"
     ]
    }
   ],
   "source": [
    "print(\"datasets/ exists?       \", os.path.isdir(\"datasets/\"))\n",
    "print(\"sample_datasets/ exists?\", os.path.isdir(\"sample_datasets/\"))"
   ]
  },
  {
   "cell_type": "markdown",
   "metadata": {},
   "source": [
    "Determine if a file exists"
   ]
  },
  {
   "cell_type": "code",
   "execution_count": 47,
   "metadata": {},
   "outputs": [
    {
     "name": "stdout",
     "output_type": "stream",
     "text": [
      "sample_datasets/ exists? True\n"
     ]
    }
   ],
   "source": [
    "print(\"sample_datasets/ exists?\", os.path.exists(\"sample_datasets/data.h5\"))"
   ]
  },
  {
   "cell_type": "markdown",
   "metadata": {},
   "source": [
    "or use `os.path.isfile()`:"
   ]
  },
  {
   "cell_type": "code",
   "execution_count": 48,
   "metadata": {},
   "outputs": [
    {
     "name": "stdout",
     "output_type": "stream",
     "text": [
      "sample_datasets/ exists? True\n"
     ]
    }
   ],
   "source": [
    "print(\"sample_datasets/ exists?\", os.path.isfile(\"sample_datasets/data.h5\"))"
   ]
  },
  {
   "cell_type": "markdown",
   "metadata": {},
   "source": [
    "To create a directory, use `os.mkdir()`"
   ]
  },
  {
   "cell_type": "code",
   "execution_count": 49,
   "metadata": {},
   "outputs": [],
   "source": [
    "new_directory = \"test_dir\"\n",
    "try:\n",
    "    os.mkdir(new_directory)\n",
    "except OSError:\n",
    "    print (\"Creation of the directory %s failed\" % new_directory)"
   ]
  },
  {
   "cell_type": "markdown",
   "metadata": {},
   "source": [
    "Check it was created by printing everything in the working directory (equivalent to `ls` on unix)"
   ]
  },
  {
   "cell_type": "code",
   "execution_count": 50,
   "metadata": {},
   "outputs": [
    {
     "data": {
      "text/plain": [
       "['.ipynb_checkpoints',\n",
       " 'data.nc',\n",
       " 'omega_t_dmtet.vtu',\n",
       " 'Quickstart-ByPackage.ipynb',\n",
       " 'Quickstart-ByTask.ipynb',\n",
       " 'sample_datasets',\n",
       " 'scripts',\n",
       " 'test_dir']"
      ]
     },
     "execution_count": 50,
     "metadata": {},
     "output_type": "execute_result"
    }
   ],
   "source": [
    "os.listdir()"
   ]
  },
  {
   "cell_type": "markdown",
   "metadata": {},
   "source": [
    "Delete the directory:"
   ]
  },
  {
   "cell_type": "code",
   "execution_count": 51,
   "metadata": {},
   "outputs": [],
   "source": [
    "new_directory = \"test_dir\"\n",
    "try:\n",
    "    os.rmdir(new_directory)\n",
    "except OSError:\n",
    "    print (\"Removal of the directory %s failed\" % new_directory)"
   ]
  },
  {
   "cell_type": "markdown",
   "metadata": {},
   "source": [
    "Check that `test_dir/` has gone:"
   ]
  },
  {
   "cell_type": "code",
   "execution_count": 52,
   "metadata": {},
   "outputs": [
    {
     "data": {
      "text/plain": [
       "['.ipynb_checkpoints',\n",
       " 'data.nc',\n",
       " 'omega_t_dmtet.vtu',\n",
       " 'Quickstart-ByPackage.ipynb',\n",
       " 'Quickstart-ByTask.ipynb',\n",
       " 'sample_datasets',\n",
       " 'scripts']"
      ]
     },
     "execution_count": 52,
     "metadata": {},
     "output_type": "execute_result"
    }
   ],
   "source": [
    "os.listdir()"
   ]
  },
  {
   "cell_type": "markdown",
   "metadata": {},
   "source": [
    "<a id='sec-os'></a>"
   ]
  },
  {
   "cell_type": "markdown",
   "metadata": {},
   "source": [
    "----\n",
    "## Interacting with the operating system"
   ]
  },
  {
   "cell_type": "markdown",
   "metadata": {},
   "source": [
    "### Executing Unix commands\n",
    "Executing commands as you would on the command line can be performed via Python.\n",
    "We will use the package `subprocess`."
   ]
  },
  {
   "cell_type": "code",
   "execution_count": 53,
   "metadata": {},
   "outputs": [],
   "source": [
    "import subprocess as subprocess"
   ]
  },
  {
   "cell_type": "markdown",
   "metadata": {},
   "source": [
    "Below we simply execute the Unix command `ls -l` using Python.\n",
    "Note that all arguments appear in a comma seperated `list`. "
   ]
  },
  {
   "cell_type": "code",
   "execution_count": 54,
   "metadata": {},
   "outputs": [
    {
     "name": "stdout",
     "output_type": "stream",
     "text": [
      "<class 'subprocess.CompletedProcess'>\n",
      "return code: 0\n",
      "stdout:\n",
      "b'total 23192'\n",
      "b'-rw-r--r--  1 dmay  staff    361493  1 Jun 12:58 Quickstart-ByPackage.ipynb'\n",
      "b'-rw-r--r--  1 dmay  staff    411102  1 Jun 12:54 Quickstart-ByTask.ipynb'\n",
      "b'-rw-r--r--  1 dmay  staff     17666  1 Jun 11:23 data.nc'\n",
      "b'-rw-r--r--  1 dmay  staff  11072935 31 May 17:09 omega_t_dmtet.vtu'\n",
      "b'drwxr-xr-x  7 dmay  staff       238 31 May 20:16 sample_datasets'\n",
      "b'drwxr-xr-x  4 dmay  staff       136  1 Jun 11:29 scripts'\n",
      "stderr: b''\n"
     ]
    }
   ],
   "source": [
    "ierr = subprocess.run([\"ls\", \"-l\"], capture_output=True)\n",
    "print(type(ierr))\n",
    "#print(ierr)\n",
    "print('return code:', ierr.returncode)\n",
    "print('stdout:')\n",
    "stdout = ierr.stdout.splitlines()\n",
    "for txt in stdout:\n",
    "    print(txt)\n",
    "print('stderr:', ierr.stderr)"
   ]
  },
  {
   "cell_type": "markdown",
   "metadata": {},
   "source": [
    "### Changing your environment\n",
    "\n",
    "We can change our environment / shell using the package `os`."
   ]
  },
  {
   "cell_type": "code",
   "execution_count": 55,
   "metadata": {},
   "outputs": [],
   "source": [
    "import os"
   ]
  },
  {
   "cell_type": "markdown",
   "metadata": {},
   "source": [
    "To examine all environment variables, do this:"
   ]
  },
  {
   "cell_type": "code",
   "execution_count": 56,
   "metadata": {},
   "outputs": [
    {
     "name": "stdout",
     "output_type": "stream",
     "text": [
      "environ({'TERM_PROGRAM': 'Apple_Terminal', 'TERM': 'xterm-color', 'SHELL': '/bin/bash', 'PETSC_ARCH': 'arch-gnu-c-debug', 'TMPDIR': '/var/folders/zj/24_zn4p10cjdl0rcp3w1vk5m0000gn/T/', 'CONDA_SHLVL': '1', 'Apple_PubSub_Socket_Render': '/private/tmp/com.apple.launchd.pp3whohrOk/Render', 'CONDA_PROMPT_MODIFIER': '(base) ', 'TERM_PROGRAM_VERSION': '361.1', 'TERM_SESSION_ID': '612519E2-B58A-494D-892F-D47EBABFE80A', 'USER': 'dmay', 'CONDA_EXE': '/opt/anaconda3/bin/conda', 'SSH_AUTH_SOCK': '/private/tmp/com.apple.launchd.4ViUKbAnAZ/Listeners', '__CF_USER_TEXT_ENCODING': '0x1F5:0x0:0x0', '_CE_CONDA': '', 'PATH': '/opt/anaconda3/bin:/opt/anaconda3/condabin:/Users/dmay/anaconda/bin:/Applications/GitX.app/Contents/Resources:/usr/local/bin:/usr/bin:/bin:/usr/sbin:/sbin:/opt/X11/bin:/Library/TeX/texbin', 'CONDA_PREFIX': '/opt/anaconda3', 'PWD': '/Users/dmay/+ucsd/sio-113-2021/course-material/Python-for-Earth-Science-Students', 'LANG': 'en_GB.UTF-8', 'XPC_FLAGS': '0x0', 'PS1': '(base) \\\\[\\\\e[0;33m\\\\]\\\\u\\\\[\\\\e[0m\\\\]@\\\\[\\\\e[0;32m\\\\]\\\\h\\\\[\\\\e[0m\\\\]:\\\\[\\\\e[0;34m\\\\]\\\\w\\\\[\\\\e[0m\\\\]$(parse_git_branch)\\\\[\\\\033[00m\\\\] $ ', '_CE_M': '', 'XPC_SERVICE_NAME': '0', 'HOME': '/Users/dmay', 'SHLVL': '1', 'CONDA_PYTHON_EXE': '/opt/anaconda3/bin/python', 'LOGNAME': 'dmay', 'CONDA_DEFAULT_ENV': 'base', 'DISPLAY': '/private/tmp/com.apple.launchd.0WBy3EM64U/org.macosforge.xquartz:0', 'PETSC_DIR': '/Users/dmay/software/petsc-3.7.3', 'SECURITYSESSIONID': '186a8', '_': '/opt/anaconda3/bin/jupyter', 'KERNEL_LAUNCH_TIMEOUT': '40', 'JPY_PARENT_PID': '9209', 'CLICOLOR': '1', 'PAGER': 'cat', 'GIT_PAGER': 'cat', 'MPLBACKEND': 'module://ipykernel.pylab.backend_inline'})\n"
     ]
    }
   ],
   "source": [
    "print(os.environ)"
   ]
  },
  {
   "cell_type": "markdown",
   "metadata": {},
   "source": [
    "If you wisht to create or change an evironmnent variable, use dict-like notation. Here I set the value of `\"MPI_DIR\"` to be the current working directory:"
   ]
  },
  {
   "cell_type": "code",
   "execution_count": 57,
   "metadata": {},
   "outputs": [],
   "source": [
    "os.environ['MPI_DIR'] = os.getcwd()"
   ]
  },
  {
   "cell_type": "code",
   "execution_count": 58,
   "metadata": {},
   "outputs": [
    {
     "name": "stdout",
     "output_type": "stream",
     "text": [
      "environ({'TERM_PROGRAM': 'Apple_Terminal', 'TERM': 'xterm-color', 'SHELL': '/bin/bash', 'PETSC_ARCH': 'arch-gnu-c-debug', 'TMPDIR': '/var/folders/zj/24_zn4p10cjdl0rcp3w1vk5m0000gn/T/', 'CONDA_SHLVL': '1', 'Apple_PubSub_Socket_Render': '/private/tmp/com.apple.launchd.pp3whohrOk/Render', 'CONDA_PROMPT_MODIFIER': '(base) ', 'TERM_PROGRAM_VERSION': '361.1', 'TERM_SESSION_ID': '612519E2-B58A-494D-892F-D47EBABFE80A', 'USER': 'dmay', 'CONDA_EXE': '/opt/anaconda3/bin/conda', 'SSH_AUTH_SOCK': '/private/tmp/com.apple.launchd.4ViUKbAnAZ/Listeners', '__CF_USER_TEXT_ENCODING': '0x1F5:0x0:0x0', '_CE_CONDA': '', 'PATH': '/opt/anaconda3/bin:/opt/anaconda3/condabin:/Users/dmay/anaconda/bin:/Applications/GitX.app/Contents/Resources:/usr/local/bin:/usr/bin:/bin:/usr/sbin:/sbin:/opt/X11/bin:/Library/TeX/texbin', 'CONDA_PREFIX': '/opt/anaconda3', 'PWD': '/Users/dmay/+ucsd/sio-113-2021/course-material/Python-for-Earth-Science-Students', 'LANG': 'en_GB.UTF-8', 'XPC_FLAGS': '0x0', 'PS1': '(base) \\\\[\\\\e[0;33m\\\\]\\\\u\\\\[\\\\e[0m\\\\]@\\\\[\\\\e[0;32m\\\\]\\\\h\\\\[\\\\e[0m\\\\]:\\\\[\\\\e[0;34m\\\\]\\\\w\\\\[\\\\e[0m\\\\]$(parse_git_branch)\\\\[\\\\033[00m\\\\] $ ', '_CE_M': '', 'XPC_SERVICE_NAME': '0', 'HOME': '/Users/dmay', 'SHLVL': '1', 'CONDA_PYTHON_EXE': '/opt/anaconda3/bin/python', 'LOGNAME': 'dmay', 'CONDA_DEFAULT_ENV': 'base', 'DISPLAY': '/private/tmp/com.apple.launchd.0WBy3EM64U/org.macosforge.xquartz:0', 'PETSC_DIR': '/Users/dmay/software/petsc-3.7.3', 'SECURITYSESSIONID': '186a8', '_': '/opt/anaconda3/bin/jupyter', 'KERNEL_LAUNCH_TIMEOUT': '40', 'JPY_PARENT_PID': '9209', 'CLICOLOR': '1', 'PAGER': 'cat', 'GIT_PAGER': 'cat', 'MPLBACKEND': 'module://ipykernel.pylab.backend_inline', 'MPI_DIR': '/Users/dmay/+ucsd/sio-113-2021/course-material/Python-for-Earth-Science-Students/QuickstartGuides'})\n"
     ]
    }
   ],
   "source": [
    "# Check the value got set\n",
    "print(os.environ)"
   ]
  },
  {
   "cell_type": "markdown",
   "metadata": {},
   "source": [
    "Note that the environment settings you apply in a Python script will not carry over outside that specific process. \n",
    "That is, os.environ doesn’t overwrite the environment variables system-wide. \n",
    "If you need to permanently delete or set environment variables you will need to do so within your shell environment, for example in your `.bashrc` (if using Bash)."
   ]
  },
  {
   "cell_type": "markdown",
   "metadata": {},
   "source": [
    "If you want to add a search path for loading a Python module, you unfortunately cannot use the process above and change the value of `PATH` or `PYTHONPATH`. Rather you have to use the package `sys` like this"
   ]
  },
  {
   "cell_type": "code",
   "execution_count": 59,
   "metadata": {},
   "outputs": [],
   "source": [
    "import sys"
   ]
  },
  {
   "cell_type": "code",
   "execution_count": 60,
   "metadata": {},
   "outputs": [],
   "source": [
    "# This won't work\n",
    "#os.environ['PATH'] = os.path.join(os.getcwd(), \"scripts\")\n",
    "#os.environ['PYTHONPATH'] = os.path.join(os.getcwd(), \"scripts\")\n",
    "\n",
    "# This will work\n",
    "sys.path.append(os.path.join(os.getcwd(), \"scripts\"))"
   ]
  },
  {
   "cell_type": "markdown",
   "metadata": {},
   "source": [
    "Now import a Python file provided as a module (it should not produce a run-time / import error):"
   ]
  },
  {
   "cell_type": "code",
   "execution_count": 61,
   "metadata": {},
   "outputs": [],
   "source": [
    "import write_nc4"
   ]
  },
  {
   "cell_type": "markdown",
   "metadata": {},
   "source": [
    "<a id='sec-interpolation'></a>"
   ]
  },
  {
   "cell_type": "markdown",
   "metadata": {},
   "source": [
    "----\n",
    "## Interpolation"
   ]
  },
  {
   "cell_type": "markdown",
   "metadata": {},
   "source": [
    "### Interpolate to improve `pcolormesh()` result"
   ]
  },
  {
   "cell_type": "code",
   "execution_count": 83,
   "metadata": {},
   "outputs": [],
   "source": [
    "import numpy as np\n",
    "import matplotlib.pyplot as plt"
   ]
  },
  {
   "cell_type": "markdown",
   "metadata": {},
   "source": [
    "This was our previous result using `pcolormesh()`.\n",
    "It does not involve any interpolation, hence each \"pixel\" in the image is assigned a constant color."
   ]
  },
  {
   "cell_type": "code",
   "execution_count": 84,
   "metadata": {},
   "outputs": [],
   "source": [
    "x1, x2 = np.linspace(0.0, 1.0, 20), np.linspace(0.0, 2.0, 22)\n",
    "XG, YG = np.meshgrid( x1, x2 )\n",
    "field = 0.4*YG**2 + np.sin(XG * 1.3 * np.pi)"
   ]
  },
  {
   "cell_type": "code",
   "execution_count": 85,
   "metadata": {},
   "outputs": [
    {
     "data": {
      "image/png": "[encoded data removed]",
      "text/plain": [
       "<Figure size 288x288 with 1 Axes>"
      ]
     },
     "metadata": {
      "needs_background": "light"
     },
     "output_type": "display_data"
    }
   ],
   "source": [
    "fig = plt.figure(figsize=(4, 4))\n",
    "ax1 = fig.add_subplot(111)\n",
    "im1 = ax1.pcolor(XG, YG, field, cmap='seismic') # Restrict range of field with arguments vmin, vmax"
   ]
  },
  {
   "cell_type": "markdown",
   "metadata": {},
   "source": [
    "We can make a nicer image if we interpolate the data onto a finer mesh, here given by $120 \\times 122$ points.\n",
    "There are numerous ways to do this. For 2D data it is simplest to use `scipy.interpolate.inter2d()`.\n",
    "In the first step, we define an interpolant using a cubic spline. \n",
    "In the second step, we evaluate the interpolant on a new refined mesh (given by $120 \\times 122$ points)."
   ]
  },
  {
   "cell_type": "code",
   "execution_count": 86,
   "metadata": {},
   "outputs": [
    {
     "data": {
      "image/png": "[encoded data removed]",
      "text/plain": [
       "<Figure size 288x288 with 1 Axes>"
      ]
     },
     "metadata": {
      "needs_background": "light"
     },
     "output_type": "display_data"
    }
   ],
   "source": [
    "from scipy.interpolate import interp2d\n",
    "\n",
    "# Define the interolant\n",
    "x1, x2 = np.linspace(0.0, 1.0, 20), np.linspace(0.0, 2.0, 22)\n",
    "interpolant_f = interp2d(x1, x2, field, kind='cubic') # Specify the \n",
    "\n",
    "# Perform the interpolation\n",
    "x1r, x2r = np.linspace(0.0, 1.0, 120), np.linspace(0.0, 2.0, 122)\n",
    "field2 = interpolant_f(x1r, x2r)\n",
    "\n",
    "# Make the figure using the interpolated data\n",
    "fig = plt.figure(figsize=(4, 4))\n",
    "ax1 = fig.add_subplot(111)\n",
    "im1 = ax1.pcolormesh(x1r, x2r, field2, cmap='seismic') # Make even nicer / smoother using argument shading='gouraud'."
   ]
  },
  {
   "cell_type": "markdown",
   "metadata": {},
   "source": [
    "<a id='sec-viz'></a>"
   ]
  },
  {
   "cell_type": "markdown",
   "metadata": {},
   "source": [
    "----\n",
    "## Visualizing Data"
   ]
  },
  {
   "cell_type": "markdown",
   "metadata": {},
   "source": [
    "### Working with VTK files"
   ]
  },
  {
   "cell_type": "markdown",
   "metadata": {},
   "source": [
    "ParaView (https://www.paraview.org/) is an excellent visualization tool for 3-D datasets.\n",
    "That said, it is not always easy to make publication quality figures with ParaView.\n",
    "For 2-D datasets, this task is much easier using matplotlib.\n",
    "Given a VTK file (we will work with `.vtu` files - for unstructured meshes), we can extract the mesh connectivity and the fields defined within it using Python. We do this using the package `vtk`. \n",
    "This package allows us to open and extract data. Then we push these fields into a matplotlib unstructured mesh object which can be used for plotting. `vtu_extract_element_connectivity()` pulls out the element-mesh connectivity table, `vtu_extract_fields()` will pull out all cell fields and point fields defined in the file."
   ]
  },
  {
   "cell_type": "code",
   "execution_count": 87,
   "metadata": {},
   "outputs": [],
   "source": [
    "# https://stackoverflow.com/questions/54044958/reading-data-from-a-raw-vtk-vtu-file\n",
    "def vtu_extract_element_connectivity(fname):\n",
    "    \"\"\"\n",
    "    Loads a vtu file, extracts the \"connectivity\" field and \n",
    "    converts the data into a NumPy array (int64).\n",
    "    The element-vertex map is returned as a 2D ndarray.\n",
    "    It is assumed that all cells are of the same VTK type.\n",
    "    The \"offset\" field in the vtu file is processed and checked to ensure that \n",
    "    all cells are the same VTK type (e.g. triangle).\n",
    "    \n",
    "    Parameters:\n",
    "    -----------\n",
    "    fname : string\n",
    "      Filename of a VTU file\n",
    "      \n",
    "    Returns:\n",
    "    --------\n",
    "    elmap : ndarray, shape = (ncells, npoints_per_cell)\n",
    "        Element-vertex map associated with VTK cells, with dimensions (nCells, npoints_per_cell)\n",
    "    \"\"\"\n",
    "    \n",
    "    import vtk as vtk\n",
    "\n",
    "    # Read the source vtu file.\n",
    "    reader = vtk.vtkXMLUnstructuredGridReader()\n",
    "    reader.SetFileName(fname)\n",
    "    reader.Update() # Needed because of GetScalarRange\n",
    "    output = reader.GetOutput()\n",
    "\n",
    "    cells = output.GetCells()\n",
    "\n",
    "    offset_per_cell = cells.IsHomogeneous()\n",
    "    if offset_per_cell <= 0:\n",
    "        raise ValueError('Require all cells have the same size (homogeneous).')\n",
    "\n",
    "    nCells = cells.GetNumberOfCells()\n",
    "    array = cells.GetConnectivityArray()\n",
    "    elmap = np.asarray(array ,dtype=np.int64)\n",
    "    elmap = elmap.reshape(nCells, offset_per_cell)\n",
    "    return elmap"
   ]
  },
  {
   "cell_type": "code",
   "execution_count": 88,
   "metadata": {},
   "outputs": [],
   "source": [
    "def vtu_extract_fields(fname, extract_coor=True):\n",
    "    \"\"\"\n",
    "    Extract point fields, cell fields and point coordiantes from a vtu file.\n",
    "    \n",
    "    Parameters:\n",
    "    -----------\n",
    "    extract_coor : boolean\n",
    "        Flag to indicate whether you want the coordinates to be extracted.\n",
    "    \n",
    "    Returns:\n",
    "    --------\n",
    "    point_field : dict\n",
    "      All point fields found. Key is the name provided in the VTU file.\n",
    "    cell_field : dict\n",
    "      All cell fields found. Key is the name provided in the VTU file.\n",
    "    coor_field : dict\n",
    "      Coordinates of the mesh. `coor_field` be empty if extract_coor = False.\n",
    "      Key used is \"coor\".\n",
    "    \"\"\"\n",
    "    \n",
    "    import vtk as vtk\n",
    "    \n",
    "    point_field = {}\n",
    "    cell_field = {}\n",
    "    coor_field = {}\n",
    "    \n",
    "    # Read the source vtu file.\n",
    "    reader = vtk.vtkXMLUnstructuredGridReader()\n",
    "    reader.SetFileName(fname)\n",
    "    reader.Update() # Needed because of GetScalarRange\n",
    "    output = reader.GetOutput()\n",
    "\n",
    "    points = output.GetPoints()\n",
    "    array = points.GetData()\n",
    "    xyz = np.asarray(array, dtype=np.float64)\n",
    "    if extract_coor:\n",
    "        coor_field[\"coor\"] = xyz\n",
    "    \n",
    "    pointFields = output.GetPointData()\n",
    "    \n",
    "    nfields = pointFields.GetNumberOfArrays()\n",
    "    print('#point fields', nfields)\n",
    "    for f in range(nfields):\n",
    "        print('  pointFields.name', pointFields.GetArrayName(f))\n",
    "        #print('pointFields.ndof', pointFields.GetNumberOfComponents(f))\n",
    "        array = pointFields.GetArray(f)\n",
    "        pf = np.asarray(array, dtype=np.float64)\n",
    "        point_field[ pointFields.GetArrayName(f) ] = pf\n",
    "        \n",
    "    #cells = output.GetCells()\n",
    "    cellFields = output.GetCellData()\n",
    "    nfields = cellFields.GetNumberOfArrays()\n",
    "    print('#cell fields', nfields)\n",
    "    for f in range(nfields):\n",
    "        print('  cellFields.name', cellFields.GetArrayName(f))\n",
    "        array = cellFields.GetArray(f)\n",
    "        cf = np.asarray(array, dtype=np.float64)\n",
    "        cell_field[ cellFields.GetArrayName(f) ] = cf\n",
    "        \n",
    "    return point_field, cell_field, coor_field"
   ]
  },
  {
   "cell_type": "markdown",
   "metadata": {},
   "source": [
    "An example usage of the above two functions is shown below."
   ]
  },
  {
   "cell_type": "code",
   "execution_count": 89,
   "metadata": {},
   "outputs": [
    {
     "name": "stdout",
     "output_type": "stream",
     "text": [
      "#point fields 1\n",
      "  pointFields.name t\n",
      "#cell fields 0\n",
      "point fields found: ['t']\n",
      "cell fields found: []\n"
     ]
    }
   ],
   "source": [
    "e2v = vtu_extract_element_connectivity(\"sample_datasets/xt_dmtet.vtu\")\n",
    "pf, cf, coor = vtu_extract_fields(\"sample_datasets/xt_dmtet.vtu\")\n",
    "\n",
    "# See what we got\n",
    "pf_names = list(pf.keys())\n",
    "print('point fields found:', pf_names)\n",
    "cf_names = list(cf.keys())\n",
    "print('cell fields found:', cf_names)"
   ]
  },
  {
   "cell_type": "markdown",
   "metadata": {},
   "source": [
    "Now we have pulled out the data from the `.vtu` file, we can plot it.\n",
    "We can make a triangle mesh object using `matplotlib.tri.Triangulation()`.\n",
    "The resulting mesh object, combined with a point field (here `'T'`) can be plotted using filled contours (for example) for a triangular mesh (`plt.tricontourf()`):"
   ]
  },
  {
   "cell_type": "code",
   "execution_count": 146,
   "metadata": {},
   "outputs": [
    {
     "data": {
      "image/png": "[encoded data removed]",
      "text/plain": [
       "<Figure size 720x720 with 2 Axes>"
      ]
     },
     "metadata": {
      "needs_background": "light"
     },
     "output_type": "display_data"
    }
   ],
   "source": [
    "import matplotlib.tri as mtri\n",
    "\n",
    "# Create a Triangulation() instance by supplying the coordinaates, and element-vertex connectivity.\n",
    "tri = mtri.Triangulation(coor['coor'][:, 0], coor['coor'][:, 1], e2v)\n",
    "\n",
    "fig = plt.figure(figsize=(10, 10))\n",
    "ax1 = fig.add_subplot(111)\n",
    "ax1.set_aspect('equal')\n",
    "cfill = ax1.tricontourf(tri, pf['t'][:], levels=200, cmap='bwr')\n",
    "fig.colorbar(cfill, ax=ax1, fraction=0.025);"
   ]
  },
  {
   "cell_type": "markdown",
   "metadata": {},
   "source": [
    "Using `tricontourf()` with lots of levels (to make a smooth image) may be slow. \n",
    "You can also use a method like `pcolor`, but for unstructured triangle meshes called `plt.tripcolor()`."
   ]
  },
  {
   "cell_type": "code",
   "execution_count": 137,
   "metadata": {},
   "outputs": [
    {
     "data": {
      "image/png": "[encoded data removed]",
      "text/plain": [
       "<Figure size 720x720 with 1 Axes>"
      ]
     },
     "metadata": {
      "needs_background": "light"
     },
     "output_type": "display_data"
    }
   ],
   "source": [
    "# Used this way, we provide CELL values on each triangle.\n",
    "# plt.tripcolor() does not require a triangulation object used this way.\n",
    "T_cell = np.zeros(e2v.shape[0])\n",
    "T_cell = pf['t'][e2v]\n",
    "T_cell = T_cell.mean(axis=1)\n",
    "\n",
    "fig = plt.figure(figsize=(10, 10))\n",
    "ax1 = fig.add_subplot(111)\n",
    "ax1.set_aspect('equal')\n",
    "cfill = ax1.tripcolor(coor['coor'][:, 0], coor['coor'][:, 1], e2v, T_cell, cmap='bwr')"
   ]
  },
  {
   "cell_type": "markdown",
   "metadata": {},
   "source": [
    "Below, we use `plt.tripcolor()` with a triangulation object (`matplotlib.tri.Triangulation`) which here has the variable name `tri`. Because of this, coordinates do not have to be provided to the plotting function.\n",
    "Furthermore, you also provide the field on each vertex in the mesh (and not the field value on each cell)."
   ]
  },
  {
   "cell_type": "code",
   "execution_count": 138,
   "metadata": {},
   "outputs": [
    {
     "data": {
      "image/png": "[encoded data removed]",
      "text/plain": [
       "<Figure size 720x720 with 1 Axes>"
      ]
     },
     "metadata": {
      "needs_background": "light"
     },
     "output_type": "display_data"
    }
   ],
   "source": [
    "fig = plt.figure(figsize=(10, 10))\n",
    "ax1 = fig.add_subplot(111)\n",
    "ax1.set_aspect('equal')\n",
    "cfill = ax1.tripcolor(tri, pf['t'][:], cmap='bwr', shading='gouraud')"
   ]
  },
  {
   "cell_type": "markdown",
   "metadata": {},
   "source": [
    "You can build a transect throughout our unstructured mesh and interpolate values to it using `matplotlib.tri.LinearTriInterpolator()` or `matplotlib.tri.CubicTriInterpolator()`.\n",
    "Below I give an example."
   ]
  },
  {
   "cell_type": "code",
   "execution_count": 133,
   "metadata": {},
   "outputs": [],
   "source": [
    "T = pf['t'][:]\n",
    "\n",
    "# Create two transects\n",
    "\n",
    "# Transect mis-aligned with x-y Cartesian coordinate system\n",
    "nsample_points = 128\n",
    "xt = np.linspace(310.0, 700.0, nsample_points)\n",
    "yt = np.linspace(-300.0, -50.0, nsample_points)\n",
    "\n",
    "# Transect parallel to the y axis\n",
    "xt2 = np.linspace(375.0, 375.0, nsample_points)\n",
    "yt2 = np.linspace(-300.0, -1.0, nsample_points)\n",
    "\n",
    "# Create the interpolant (linear)\n",
    "interp_lin = mtri.LinearTriInterpolator(tri, T)\n",
    "zt_lin = interp_lin(xt, yt)\n",
    "zt_lin2 = interp_lin(xt2, yt2)\n",
    "\n",
    "# Create the interpolant (cubic)\n",
    "interp_cubic_geom = mtri.CubicTriInterpolator(tri, T, kind='geom')\n",
    "zt_cubic_geom = interp_cubic_geom(xt, yt)\n",
    "zt_cubic_geom2 = interp_cubic_geom(xt2, yt2)\n",
    "\n",
    "#interp_cubic_min_E = mtri.CubicTriInterpolator(tri, T, kind='min_E')\n",
    "#zi_cubic_min_E = interp_cubic_min_E(xt, yt)"
   ]
  },
  {
   "cell_type": "markdown",
   "metadata": {},
   "source": [
    "Below the results of the interpolated temperature values are shown, and lastly a plot displaying the location of the transects is provided."
   ]
  },
  {
   "cell_type": "code",
   "execution_count": 134,
   "metadata": {},
   "outputs": [
    {
     "data": {
      "image/png": "[encoded data removed]",
      "text/plain": [
       "<Figure size 720x360 with 2 Axes>"
      ]
     },
     "metadata": {
      "needs_background": "light"
     },
     "output_type": "display_data"
    }
   ],
   "source": [
    "import matplotlib.gridspec as gridspec\n",
    "\n",
    "gs = gridspec.GridSpec(nrows=1, ncols=2)\n",
    "\n",
    "fig = plt.figure(figsize=(10, 5))\n",
    "\n",
    "ax1 = fig.add_subplot(gs[0, 0]) # Axis for row 0, col 0.\n",
    "g1 = ax1.plot(xt, zt_lin, 'r-', label='transect 1');\n",
    "g2 = ax1.plot(xt[::3], zt_cubic_geom[::3], 'g.');\n",
    "ax1.set_xlabel('x (m)')\n",
    "ax1.legend(loc='upper right');\n",
    "\n",
    "ax2 = fig.add_subplot(gs[0, 1]) # Axis for row 0, col 0.\n",
    "g3 = ax2.plot(yt2, zt_lin2, 'r-', label='transect 2');\n",
    "g4 = ax2.plot(yt2[::3], zt_cubic_geom2[::3], 'g.');\n",
    "ax2.set_xlabel('y (m)');\n",
    "ax2.legend(loc='upper right');"
   ]
  },
  {
   "cell_type": "code",
   "execution_count": 135,
   "metadata": {},
   "outputs": [
    {
     "data": {
      "image/png": "[encoded data removed]",
      "text/plain": [
       "<Figure size 432x288 with 1 Axes>"
      ]
     },
     "metadata": {
      "needs_background": "light"
     },
     "output_type": "display_data"
    }
   ],
   "source": [
    "cfill = plt.tripcolor(tri, pf['t'][:], cmap='bwr', shading='gouraud')\n",
    "g1 = plt.plot([xt[0], xt[-1]], [yt[0], yt[-1]], 'k-', label='transect 1');\n",
    "g2 = plt.plot([xt2[0], xt2[-1]], [yt2[0], yt2[-1]], 'c-', label='transect 2');\n",
    "plt.legend(loc='lower left');"
   ]
  },
  {
   "cell_type": "markdown",
   "metadata": {},
   "source": [
    "### Unstructured point clouds\n",
    "\n",
    "In this section we discuss 2-D viz techniques which can be useful when you have data, but no underlying mesh.\n",
    "That is, we have a cloud of points in space with no known connectivity between them."
   ]
  },
  {
   "cell_type": "code",
   "execution_count": 75,
   "metadata": {},
   "outputs": [],
   "source": [
    "# Create some data. It lives on a mesh, but let's pretend it is unstructured.\n",
    "xu = np.linspace(0.0, 1000.0, 32)\n",
    "yu = np.linspace(0.0, 1000.0, 56)\n",
    "\n",
    "xuG, yuG = np.meshgrid(xu, yu)\n",
    "xuG = xuG.flatten()\n",
    "yuG = yuG.flatten()\n",
    "\n",
    "zuG = xuG**2 + yuG*1000"
   ]
  },
  {
   "cell_type": "markdown",
   "metadata": {},
   "source": [
    "#### Triangulate (\"by hand\") and plot"
   ]
  },
  {
   "cell_type": "markdown",
   "metadata": {},
   "source": [
    "We can create a triangulation from the point cloud, and the use `plt.tripcolor()` to plot `zuG`."
   ]
  },
  {
   "cell_type": "code",
   "execution_count": 76,
   "metadata": {},
   "outputs": [
    {
     "data": {
      "image/png": "[encoded data removed]",
      "text/plain": [
       "<Figure size 432x288 with 1 Axes>"
      ]
     },
     "metadata": {
      "needs_background": "light"
     },
     "output_type": "display_data"
    }
   ],
   "source": [
    "# Create the triangulation\n",
    "utri = mtri.Triangulation(xuG, yuG)\n",
    "\n",
    "# Plot the result\n",
    "cfill = plt.tripcolor(utri, zuG, cmap='bwr', shading='flat')"
   ]
  },
  {
   "cell_type": "markdown",
   "metadata": {},
   "source": [
    "#### Triangulate, interpolate onto a fine structured mesh (by hand) and plot"
   ]
  },
  {
   "cell_type": "code",
   "execution_count": 77,
   "metadata": {},
   "outputs": [],
   "source": [
    "# Create the triangulation\n",
    "interp = mtri.LinearTriInterpolator(utri, zuG)\n",
    "#interp = mtri.CubicTriInterpolator(utri, zuG, kind='geom')"
   ]
  },
  {
   "cell_type": "code",
   "execution_count": 78,
   "metadata": {},
   "outputs": [],
   "source": [
    "# Create the structured fine mesh\n",
    "xr = np.linspace(0.0, 1000.0, 32*4)\n",
    "yr = np.linspace(0.0, 1000.0, 56*4)\n",
    "xrG, yrG = np.meshgrid(xr, yr)\n",
    "\n",
    "# Interpolate\n",
    "ziG = interp(xrG, yrG)"
   ]
  },
  {
   "cell_type": "code",
   "execution_count": 79,
   "metadata": {},
   "outputs": [
    {
     "data": {
      "image/png": "[encoded data removed]",
      "text/plain": [
       "<Figure size 288x288 with 1 Axes>"
      ]
     },
     "metadata": {
      "needs_background": "light"
     },
     "output_type": "display_data"
    }
   ],
   "source": [
    "fig = plt.figure(figsize=(4, 4))\n",
    "ax1 = fig.add_subplot(111)\n",
    "im1 = ax1.pcolormesh(xr, yr, ziG, cmap='seismic', shading='gouraud')"
   ]
  },
  {
   "cell_type": "markdown",
   "metadata": {},
   "source": [
    "#### Triangulate, interpolate (using high level function) and then plot"
   ]
  },
  {
   "cell_type": "markdown",
   "metadata": {},
   "source": [
    "We will use the method `scipy.interpolate.griddata()` from the package SciPy."
   ]
  },
  {
   "cell_type": "code",
   "execution_count": 80,
   "metadata": {},
   "outputs": [],
   "source": [
    "from scipy.interpolate import griddata"
   ]
  },
  {
   "cell_type": "code",
   "execution_count": 81,
   "metadata": {},
   "outputs": [],
   "source": [
    "# Create a fine mesh\n",
    "xr = np.linspace(0.0, 1000.0, 32*4)\n",
    "yr = np.linspace(0.0, 1000.0, 56*4)\n",
    "xrG, yrG = np.meshgrid(xr, yr)\n",
    "\n",
    "grid_z2 = griddata((xuG, yuG), zuG, (xrG, yrG), method='cubic')"
   ]
  },
  {
   "cell_type": "code",
   "execution_count": 82,
   "metadata": {},
   "outputs": [
    {
     "data": {
      "image/png": "[encoded data removed]",
      "text/plain": [
       "<Figure size 288x288 with 1 Axes>"
      ]
     },
     "metadata": {
      "needs_background": "light"
     },
     "output_type": "display_data"
    }
   ],
   "source": [
    "fig = plt.figure(figsize=(4, 4))\n",
    "ax1 = fig.add_subplot(111)\n",
    "im1 = ax1.pcolormesh(xr, yr, grid_z2, cmap='seismic', shading='flat')"
   ]
  },
  {
   "cell_type": "code",
   "execution_count": null,
   "metadata": {},
   "outputs": [],
   "source": []
  }
 ],
 "metadata": {
  "kernelspec": {
   "display_name": "Python 3",
   "language": "python",
   "name": "python3"
  },
  "language_info": {
   "codemirror_mode": {
    "name": "ipython",
    "version": 3
   },
   "file_extension": ".py",
   "mimetype": "text/x-python",
   "name": "python",
   "nbconvert_exporter": "python",
   "pygments_lexer": "ipython3",
   "version": "3.8.3"
  }
 },
 "nbformat": 4,
 "nbformat_minor": 4
}
