{
 "cells": [
  {
   "cell_type": "markdown",
   "metadata": {},
   "source": [
    "##  Lecture 6\n",
    "\n",
    "### Learning objectives\n",
    "\n",
    "- Learn about two very useful Python packages: **NumPy** and **matplotlib**.\n",
    "- Learn about the NumPy `ndarray` object (creation, assignment of values).\n",
    "- Learn how to plot simple line graphs using matplotlib.\n",
    "- Learn more about Python modules and the usage of `import`."
   ]
  },
  {
   "cell_type": "markdown",
   "metadata": {},
   "source": [
    "In the last lecture we learned how to create modules.  These are  files that contain one or more functions and variables.  They can be imported and used in other programs or notebooks, saving us a lot of time and headache.   \n",
    "\n",
    "A Python _package_ contains a collection of modules that are related to each other.  Our first _package_ is one of the most useful ones for us science types: **NumPy**.  \n",
    "\n",
    "\n",
    "### A first look at NumPy\n",
    "\n",
    "O.K.  First of all - how do you pronounce \"NumPy\"'? It should be pronounced \"Num\" as in \"Number\" and \"Pie\" as in, well, pie, or Python.  It is way more fun to say Numpee! I try to suppress this urge.  \n",
    "\n",
    "Now with that out of the way, what can we do with **NumPy**?  Turns out, a whole heck of a lot!  But for now, we will just scratch the surface.   For starters, **NumPy**  can give us the value of the square root of a number with the function `numpy.sqrt()`.  Note how the package name comes first, then the function we wish to use (just as in our example from the last lecture).  \n",
    "\n",
    "To use **NumPy** functions, we must first `import` the package with the command `import`.  It may take a while the first time you use `import` after installing Python, but after that it should load quickly.  \n",
    "\n",
    "We encountered `import` very briefly in the last lecture.  Now it is time to go deeper.  There are many different ways you can use the `import` command. Each way allows your program to access  the functions and variables defined in the imported package, but differs in how you call the function after importing: "
   ]
  },
  {
   "cell_type": "code",
   "execution_count": 1,
   "metadata": {},
   "outputs": [
    {
     "data": {
      "text/plain": [
       "1.4142135623730951"
      ]
     },
     "execution_count": 1,
     "metadata": {},
     "output_type": "execute_result"
    }
   ],
   "source": [
    "import numpy\n",
    "\n",
    "# This makes all the functions in NumPy available to you, \n",
    "# but you have to call them with the numpy.FUNC() syntax\n",
    "\n",
    "numpy.sqrt(2)"
   ]
  },
  {
   "cell_type": "code",
   "execution_count": 2,
   "metadata": {},
   "outputs": [
    {
     "data": {
      "text/plain": [
       "1.4142135623730951"
      ]
     },
     "execution_count": 2,
     "metadata": {},
     "output_type": "execute_result"
    }
   ],
   "source": [
    "# Here is another way to import a module:  \n",
    "import numpy as np  # or any other variable e.g.:  N\n",
    "# This does the same as the first, but allows you to set NumPy with a nickname\n",
    "\n",
    "# In this case, you substitute \"np\" for numpy:\n",
    "\n",
    "np.sqrt(2)  # or N.pi in the second case. \n",
    "\n",
    "# Note: Some folks in the NumPy community use N; I use np. \n",
    "# That seems to be the most common way now."
   ]
  },
  {
   "cell_type": "markdown",
   "metadata": {},
   "source": [
    "To import all the functions from NumPy: "
   ]
  },
  {
   "cell_type": "code",
   "execution_count": 3,
   "metadata": {},
   "outputs": [
    {
     "data": {
      "text/plain": [
       "1.4142135623730951"
      ]
     },
     "execution_count": 3,
     "metadata": {},
     "output_type": "execute_result"
    }
   ],
   "source": [
    "from numpy import *\n",
    "\n",
    "# Now all the functions are available directly, without the initial module name: \n",
    "\n",
    "sqrt(2)"
   ]
  },
  {
   "cell_type": "markdown",
   "metadata": {},
   "source": [
    "The `*` imports all the functions into the local namespace, which is a heavy load on your computer's memory.  Alternatively, you can import the few, specific functions you'll use, for example, `sqrt`: \n"
   ]
  },
  {
   "cell_type": "code",
   "execution_count": 4,
   "metadata": {},
   "outputs": [
    {
     "data": {
      "text/plain": [
       "2.0"
      ]
     },
     "execution_count": 4,
     "metadata": {},
     "output_type": "execute_result"
    }
   ],
   "source": [
    "from numpy import sqrt # Only import the square root function from numpy\n",
    "\n",
    "sqrt(4)"
   ]
  },
  {
   "cell_type": "markdown",
   "metadata": {},
   "source": [
    "Did you notice how `sqrt(4)`, where 4 was an integer, returned a floating point variable (2.0)? "
   ]
  },
  {
   "cell_type": "markdown",
   "metadata": {},
   "source": [
    "**TIP**:  I tend to import the **NumPy** package using the `np` option above.  That way  I know where the functions I'm using come from. This is useful, becuase we don't use or know ALL of the functions available in any given package. AND the same function name can mean different things in different packages.  So, a function defined in the package could conflict with one defined in your program. It is just good programming practice to specify the origin of the function you are using.  "
   ]
  },
  {
   "cell_type": "markdown",
   "metadata": {},
   "source": [
    "### NumPy functions\n",
    "\n",
    "Here is a (partial) list of some useful **NumPy** functions:\n",
    "\n"
   ]
  },
  {
   "cell_type": "markdown",
   "metadata": {},
   "source": [
    "|function | purpose|\n",
    "|------------ |--------------|\n",
    "|`absolute(x)`  | absolute value|\n",
    "|`arccos(x)`   |arccosine |\n",
    "|`arcsin(x)`    | arcsine |\n",
    "|`arctan(x)`    | arctangent |\n",
    "|`arctan2(y,x)`  |arctangent of y/x in correct quadrant| \n",
    "|`cos(x)`        |cosine |\n",
    "|`cosh(x)`      | hyperbolic cosine |\n",
    "|`exp(x)`      |  exponential |\n",
    "|`log(x)`      |  natural logarithm |\n",
    "|`log10(x)`    |  base 10 log |\n",
    "|`sin(x)`       | sine |\n",
    "|`sinh(x)`     |  hyperbolic sine |\n",
    "|`sqrt(x)`    |   square root |\n",
    "|`tan(x)`      |  tangent |\n",
    "|`tanh(x)`    |   hyperbolic tangent |\n",
    "\n"
   ]
  },
  {
   "cell_type": "markdown",
   "metadata": {},
   "source": [
    "\n",
    "\n",
    "### Numpy attributes\n",
    "\n",
    "**NumPy** has more than just functions; it also has _attributes_ which are variables stored in the package, for example $\\pi$.  "
   ]
  },
  {
   "cell_type": "code",
   "execution_count": 5,
   "metadata": {},
   "outputs": [
    {
     "data": {
      "text/plain": [
       "3.141592653589793"
      ]
     },
     "execution_count": 5,
     "metadata": {},
     "output_type": "execute_result"
    }
   ],
   "source": [
    "np.pi"
   ]
  },
  {
   "cell_type": "markdown",
   "metadata": {},
   "source": [
    "**TIP**:    In the trigonometric functions,  the argument is in RADIANS!.You can convert between degrees and radians by multiplying by: `np.pi/180.0`, or you can convert using the **NumPy** functions `np.degrees()` which converts radians to degrees and `np.radians()` which converts degrees to radians.  \n",
    "\n",
    "Also notice how the functions have parentheses, as opposed to `np.pi` which does not.  The difference is that `np.pi` is not a function but an _attribute_. It is a variable defined in **NumPy** that you can access. Every time you call the variable `np.pi`, it returns the value of $\\pi$. "
   ]
  },
  {
   "cell_type": "markdown",
   "metadata": {},
   "source": [
    "### Using NumPy Functions\n",
    "\n",
    "As already mentioned, **NumPy** has many math functions.   We will use a few to generate some data sets that we can then plot using **matplotlib**, another Python module. \n",
    "\n",
    "First, let's make a list of angles ($\\theta$ or **theta**) around a circle.  We begin with the list of angles in degrees, convert them to radians (using `np.radians()`), then construct a list of sines of those angles.  "
   ]
  },
  {
   "cell_type": "code",
   "execution_count": 6,
   "metadata": {},
   "outputs": [
    {
     "data": {
      "text/plain": [
       "array([ 0.00000000e+00,  8.71557427e-02,  1.73648178e-01,  2.58819045e-01,\n",
       "        3.42020143e-01,  4.22618262e-01,  5.00000000e-01,  5.73576436e-01,\n",
       "        6.42787610e-01,  7.07106781e-01,  7.66044443e-01,  8.19152044e-01,\n",
       "        8.66025404e-01,  9.06307787e-01,  9.39692621e-01,  9.65925826e-01,\n",
       "        9.84807753e-01,  9.96194698e-01,  1.00000000e+00,  9.96194698e-01,\n",
       "        9.84807753e-01,  9.65925826e-01,  9.39692621e-01,  9.06307787e-01,\n",
       "        8.66025404e-01,  8.19152044e-01,  7.66044443e-01,  7.07106781e-01,\n",
       "        6.42787610e-01,  5.73576436e-01,  5.00000000e-01,  4.22618262e-01,\n",
       "        3.42020143e-01,  2.58819045e-01,  1.73648178e-01,  8.71557427e-02,\n",
       "        1.22464680e-16, -8.71557427e-02, -1.73648178e-01, -2.58819045e-01,\n",
       "       -3.42020143e-01, -4.22618262e-01, -5.00000000e-01, -5.73576436e-01,\n",
       "       -6.42787610e-01, -7.07106781e-01, -7.66044443e-01, -8.19152044e-01,\n",
       "       -8.66025404e-01, -9.06307787e-01, -9.39692621e-01, -9.65925826e-01,\n",
       "       -9.84807753e-01, -9.96194698e-01, -1.00000000e+00, -9.96194698e-01,\n",
       "       -9.84807753e-01, -9.65925826e-01, -9.39692621e-01, -9.06307787e-01,\n",
       "       -8.66025404e-01, -8.19152044e-01, -7.66044443e-01, -7.07106781e-01,\n",
       "       -6.42787610e-01, -5.73576436e-01, -5.00000000e-01, -4.22618262e-01,\n",
       "       -3.42020143e-01, -2.58819045e-01, -1.73648178e-01, -8.71557427e-02])"
      ]
     },
     "execution_count": 6,
     "metadata": {},
     "output_type": "execute_result"
    }
   ],
   "source": [
    "thetas_in_degrees = range(0, 360, 5) # list (generator) of angles from 0 to 359 at five degree intervals\n",
    "# Uncomment the following line, if you'd like to print the list \n",
    "#print(list(thetas_in_degrees))\n",
    "thetas_in_radians = np.radians(thetas_in_degrees) # Convert to radians\n",
    "sines = np.sin(thetas_in_radians) # Calculate the sine values for all the thetas\n",
    "sines"
   ]
  },
  {
   "cell_type": "markdown",
   "metadata": {},
   "source": [
    "### Plotting data \n",
    "\n",
    "Now that we've generated some data, we can look at them. Yes, we  just printed out the values, but it is way more interesting to make a plot.   The easiest way to do this is using the package **matplotlib** which has many plotting functions, among them a whole module called **pyplot**. By convention, we `import` the `matplotlib.pyplot` module as `plt`. \n",
    "\n",
    "We've also included one more line that tells **pyplot** to plot the image within the notebook: The magic command: `%matplotlib inline`.  Note that this does not work in other environments, like command line scripts; magic commands are only for Jupyter notebooks (lucky us!).  "
   ]
  },
  {
   "cell_type": "code",
   "execution_count": 7,
   "metadata": {},
   "outputs": [
    {
     "data": {
      "image/png": "[encoded data removed]",
      "text/plain": [
       "<Figure size 432x288 with 1 Axes>"
      ]
     },
     "metadata": {
      "needs_background": "light"
     },
     "output_type": "display_data"
    }
   ],
   "source": [
    "import matplotlib.pyplot as plt # import the plotting module\n",
    "# Call this magic command to show the plots in the notebook\n",
    "%matplotlib inline\n",
    "\n",
    "plt.plot(thetas_in_degrees, sines); # Plot the sines with the angles"
   ]
  },
  {
   "cell_type": "markdown",
   "metadata": {
    "collapsed": true
   },
   "source": [
    "### Features and styling in matplotlib\n",
    "\n",
    "Every plot should at least have axis labels and can also have a title, a legend, bounds, etc. We can use `matplotlib.pyplot` to add these features and more."
   ]
  },
  {
   "cell_type": "code",
   "execution_count": 8,
   "metadata": {},
   "outputs": [
    {
     "data": {
      "image/png": "[encoded data removed]",
      "text/plain": [
       "<Figure size 432x288 with 1 Axes>"
      ]
     },
     "metadata": {
      "needs_background": "light"
     },
     "output_type": "display_data"
    }
   ],
   "source": [
    "# I want to plot the sine curve as a green line, so I use 'g-' to do that:\n",
    "plt.plot(thetas_in_degrees,sines, 'g-', label='Sine') \n",
    "# The \"label\" argument saves this line for annotation in a legend\n",
    "# Let's add x and y labels\n",
    "plt.xlabel('Degrees') # Label the x axis\n",
    "plt.ylabel('Sine') # Label the y axis\n",
    "plt.xlim([0, 360]) # Set the limits on the x axis\n",
    "plt.title('Sine curve') # Set the title\n",
    "plt.legend(); # Add a legend"
   ]
  },
  {
   "cell_type": "markdown",
   "metadata": {},
   "source": [
    "Now let's add the cosine curve and a bit of style! We'll plot the cosine curve as a dashed blue line (`b--`), move the legend to a different position and plot the sine curve as little red dots (`r.`).\n",
    "For a complete list of possible symbols (markers), see: http://matplotlib.org/api/markers_api.html"
   ]
  },
  {
   "cell_type": "code",
   "execution_count": 9,
   "metadata": {},
   "outputs": [
    {
     "data": {
      "image/png": "[encoded data removed]",
      "text/plain": [
       "<Figure size 432x288 with 1 Axes>"
      ]
     },
     "metadata": {
      "needs_background": "light"
     },
     "output_type": "display_data"
    }
   ],
   "source": [
    "cosines = np.cos(thetas_in_radians)\n",
    "# Plot the sines with the angles as a green line\n",
    "plt.plot(thetas_in_degrees, sines, 'r.', label='Sine') \n",
    "# Plot the cosines with the angles as a dashed blue line\n",
    "plt.plot(thetas_in_degrees, cosines, 'b--', label='Cosine') \n",
    "plt.xlabel('Degrees')\n",
    "plt.ylabel('Trig functions')\n",
    "plt.xlim([0, 360]) # Set the limits on the x axis\n",
    "plt.legend(loc=3); # Add the legend in the lower left hand corner of the figure"
   ]
  },
  {
   "cell_type": "markdown",
   "metadata": {},
   "source": [
    "The function `plt.plot()` in `matplotlib.pyplot` includes many more styling options. Here's a complete list of arguments and keyword arguments that plot accepts:"
   ]
  },
  {
   "cell_type": "code",
   "execution_count": 10,
   "metadata": {},
   "outputs": [
    {
     "name": "stdout",
     "output_type": "stream",
     "text": [
      "Help on function plot in module matplotlib.pyplot:\n",
      "\n",
      "plot(*args, scalex=True, scaley=True, data=None, **kwargs)\n",
      "    Plot y versus x as lines and/or markers.\n",
      "    \n",
      "    Call signatures::\n",
      "    \n",
      "        plot([x], y, [fmt], *, data=None, **kwargs)\n",
      "        plot([x], y, [fmt], [x2], y2, [fmt2], ..., **kwargs)\n",
      "    \n",
      "    The coordinates of the points or line nodes are given by *x*, *y*.\n",
      "    \n",
      "    The optional parameter *fmt* is a convenient way for defining basic\n",
      "    formatting like color, marker and linestyle. It's a shortcut string\n",
      "    notation described in the *Notes* section below.\n",
      "    \n",
      "    >>> plot(x, y)        # plot x and y using default line style and color\n",
      "    >>> plot(x, y, 'bo')  # plot x and y using blue circle markers\n",
      "    >>> plot(y)           # plot y using x as index array 0..N-1\n",
      "    >>> plot(y, 'r+')     # ditto, but with red plusses\n",
      "    \n",
      "    You can use `.Line2D` properties as keyword arguments for more\n",
      "    control on the appearance. Line properties and *fmt* can be mixed.\n",
      "    The following two calls yield identical results:\n",
      "    \n",
      "    >>> plot(x, y, 'go--', linewidth=2, markersize=12)\n",
      "    >>> plot(x, y, color='green', marker='o', linestyle='dashed',\n",
      "    ...      linewidth=2, markersize=12)\n",
      "    \n",
      "    When conflicting with *fmt*, keyword arguments take precedence.\n",
      "    \n",
      "    \n",
      "    **Plotting labelled data**\n",
      "    \n",
      "    There's a convenient way for plotting objects with labelled data (i.e.\n",
      "    data that can be accessed by index ``obj['y']``). Instead of giving\n",
      "    the data in *x* and *y*, you can provide the object in the *data*\n",
      "    parameter and just give the labels for *x* and *y*::\n",
      "    \n",
      "    >>> plot('xlabel', 'ylabel', data=obj)\n",
      "    \n",
      "    All indexable objects are supported. This could e.g. be a `dict`, a\n",
      "    `pandas.DataFame` or a structured numpy array.\n",
      "    \n",
      "    \n",
      "    **Plotting multiple sets of data**\n",
      "    \n",
      "    There are various ways to plot multiple sets of data.\n",
      "    \n",
      "    - The most straight forward way is just to call `plot` multiple times.\n",
      "      Example:\n",
      "    \n",
      "      >>> plot(x1, y1, 'bo')\n",
      "      >>> plot(x2, y2, 'go')\n",
      "    \n",
      "    - Alternatively, if your data is already a 2d array, you can pass it\n",
      "      directly to *x*, *y*. A separate data set will be drawn for every\n",
      "      column.\n",
      "    \n",
      "      Example: an array ``a`` where the first column represents the *x*\n",
      "      values and the other columns are the *y* columns::\n",
      "    \n",
      "      >>> plot(a[0], a[1:])\n",
      "    \n",
      "    - The third way is to specify multiple sets of *[x]*, *y*, *[fmt]*\n",
      "      groups::\n",
      "    \n",
      "      >>> plot(x1, y1, 'g^', x2, y2, 'g-')\n",
      "    \n",
      "      In this case, any additional keyword argument applies to all\n",
      "      datasets. Also this syntax cannot be combined with the *data*\n",
      "      parameter.\n",
      "    \n",
      "    By default, each line is assigned a different style specified by a\n",
      "    'style cycle'. The *fmt* and line property parameters are only\n",
      "    necessary if you want explicit deviations from these defaults.\n",
      "    Alternatively, you can also change the style cycle using\n",
      "    :rc:`axes.prop_cycle`.\n",
      "    \n",
      "    \n",
      "    Parameters\n",
      "    ----------\n",
      "    x, y : array-like or scalar\n",
      "        The horizontal / vertical coordinates of the data points.\n",
      "        *x* values are optional and default to `range(len(y))`.\n",
      "    \n",
      "        Commonly, these parameters are 1D arrays.\n",
      "    \n",
      "        They can also be scalars, or two-dimensional (in that case, the\n",
      "        columns represent separate data sets).\n",
      "    \n",
      "        These arguments cannot be passed as keywords.\n",
      "    \n",
      "    fmt : str, optional\n",
      "        A format string, e.g. 'ro' for red circles. See the *Notes*\n",
      "        section for a full description of the format strings.\n",
      "    \n",
      "        Format strings are just an abbreviation for quickly setting\n",
      "        basic line properties. All of these and more can also be\n",
      "        controlled by keyword arguments.\n",
      "    \n",
      "        This argument cannot be passed as keyword.\n",
      "    \n",
      "    data : indexable object, optional\n",
      "        An object with labelled data. If given, provide the label names to\n",
      "        plot in *x* and *y*.\n",
      "    \n",
      "        .. note::\n",
      "            Technically there's a slight ambiguity in calls where the\n",
      "            second label is a valid *fmt*. `plot('n', 'o', data=obj)`\n",
      "            could be `plt(x, y)` or `plt(y, fmt)`. In such cases,\n",
      "            the former interpretation is chosen, but a warning is issued.\n",
      "            You may suppress the warning by adding an empty format string\n",
      "            `plot('n', 'o', '', data=obj)`.\n",
      "    \n",
      "    Other Parameters\n",
      "    ----------------\n",
      "    scalex, scaley : bool, optional, default: True\n",
      "        These parameters determined if the view limits are adapted to\n",
      "        the data limits. The values are passed on to `autoscale_view`.\n",
      "    \n",
      "    **kwargs : `.Line2D` properties, optional\n",
      "        *kwargs* are used to specify properties like a line label (for\n",
      "        auto legends), linewidth, antialiasing, marker face color.\n",
      "        Example::\n",
      "    \n",
      "        >>> plot([1, 2, 3], [1, 2, 3], 'go-', label='line 1', linewidth=2)\n",
      "        >>> plot([1, 2, 3], [1, 4, 9], 'rs', label='line 2')\n",
      "    \n",
      "        If you make multiple lines with one plot command, the kwargs\n",
      "        apply to all those lines.\n",
      "    \n",
      "        Here is a list of available `.Line2D` properties:\n",
      "    \n",
      "        Properties:\n",
      "        agg_filter: a filter function, which takes a (m, n, 3) float array and a dpi value, and returns a (m, n, 3) array\n",
      "        alpha: float or None\n",
      "        animated: bool\n",
      "        antialiased or aa: bool\n",
      "        clip_box: `.Bbox`\n",
      "        clip_on: bool\n",
      "        clip_path: Patch or (Path, Transform) or None\n",
      "        color or c: color\n",
      "        contains: callable\n",
      "        dash_capstyle: {'butt', 'round', 'projecting'}\n",
      "        dash_joinstyle: {'miter', 'round', 'bevel'}\n",
      "        dashes: sequence of floats (on/off ink in points) or (None, None)\n",
      "        data: (2, N) array or two 1D arrays\n",
      "        drawstyle or ds: {'default', 'steps', 'steps-pre', 'steps-mid', 'steps-post'}, default: 'default'\n",
      "        figure: `.Figure`\n",
      "        fillstyle: {'full', 'left', 'right', 'bottom', 'top', 'none'}\n",
      "        gid: str\n",
      "        in_layout: bool\n",
      "        label: object\n",
      "        linestyle or ls: {'-', '--', '-.', ':', '', (offset, on-off-seq), ...}\n",
      "        linewidth or lw: float\n",
      "        marker: marker style\n",
      "        markeredgecolor or mec: color\n",
      "        markeredgewidth or mew: float\n",
      "        markerfacecolor or mfc: color\n",
      "        markerfacecoloralt or mfcalt: color\n",
      "        markersize or ms: float\n",
      "        markevery: None or int or (int, int) or slice or List[int] or float or (float, float)\n",
      "        path_effects: `.AbstractPathEffect`\n",
      "        picker: float or callable[[Artist, Event], Tuple[bool, dict]]\n",
      "        pickradius: float\n",
      "        rasterized: bool or None\n",
      "        sketch_params: (scale: float, length: float, randomness: float)\n",
      "        snap: bool or None\n",
      "        solid_capstyle: {'butt', 'round', 'projecting'}\n",
      "        solid_joinstyle: {'miter', 'round', 'bevel'}\n",
      "        transform: `matplotlib.transforms.Transform`\n",
      "        url: str\n",
      "        visible: bool\n",
      "        xdata: 1D array\n",
      "        ydata: 1D array\n",
      "        zorder: float\n",
      "    \n",
      "    Returns\n",
      "    -------\n",
      "    lines\n",
      "        A list of `.Line2D` objects representing the plotted data.\n",
      "    \n",
      "    See Also\n",
      "    --------\n",
      "    scatter : XY scatter plot with markers of varying size and/or color (\n",
      "        sometimes also called bubble chart).\n",
      "    \n",
      "    Notes\n",
      "    -----\n",
      "    **Format Strings**\n",
      "    \n",
      "    A format string consists of a part for color, marker and line::\n",
      "    \n",
      "        fmt = '[marker][line][color]'\n",
      "    \n",
      "    Each of them is optional. If not provided, the value from the style\n",
      "    cycle is used. Exception: If ``line`` is given, but no ``marker``,\n",
      "    the data will be a line without markers.\n",
      "    \n",
      "    Other combinations such as ``[color][marker][line]`` are also\n",
      "    supported, but note that their parsing may be ambiguous.\n",
      "    \n",
      "    **Markers**\n",
      "    \n",
      "    =============    ===============================\n",
      "    character        description\n",
      "    =============    ===============================\n",
      "    ``'.'``          point marker\n",
      "    ``','``          pixel marker\n",
      "    ``'o'``          circle marker\n",
      "    ``'v'``          triangle_down marker\n",
      "    ``'^'``          triangle_up marker\n",
      "    ``'<'``          triangle_left marker\n",
      "    ``'>'``          triangle_right marker\n",
      "    ``'1'``          tri_down marker\n",
      "    ``'2'``          tri_up marker\n",
      "    ``'3'``          tri_left marker\n",
      "    ``'4'``          tri_right marker\n",
      "    ``'s'``          square marker\n",
      "    ``'p'``          pentagon marker\n",
      "    ``'*'``          star marker\n",
      "    ``'h'``          hexagon1 marker\n",
      "    ``'H'``          hexagon2 marker\n",
      "    ``'+'``          plus marker\n",
      "    ``'x'``          x marker\n",
      "    ``'D'``          diamond marker\n",
      "    ``'d'``          thin_diamond marker\n",
      "    ``'|'``          vline marker\n",
      "    ``'_'``          hline marker\n",
      "    =============    ===============================\n",
      "    \n",
      "    **Line Styles**\n",
      "    \n",
      "    =============    ===============================\n",
      "    character        description\n",
      "    =============    ===============================\n",
      "    ``'-'``          solid line style\n",
      "    ``'--'``         dashed line style\n",
      "    ``'-.'``         dash-dot line style\n",
      "    ``':'``          dotted line style\n",
      "    =============    ===============================\n",
      "    \n",
      "    Example format strings::\n",
      "    \n",
      "        'b'    # blue markers with default shape\n",
      "        'or'   # red circles\n",
      "        '-g'   # green solid line\n",
      "        '--'   # dashed line with default color\n",
      "        '^k:'  # black triangle_up markers connected by a dotted line\n",
      "    \n",
      "    **Colors**\n",
      "    \n",
      "    The supported color abbreviations are the single letter codes\n",
      "    \n",
      "    =============    ===============================\n",
      "    character        color\n",
      "    =============    ===============================\n",
      "    ``'b'``          blue\n",
      "    ``'g'``          green\n",
      "    ``'r'``          red\n",
      "    ``'c'``          cyan\n",
      "    ``'m'``          magenta\n",
      "    ``'y'``          yellow\n",
      "    ``'k'``          black\n",
      "    ``'w'``          white\n",
      "    =============    ===============================\n",
      "    \n",
      "    and the ``'CN'`` colors that index into the default property cycle.\n",
      "    \n",
      "    If the color is the only part of the format string, you can\n",
      "    additionally use any  `matplotlib.colors` spec, e.g. full names\n",
      "    (``'green'``) or hex strings (``'#008000'``).\n",
      "\n"
     ]
    }
   ],
   "source": [
    "help(plt.plot)"
   ]
  },
  {
   "cell_type": "markdown",
   "metadata": {},
   "source": [
    "### Reading in text files\n",
    "\n",
    "One VERY useful function in **NumPy** is to read data sets into an array.  Arrays are a new kind of data container, very much like lists, but with special attributes.  Arrays must be all of one data type (e.g., floating point). Arrays can be operated on in one go, unlike lists that must be operated on element by element.  I sneakily showed this to you by taking the cosine of the entire array returned by `np.radians()`.  It took a list and quietly turned it into an array, which I could operate on.   Also, arrays don't separate the numbers with commas like lists do.  We will see more benefits (and drawbacks) of arrays in the coming lectures. \n",
    "\n",
    "#### A brief comparison of lists and arrays:\n",
    "\n",
    "The _built-in_ function `range()` makes a list generator as we have already seen.  But the **NumPy** function `np.arange()` makes an array.  Let's compare the two:"
   ]
  },
  {
   "cell_type": "code",
   "execution_count": 11,
   "metadata": {},
   "outputs": [
    {
     "name": "stdout",
     "output_type": "stream",
     "text": [
      "[0, 1, 2, 3, 4, 5, 6, 7, 8, 9]\n",
      "[0 1 2 3 4 5 6 7 8 9]\n"
     ]
    }
   ],
   "source": [
    "print(list(range(10)))\n",
    "print(np.arange(10))"
   ]
  },
  {
   "cell_type": "markdown",
   "metadata": {},
   "source": [
    "They are superficially similar (except for the missing commas), but try a simple addition trick:"
   ]
  },
  {
   "cell_type": "code",
   "execution_count": 12,
   "metadata": {},
   "outputs": [
    {
     "data": {
      "text/plain": [
       "array([ 2,  3,  4,  5,  6,  7,  8,  9, 10, 11])"
      ]
     },
     "execution_count": 12,
     "metadata": {},
     "output_type": "execute_result"
    }
   ],
   "source": [
    "np.arange(10) + 2"
   ]
  },
  {
   "cell_type": "markdown",
   "metadata": {},
   "source": [
    "versus"
   ]
  },
  {
   "cell_type": "code",
   "execution_count": 13,
   "metadata": {},
   "outputs": [
    {
     "ename": "TypeError",
     "evalue": "unsupported operand type(s) for +: 'range' and 'int'",
     "output_type": "error",
     "traceback": [
      "\u001b[0;31m---------------------------------------------------------------------------\u001b[0m",
      "\u001b[0;31mTypeError\u001b[0m                                 Traceback (most recent call last)",
      "\u001b[0;32m<ipython-input-13-36538692c6d6>\u001b[0m in \u001b[0;36m<module>\u001b[0;34m\u001b[0m\n\u001b[0;32m----> 1\u001b[0;31m \u001b[0mrange\u001b[0m\u001b[0;34m(\u001b[0m\u001b[0;36m10\u001b[0m\u001b[0;34m)\u001b[0m \u001b[0;34m+\u001b[0m \u001b[0;36m2\u001b[0m\u001b[0;34m\u001b[0m\u001b[0;34m\u001b[0m\u001b[0m\n\u001b[0m",
      "\u001b[0;31mTypeError\u001b[0m: unsupported operand type(s) for +: 'range' and 'int'"
     ]
    }
   ],
   "source": [
    "range(10) + 2"
   ]
  },
  {
   "cell_type": "markdown",
   "metadata": {},
   "source": [
    "Oh dear!  We would have to go through the list one by one to do this addition using a list.  "
   ]
  },
  {
   "cell_type": "markdown",
   "metadata": {},
   "source": [
    "---\n",
    "\n",
    "It's time to change gears an do something with our new found Python skills which is visually stimulating. Time for some science!\n",
    "\n",
    "Let's start with data from an earthquake.  We will read in data from an Earthquake available from the IRIS website: http://ds.iris.edu/wilber3/find_event.  We can read in the data using the function `np.loadtext()`.  \n",
    "\n",
    "I chose the Christmas Day, 2016 magnitude 7.6 Earthquake  in Chile (latitude=-43.42, longitude=-73.95).  It was recorded  at a seismic station run by Scripps Institution of Oceanography called \"Pinyon Flat Observatory\" (PFO, latitude=33.3, longitude=-115.7). "
   ]
  },
  {
   "cell_type": "code",
   "execution_count": 14,
   "metadata": {},
   "outputs": [
    {
     "name": "stdout",
     "output_type": "stream",
     "text": [
      "[  1807.   1749.   1694. ... -14264. -14888. -15489.]\n"
     ]
    }
   ],
   "source": [
    "EQ = np.loadtxt('Datasets/seismicRecord/earthquake.txt') # Read in data\n",
    "print(EQ)"
   ]
  },
  {
   "cell_type": "markdown",
   "metadata": {},
   "source": [
    "Notice that `EQ` is not a `list` (it would have commas).  In fact it is an N-dimensional array (actually only 1 dimensional in this case).  Recall you can find out what any object is using the built-in function `type()`:  "
   ]
  },
  {
   "cell_type": "code",
   "execution_count": 15,
   "metadata": {},
   "outputs": [
    {
     "data": {
      "text/plain": [
       "numpy.ndarray"
      ]
     },
     "execution_count": 15,
     "metadata": {},
     "output_type": "execute_result"
    }
   ],
   "source": [
    "type(EQ)"
   ]
  },
  {
   "cell_type": "markdown",
   "metadata": {},
   "source": [
    "We'll learn more about the `ndarray` data structure in the next lecture. \n",
    "\n",
    "But now, let's plot the earthquake data.  "
   ]
  },
  {
   "cell_type": "code",
   "execution_count": 16,
   "metadata": {},
   "outputs": [
    {
     "data": {
      "image/png": "[encoded data removed]",
      "text/plain": [
       "<Figure size 432x288 with 1 Axes>"
      ]
     },
     "metadata": {
      "needs_background": "light"
     },
     "output_type": "display_data"
    }
   ],
   "source": [
    "plt.plot(EQ); # The semi-colon suppresses some annoying jibberish, \n",
    "# Try taking it out!"
   ]
  },
  {
   "cell_type": "markdown",
   "metadata": {},
   "source": [
    "Here, `plt.plot()` plots the array `EQ` against the index number for the elements in the array because we didn't pass a second argument. \n",
    "\n",
    "We can decorate this plot in many ways.  For example, we can add axis labels and truncate the data with `plt.xlim()`, or change the color of the line to name a few:  "
   ]
  },
  {
   "cell_type": "code",
   "execution_count": 17,
   "metadata": {},
   "outputs": [
    {
     "data": {
      "image/png": "[encoded data removed]",
      "text/plain": [
       "<Figure size 432x288 with 1 Axes>"
      ]
     },
     "metadata": {
      "needs_background": "light"
     },
     "output_type": "display_data"
    }
   ],
   "source": [
    "plt.plot(EQ, 'r-') # Plot as a red line\n",
    "plt.xlabel('Arbitrary Time') # Set x axis label\n",
    "plt.ylabel('Velocity'); # Set y axis label"
   ]
  },
  {
   "cell_type": "markdown",
   "metadata": {},
   "source": [
    "Congratulations - you've just plotted your very first seismogram in Python using `mathplotlib` - with only three lines of code. Not bad!"
   ]
  },
  {
   "cell_type": "markdown",
   "metadata": {},
   "source": [
    "### References\n",
    "\n",
    "**NumPy**\n",
    "\n",
    "1. Quickstart guide: https://numpy.org/doc/stable/user/quickstart.html\n",
    "2. Absolute basics of NumPy: https://numpy.org/doc/stable/user/absolute_beginners.html\n",
    "3. Arrays:\n",
    "    - https://numpy.org/doc/stable/user/basics.creation.html\n",
    "    - https://numpy.org/doc/stable/user/basics.indexing.html\n",
    "\n",
    "**matplotlib**\n",
    "\n",
    "1. Official matplotlib tutorials: https://matplotlib.org/stable/tutorials/index.html\n",
    "2. Another matplotlib tutorial: https://towardsdatascience.com/matplotlib-tutorial-learn-basics-of-pythons-powerful-plotting-library-b5d1b8f67596"
   ]
  }
 ],
 "metadata": {
  "kernelspec": {
   "display_name": "Python 3",
   "language": "python",
   "name": "python3"
  },
  "language_info": {
   "codemirror_mode": {
    "name": "ipython",
    "version": 3
   },
   "file_extension": ".py",
   "mimetype": "text/x-python",
   "name": "python",
   "nbconvert_exporter": "python",
   "pygments_lexer": "ipython3",
   "version": "3.8.3"
  }
 },
 "nbformat": 4,
 "nbformat_minor": 1
}
