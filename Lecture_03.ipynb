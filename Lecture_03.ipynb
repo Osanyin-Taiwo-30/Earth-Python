{
 "cells": [
  {
   "cell_type": "markdown",
   "metadata": {},
   "source": [
    "##  Lecture 3\n",
    "\n",
    "### Learning objectives\n",
    "- Learn about collections of variables: The `list()`, `tuple()` and `set()` data structures.\n",
    "- Learn about _objects_.\n",
    "- Learn about _methods_ which allow you to do things to (and with) _objects_."
   ]
  },
  {
   "cell_type": "markdown",
   "metadata": {},
   "source": [
    "## Data Structures\n",
    "\n",
    "Now that we know about variables, it would be handy to group them together in some way.  In Python there are many ways to do this: **lists**, **tuples**, **sets** and **dictionaries** (among others). These group arbitrary variables and/or values together, (e.g., strings and integers and floats) in containers.\n",
    "\n",
    "We'll go through some of the various data structures, starting with something called `list`.\n",
    "\n",
    "### Lists (`list`)\n",
    "\n",
    "- Lists are denoted with `[ ]`  and can contain any arbitrary set of elements (entries can have different types), including other lists!\n",
    "\n",
    "- Lists preserve the original order of the elements (i.e. the order they are inserted).\n",
    "\n",
    "- The length of the kists can dynamically change (grow or shrink).\n",
    "\n",
    "- Elements in the list are referenced by an index number (**index**).  Similar to the strings we encountered in the last lecture, the indices begin at 0.  Remember that this is different from what you may be  used to,  which would be that the first element is index 1; in Python, the first element is **index** 0.\n",
    "\n",
    "- You can  count from the end to the beginning by starting with -1 (the last item in the list), -2 (second to last), etc. \n",
    "\n",
    "- Lists have _methods_ that allow items to  be sorted, deleted, inserted, sliced, counted, concatenated, replaced, added on to, etc.\n",
    "\n",
    "\n",
    "Let's take a look at some examples: "
   ]
  },
  {
   "cell_type": "code",
   "execution_count": 1,
   "metadata": {},
   "outputs": [
    {
     "name": "stdout",
     "output_type": "stream",
     "text": [
      "['a', 2.0, '400', 'spam', 42, [24, 2]]\n"
     ]
    }
   ],
   "source": [
    "my_list = ['a', 2.0, '400', 'spam', 42, [24, 2]] # defines a list - note the square brackets\n",
    "print(my_list) # prints the list\n"
   ]
  },
  {
   "cell_type": "markdown",
   "metadata": {},
   "source": [
    "Notice that in the above the elements (entries) in the list have different types (strings, numbers and integers).\n",
    "\n",
    "But if we want to print out the third **element** in the list we use **index** number 2: "
   ]
  },
  {
   "cell_type": "code",
   "execution_count": 2,
   "metadata": {},
   "outputs": [
    {
     "name": "stdout",
     "output_type": "stream",
     "text": [
      "400\n"
     ]
    }
   ],
   "source": [
    "print(my_list[2]) # print the third element in the list (starting from zero)"
   ]
  },
  {
   "cell_type": "markdown",
   "metadata": {},
   "source": [
    "And similarly, to print the fourth **element** we use **index** number -1:"
   ]
  },
  {
   "cell_type": "code",
   "execution_count": 3,
   "metadata": {},
   "outputs": [
    {
     "name": "stdout",
     "output_type": "stream",
     "text": [
      "[24, 2]\n"
     ]
    }
   ],
   "source": [
    "print(my_list[-1]) # print the last element"
   ]
  },
  {
   "cell_type": "markdown",
   "metadata": {},
   "source": [
    "But if you want to print, say, the last three **elements**, you can't do this: "
   ]
  },
  {
   "cell_type": "code",
   "execution_count": 4,
   "metadata": {},
   "outputs": [
    {
     "name": "stdout",
     "output_type": "stream",
     "text": [
      "['spam', 42]\n"
     ]
    }
   ],
   "source": [
    "print(my_list[-3:-1])"
   ]
  },
  {
   "cell_type": "markdown",
   "metadata": {},
   "source": [
    "This is because the slice `list[begin:end]` means from `index = begin` up to and _not including_ `index = end`.  To actually slice out the last three **elements**, you can do it this way:"
   ]
  },
  {
   "cell_type": "code",
   "execution_count": 5,
   "metadata": {},
   "outputs": [
    {
     "name": "stdout",
     "output_type": "stream",
     "text": [
      "['spam', 42, [24, 2]]\n"
     ]
    }
   ],
   "source": [
    "print(my_list[-3:])"
   ]
  },
  {
   "cell_type": "markdown",
   "metadata": {},
   "source": [
    "Unlike strings, you can change list **elements** \"in place\".  By \"in place\" we mean that you don't have to assign it to a new variable name; the list gets change \"in place\":"
   ]
  },
  {
   "cell_type": "code",
   "execution_count": 6,
   "metadata": {},
   "outputs": [
    {
     "name": "stdout",
     "output_type": "stream",
     "text": [
      "['a', 26.3, '400', 'spam', 42, [24, 2]]\n"
     ]
    }
   ],
   "source": [
    "my_list[1] = 26.3   # replaces the second element\n",
    "print(my_list)"
   ]
  },
  {
   "cell_type": "markdown",
   "metadata": {},
   "source": [
    "To delete, for example, the 4th **element** from a list, you can use the command `del`:"
   ]
  },
  {
   "cell_type": "code",
   "execution_count": 7,
   "metadata": {},
   "outputs": [
    {
     "data": {
      "text/plain": [
       "['a', 26.3, '400', 42, [24, 2]]"
      ]
     },
     "execution_count": 7,
     "metadata": {},
     "output_type": "execute_result"
    }
   ],
   "source": [
    "del my_list[3] # deletes the fourth element \n",
    "my_list"
   ]
  },
  {
   "cell_type": "markdown",
   "metadata": {},
   "source": [
    "Like strings, you can  slice out a chunk of the middle of a list and assign it to another variable:"
   ]
  },
  {
   "cell_type": "code",
   "execution_count": 8,
   "metadata": {},
   "outputs": [
    {
     "name": "stdout",
     "output_type": "stream",
     "text": [
      "[26.3, '400']\n"
     ]
    }
   ],
   "source": [
    "new_list = my_list[1:3] # takes the 2nd and third values and puts in newlist\n",
    "#note it takes out up to but not including the last item number \n",
    "print(new_list)"
   ]
  },
  {
   "cell_type": "markdown",
   "metadata": {},
   "source": [
    "You can determine the number of entries in a list by using the built-in function `len()`:"
   ]
  },
  {
   "cell_type": "code",
   "execution_count": 9,
   "metadata": {},
   "outputs": [
    {
     "name": "stdout",
     "output_type": "stream",
     "text": [
      "2\n"
     ]
    }
   ],
   "source": [
    "print(len(new_list))"
   ]
  },
  {
   "cell_type": "markdown",
   "metadata": {},
   "source": [
    "Making copies of lists behaves in ways you might not expect if you are coming from other programming languages.  We will learn more about copies of lists in later lectures, but here are some pro tips for now.  \n",
    "\n",
    "You can assign a list to another variable name like this: "
   ]
  },
  {
   "cell_type": "code",
   "execution_count": 10,
   "metadata": {},
   "outputs": [],
   "source": [
    "my_copy = my_list\n"
   ]
  },
  {
   "cell_type": "markdown",
   "metadata": {},
   "source": [
    "The variable `my_copy` is now a _copy_ of `my_list`.  But it is inextricably bound to the original, so if I change one, I change the other.  This type of copy is known as a _shallow_ copy. "
   ]
  },
  {
   "cell_type": "code",
   "execution_count": 11,
   "metadata": {},
   "outputs": [
    {
     "name": "stdout",
     "output_type": "stream",
     "text": [
      "['a', 26.3, 'new', 42, [24, 2]]\n",
      "['a', 26.3, 'new', 42, [24, 2]]\n"
     ]
    }
   ],
   "source": [
    "my_list[2] = 'new'\n",
    "print(my_list)\n",
    "print(my_copy)"
   ]
  },
  {
   "cell_type": "markdown",
   "metadata": {},
   "source": [
    "See how `my_copy` was changed when we changed `my_list`?\n",
    "\n",
    "To spawn a list that is an independent object (a _deep_ copy), you can do this:  "
   ]
  },
  {
   "cell_type": "code",
   "execution_count": 12,
   "metadata": {},
   "outputs": [
    {
     "name": "stdout",
     "output_type": "stream",
     "text": [
      "['a', 26.3, 'new', 42, [24, 2]]\n"
     ]
    },
    {
     "data": {
      "text/plain": [
       "['a', 26.3, 1003, 42, [24, 2]]"
      ]
     },
     "execution_count": 12,
     "metadata": {},
     "output_type": "execute_result"
    }
   ],
   "source": [
    "my_copy = my_list[:]\n",
    "# now try changing mylist... \n",
    "my_list[2] = 1003\n",
    "print(my_copy) # if there are two things to print, use 'print'\n",
    "my_list # otherwise only prints the last one"
   ]
  },
  {
   "cell_type": "markdown",
   "metadata": {},
   "source": [
    "See how `my_copy` stayed the way it was, even as `my_list` changed?  \n",
    "\n",
    "There are more ways to make shallow and deep copies of Python objects which we will explore further in a later lecture."
   ]
  },
  {
   "cell_type": "markdown",
   "metadata": {},
   "source": [
    "#### Objects in Python\n",
    "\n",
    "An object in Python is a collection that has _attributes_ and _methods_. The list variable `my_list` is an example of an object - a `list` object.  In fact they are **classes** which we will learn more about in later lectures, but I just wanted to mention them here.    \n",
    "\n",
    "So what is so special about _objects?_  Python objects have _methods_ which allow you to do things to the object.  Methods have the form:\n",
    "```python\n",
    "object.method() # no arguments\n",
    "```\n",
    "or \n",
    "```python\n",
    "object.method(argument1) # one arguments\n",
    "```\n",
    "or \n",
    "```python\n",
    "object.method(argument1, argument2, ...)\n",
    "```\n",
    "\n",
    "Here, `argument1` is something that can get passed into the method.  \n",
    "\n",
    "Let's look at a few examples starting with the `.append()` method for lists (which appends something (the `argument1`) to the end of a list). "
   ]
  },
  {
   "cell_type": "code",
   "execution_count": 13,
   "metadata": {},
   "outputs": [
    {
     "name": "stdout",
     "output_type": "stream",
     "text": [
      "['a', 26.3, 1003, 42, [24, 2], 'why not?']\n"
     ]
    }
   ],
   "source": [
    "my_list.append('why not?') \n",
    "# append() is a method of lists that appends the argument 'why not?' to the list\n",
    "print(my_list)"
   ]
  },
  {
   "cell_type": "markdown",
   "metadata": {},
   "source": [
    "`.count()` is another method.  Let's see what it does: "
   ]
  },
  {
   "cell_type": "code",
   "execution_count": 14,
   "metadata": {},
   "outputs": [
    {
     "name": "stdout",
     "output_type": "stream",
     "text": [
      "2\n"
     ]
    }
   ],
   "source": [
    "my_list.append('why not?') \n",
    "print(my_list.count('why not?'))"
   ]
  },
  {
   "cell_type": "markdown",
   "metadata": {},
   "source": [
    "The method `.count()`  returns the number of times the argument (here the string `'why not?'`) occurs in the list.  \n",
    "\n",
    "Another very handy list method is the `.index( )` method.  It returns the **index** of the desired argument in the list.  For example, if we wanted to know what the index of the element, 42, is in `my_list`, we would type: "
   ]
  },
  {
   "cell_type": "code",
   "execution_count": 15,
   "metadata": {},
   "outputs": [
    {
     "name": "stdout",
     "output_type": "stream",
     "text": [
      "3\n"
     ]
    }
   ],
   "source": [
    "print(my_list.index(42))"
   ]
  },
  {
   "cell_type": "markdown",
   "metadata": {},
   "source": [
    "These are just a few of the methods for lists. To view all of the methods for a list object, see:\n",
    "https://docs.python.org/tutorial/datastructures.html."
   ]
  },
  {
   "cell_type": "markdown",
   "metadata": {},
   "source": [
    "### Creating lists\n",
    "\n",
    "For example, we could make this list: "
   ]
  },
  {
   "cell_type": "code",
   "execution_count": 16,
   "metadata": {},
   "outputs": [
    {
     "name": "stdout",
     "output_type": "stream",
     "text": [
      "['naughty', 'nice']\n",
      "['naughty', 'nice']\n"
     ]
    }
   ],
   "source": [
    "santas_list = ['naughty', 'nice']\n",
    "print(santas_list)\n",
    "# and check it twice\n",
    "print(santas_list)"
   ]
  },
  {
   "cell_type": "markdown",
   "metadata": {},
   "source": [
    "#### More useful lists:  \n",
    "\n",
    "Earlier, we made a list by defining a variable with square brackets. We added to that list with `.append()`.  Another way to generate a list is to use `range()`, which is one of the Python built-in functions we mentioned in Lecture 2. The function `range()` is a _list_ _generator_ and can be used to generate a list of integers between two numbers,  the `start` and `end`, where each number is separated by a specified `interval`. You can make a list from the generator like this:\n",
    "```python\n",
    "list(range(start, end, interval))\n",
    "```\n",
    "Note that `range()`, like `list` slicing, goes up to but does not include the value specified by `end`.  "
   ]
  },
  {
   "cell_type": "code",
   "execution_count": 17,
   "metadata": {},
   "outputs": [
    {
     "name": "stdout",
     "output_type": "stream",
     "text": [
      "[2, 6, 10, 14, 18]\n"
     ]
    }
   ],
   "source": [
    "# creates a list starting from 2, upto 20 (not including 20!) in increments / intervals of 4\n",
    "numlist = list(range(2, 20, 4)) \n",
    "print(numlist)\n"
   ]
  },
  {
   "cell_type": "markdown",
   "metadata": {},
   "source": [
    "You can also perform operations on `list`, for example you can \"add\" two lists together using the \"+\" operator. This works similarly to strings, where \"add\" actually concatenates two lists together."
   ]
  },
  {
   "cell_type": "code",
   "execution_count": 18,
   "metadata": {},
   "outputs": [
    {
     "name": "stdout",
     "output_type": "stream",
     "text": [
      "[1, 2, 3, 4, 5, 6]\n"
     ]
    }
   ],
   "source": [
    "var_la = [1, 2, 3]\n",
    "var_lb = [4, 5, 6]\n",
    "var_lc = var_la + var_lb\n",
    "print(var_lc)"
   ]
  },
  {
   "cell_type": "markdown",
   "metadata": {},
   "source": [
    "### Tuples (`tuple`)\n",
    "\n",
    "**Tuples** are another important object in Python that are similar to lists, but have important differences.  They are denoted by parentheses `( )` and  consist of  values separated by commas. Like lists, they can contain different elements (each entry may assume a different type) and they also preserve the order the elements. \n",
    "\n",
    "However, unlike lists, the elements of a tuple cannot be changed in place The length of the tuple also cannot change dynamically (grow or shrink) - its length is fixed once it is created. Tuples are thus called _immutable_. Their primary use is to pass information into and out of programs as we shall see in the coming lectures.  \n",
    "\n",
    "\n",
    "Similar to both lists and strings, you can slice, concatenate, etc. For more see: \n",
    " \n",
    " http://docs.python.org/tutorial/datastructures.html#tuples-and-sequences\n",
    "\n",
    "Here are three equivalent ways to create a tuple: "
   ]
  },
  {
   "cell_type": "markdown",
   "metadata": {},
   "source": [
    "The most explicit is to create a tuple like this, using a list as the argument"
   ]
  },
  {
   "cell_type": "code",
   "execution_count": 19,
   "metadata": {},
   "outputs": [
    {
     "name": "stdout",
     "output_type": "stream",
     "text": [
      "(1234, 2.0, 'hello')\n"
     ]
    }
   ],
   "source": [
    "t = tuple([1234, 2.0, 'hello'])\n",
    "print(t)"
   ]
  },
  {
   "cell_type": "markdown",
   "metadata": {},
   "source": [
    "The second approach is elegant - just use the round brackets (cf. list which uses square brackets)"
   ]
  },
  {
   "cell_type": "code",
   "execution_count": 20,
   "metadata": {},
   "outputs": [
    {
     "name": "stdout",
     "output_type": "stream",
     "text": [
      "(1234, 2.0, 'hello')\n"
     ]
    }
   ],
   "source": [
    "t = (1234, 2.0, 'hello')\n",
    "print(t)"
   ]
  },
  {
   "cell_type": "markdown",
   "metadata": {},
   "source": [
    "Lastly, one can simply do:"
   ]
  },
  {
   "cell_type": "code",
   "execution_count": 21,
   "metadata": {},
   "outputs": [
    {
     "name": "stdout",
     "output_type": "stream",
     "text": [
      "(1234, 2.0, 'hello')\n"
     ]
    }
   ],
   "source": [
    "t = 1234, 2.0, 'hello'\n",
    "print(t)\n"
   ]
  },
  {
   "cell_type": "markdown",
   "metadata": {},
   "source": [
    "You can retrieve the contents of a tuple (unpack it) like this:"
   ]
  },
  {
   "cell_type": "code",
   "execution_count": 22,
   "metadata": {},
   "outputs": [
    {
     "name": "stdout",
     "output_type": "stream",
     "text": [
      "1234\n",
      "2.0\n",
      "hello\n"
     ]
    }
   ],
   "source": [
    "a, b, c = t\n",
    "print(a)\n",
    "print(b)\n",
    "print(c)"
   ]
  },
  {
   "cell_type": "markdown",
   "metadata": {},
   "source": [
    "You can access an element in a tuple by using the index number, exactly like a list."
   ]
  },
  {
   "cell_type": "code",
   "execution_count": 23,
   "metadata": {},
   "outputs": [
    {
     "data": {
      "text/plain": [
       "1234"
      ]
     },
     "execution_count": 23,
     "metadata": {},
     "output_type": "execute_result"
    }
   ],
   "source": [
    "t[0]"
   ]
  },
  {
   "cell_type": "markdown",
   "metadata": {},
   "source": [
    "But, you can't change it: "
   ]
  },
  {
   "cell_type": "code",
   "execution_count": 24,
   "metadata": {},
   "outputs": [
    {
     "ename": "TypeError",
     "evalue": "'tuple' object does not support item assignment",
     "output_type": "error",
     "traceback": [
      "\u001b[0;31m---------------------------------------------------------------------------\u001b[0m",
      "\u001b[0;31mTypeError\u001b[0m                                 Traceback (most recent call last)",
      "\u001b[0;32m<ipython-input-24-9fdf6ffeddab>\u001b[0m in \u001b[0;36m<module>\u001b[0;34m\u001b[0m\n\u001b[0;32m----> 1\u001b[0;31m \u001b[0mt\u001b[0m\u001b[0;34m[\u001b[0m\u001b[0;36m0\u001b[0m\u001b[0;34m]\u001b[0m \u001b[0;34m=\u001b[0m \u001b[0;34m'haha'\u001b[0m\u001b[0;34m\u001b[0m\u001b[0;34m\u001b[0m\u001b[0m\n\u001b[0m\u001b[1;32m      2\u001b[0m \u001b[0mprint\u001b[0m\u001b[0;34m(\u001b[0m\u001b[0mt\u001b[0m\u001b[0;34m)\u001b[0m\u001b[0;34m\u001b[0m\u001b[0;34m\u001b[0m\u001b[0m\n",
      "\u001b[0;31mTypeError\u001b[0m: 'tuple' object does not support item assignment"
     ]
    }
   ],
   "source": [
    "t[0] = 'haha'\n",
    "print(t)"
   ]
  },
  {
   "cell_type": "markdown",
   "metadata": {},
   "source": [
    "Recall you cannot change the length of `tuple` - there is no `append()` method. That said, you can \"add\" them together with the \"+\" operator:"
   ]
  },
  {
   "cell_type": "code",
   "execution_count": 25,
   "metadata": {},
   "outputs": [
    {
     "name": "stdout",
     "output_type": "stream",
     "text": [
      "(10, 11, 12, 20, 21, 22)\n"
     ]
    }
   ],
   "source": [
    "var_ta = (10, 11, 12)\n",
    "var_tb = (20, 21, 22)\n",
    "var_tc = var_ta + var_tb\n",
    "print(var_tc)"
   ]
  },
  {
   "cell_type": "markdown",
   "metadata": {},
   "source": [
    "### Sets (`set`)\n",
    "\n",
    "There are  more data structures that comes in handy and one is  the `set`. They are denoted with curly braces `{ }`.  A `set` \"contains an unordered collection of unique and immutable objects\". Translation - (i) all entries in a set must of the same type; (ii) entries in a set do not preserve their original order - hence \"unordered\"; (iii) entries within a `set` are unique - no duplicates will appear; (iii) like `tuple`, you cannot change (mutate) the entries in place. However, like `list`, you can insert new entries into a `set`.\n",
    "\n",
    "You can create sets in several ways. The first would be the use the Python built-in `set()` function on a list: "
   ]
  },
  {
   "cell_type": "code",
   "execution_count": 26,
   "metadata": {},
   "outputs": [
    {
     "data": {
      "text/plain": [
       "{42, 'ocelot', 'spam'}"
      ]
     },
     "execution_count": 26,
     "metadata": {},
     "output_type": "execute_result"
    }
   ],
   "source": [
    "S1 = set(['spam', 'ocelot', 42])\n",
    "S1"
   ]
  },
  {
   "cell_type": "markdown",
   "metadata": {},
   "source": [
    "The elegant alternative is to create a set just using curly braces:"
   ]
  },
  {
   "cell_type": "code",
   "execution_count": 27,
   "metadata": {},
   "outputs": [
    {
     "data": {
      "text/plain": [
       "{42, 'ocelot', 'spam'}"
      ]
     },
     "execution_count": 27,
     "metadata": {},
     "output_type": "execute_result"
    }
   ],
   "source": [
    "S1 = {'spam', 'ocelot', 42}\n",
    "S1"
   ]
  },
  {
   "cell_type": "markdown",
   "metadata": {},
   "source": [
    "Notice how the order changed, compare the order of the values in our input to `set()` with the  values printed of the set.\n",
    "\n",
    "Also, notice what happens if we violate the \"unique\" part of the definition:"
   ]
  },
  {
   "cell_type": "code",
   "execution_count": 28,
   "metadata": {},
   "outputs": [
    {
     "data": {
      "text/plain": [
       "{'ocelot', 'spam'}"
      ]
     },
     "execution_count": 28,
     "metadata": {},
     "output_type": "execute_result"
    }
   ],
   "source": [
    "S2 = set(['spam', 'ocelot', 'ocelot'])\n",
    "S2"
   ]
  },
  {
   "cell_type": "markdown",
   "metadata": {},
   "source": [
    "Only one of the variables with the value `ocelots` made it into the set - duplicates are discarded. [By the way, \"ocelot\" is another Monty Python joke - look it up if you like.] \n",
    "\n",
    "Sets contain immutable objects, but they themselves can be changed. \n",
    "\n",
    "\n",
    "Below are a few useful methods the `set` class supports:"
   ]
  },
  {
   "cell_type": "code",
   "execution_count": 29,
   "metadata": {},
   "outputs": [
    {
     "name": "stdout",
     "output_type": "stream",
     "text": [
      "{'spam', 42, 'ocelot'}\n",
      "{'spam', 42, 'chocolate', 'ocelot'}\n"
     ]
    }
   ],
   "source": [
    "# \"add\" Merge two sets together, note that single args are converted into a set\n",
    "print(S1) \n",
    "S1.add('chocolate')\n",
    "print(S1)"
   ]
  },
  {
   "cell_type": "markdown",
   "metadata": {},
   "source": [
    "Note that if you try to `.add()` an entry already defined in the set, the set will not change (entries in a `set` are always unique)."
   ]
  },
  {
   "cell_type": "code",
   "execution_count": 30,
   "metadata": {},
   "outputs": [
    {
     "data": {
      "text/plain": [
       "set()"
      ]
     },
     "execution_count": 30,
     "metadata": {},
     "output_type": "execute_result"
    }
   ],
   "source": [
    "# \"clear\" Remove all entries from the set \n",
    "S2.clear() \n",
    "S2"
   ]
  },
  {
   "cell_type": "markdown",
   "metadata": {},
   "source": [
    "See how `S2` is now just an empty set object `set()`.\n",
    "\n",
    "Now let's try copying `S1`. "
   ]
  },
  {
   "cell_type": "code",
   "execution_count": 31,
   "metadata": {},
   "outputs": [
    {
     "name": "stdout",
     "output_type": "stream",
     "text": [
      "{'spam', 42, 'chocolate', 'ocelot'}\n",
      "set()\n",
      "{'spam', 42, 'chocolate', 'ocelot'}\n"
     ]
    }
   ],
   "source": [
    "# copy\n",
    "S2 = S1.copy()\n",
    "print(S2)\n",
    "S1.clear()\n",
    "print(S1)\n",
    "print(S2)"
   ]
  },
  {
   "cell_type": "markdown",
   "metadata": {},
   "source": [
    "The `.copy()` method for sets does not work like copying lists - it made an independent object `S2` which did not clear when `S1` got cleared.  \n",
    "\n",
    "`.difference()` is another handy method - it can be used to find what is different about two sets. "
   ]
  },
  {
   "cell_type": "code",
   "execution_count": 32,
   "metadata": {},
   "outputs": [
    {
     "data": {
      "text/plain": [
       "{42}"
      ]
     },
     "execution_count": 32,
     "metadata": {},
     "output_type": "execute_result"
    }
   ],
   "source": [
    "# difference\n",
    "S1 = set(['spam', 'ocelot', 42])\n",
    "S2 = set(['spam', 'ocelot'])\n",
    "S1.difference(S2)"
   ]
  },
  {
   "cell_type": "markdown",
   "metadata": {},
   "source": [
    "Suppose you want to know what values are the same (i.e. in common) between two sets.  For that, you can use the `.intersection()` method.  "
   ]
  },
  {
   "cell_type": "code",
   "execution_count": 33,
   "metadata": {},
   "outputs": [
    {
     "data": {
      "text/plain": [
       "{'ocelot', 'spam'}"
      ]
     },
     "execution_count": 33,
     "metadata": {},
     "output_type": "execute_result"
    }
   ],
   "source": [
    "# intersection\n",
    "S1.intersection(S2)"
   ]
  },
  {
   "cell_type": "markdown",
   "metadata": {},
   "source": [
    "There is a nice short cut for this:"
   ]
  },
  {
   "cell_type": "code",
   "execution_count": 34,
   "metadata": {
    "scrolled": true
   },
   "outputs": [
    {
     "data": {
      "text/plain": [
       "{'ocelot', 'spam'}"
      ]
     },
     "execution_count": 34,
     "metadata": {},
     "output_type": "execute_result"
    }
   ],
   "source": [
    "S1&S2"
   ]
  },
  {
   "cell_type": "markdown",
   "metadata": {},
   "source": [
    "You might be tempted to try \"adding\" two sets together - you cannot"
   ]
  },
  {
   "cell_type": "code",
   "execution_count": 35,
   "metadata": {},
   "outputs": [
    {
     "name": "stdout",
     "output_type": "stream",
     "text": [
      "{12, 20, -11}\n"
     ]
    },
    {
     "ename": "TypeError",
     "evalue": "unsupported operand type(s) for +: 'set' and 'set'",
     "output_type": "error",
     "traceback": [
      "\u001b[0;31m---------------------------------------------------------------------------\u001b[0m",
      "\u001b[0;31mTypeError\u001b[0m                                 Traceback (most recent call last)",
      "\u001b[0;32m<ipython-input-35-5f965a267953>\u001b[0m in \u001b[0;36m<module>\u001b[0;34m\u001b[0m\n\u001b[1;32m      2\u001b[0m \u001b[0mvar_sb\u001b[0m \u001b[0;34m=\u001b[0m \u001b[0;34m{\u001b[0m\u001b[0;36m20\u001b[0m\u001b[0;34m,\u001b[0m \u001b[0;34m-\u001b[0m\u001b[0;36m11\u001b[0m\u001b[0;34m,\u001b[0m \u001b[0;36m12\u001b[0m\u001b[0;34m}\u001b[0m\u001b[0;34m\u001b[0m\u001b[0;34m\u001b[0m\u001b[0m\n\u001b[1;32m      3\u001b[0m \u001b[0mprint\u001b[0m\u001b[0;34m(\u001b[0m\u001b[0mvar_sb\u001b[0m\u001b[0;34m)\u001b[0m\u001b[0;34m\u001b[0m\u001b[0;34m\u001b[0m\u001b[0m\n\u001b[0;32m----> 4\u001b[0;31m \u001b[0mvar_sc\u001b[0m \u001b[0;34m=\u001b[0m \u001b[0mvar_sa\u001b[0m \u001b[0;34m+\u001b[0m \u001b[0mvar_sb\u001b[0m\u001b[0;34m\u001b[0m\u001b[0;34m\u001b[0m\u001b[0m\n\u001b[0m\u001b[1;32m      5\u001b[0m \u001b[0mprint\u001b[0m\u001b[0;34m(\u001b[0m\u001b[0mvar_sc\u001b[0m\u001b[0;34m)\u001b[0m\u001b[0;34m\u001b[0m\u001b[0;34m\u001b[0m\u001b[0m\n",
      "\u001b[0;31mTypeError\u001b[0m: unsupported operand type(s) for +: 'set' and 'set'"
     ]
    }
   ],
   "source": [
    "var_sa = {22, 21, 20}\n",
    "var_sb = {20, -11, 12}\n",
    "print(var_sb)\n",
    "var_sc = var_sa + var_sb\n",
    "print(var_sc)"
   ]
  },
  {
   "cell_type": "markdown",
   "metadata": {},
   "source": [
    "Okay - \"+\" is not allowed with `set`, but you concatenate two sets this way."
   ]
  },
  {
   "cell_type": "code",
   "execution_count": 36,
   "metadata": {},
   "outputs": [
    {
     "name": "stdout",
     "output_type": "stream",
     "text": [
      "{12, 20, -11, 21, 22}\n"
     ]
    }
   ],
   "source": [
    "var_sc = set(list(var_sa) + list(var_sb))\n",
    "print(var_sc)\n"
   ]
  },
  {
   "cell_type": "markdown",
   "metadata": {},
   "source": [
    "You should think about why this actually works."
   ]
  },
  {
   "cell_type": "markdown",
   "metadata": {},
   "source": [
    "The \"proper\" way to achieve the same objective would be to use the `set` method `union()`:"
   ]
  },
  {
   "cell_type": "code",
   "execution_count": 37,
   "metadata": {},
   "outputs": [
    {
     "name": "stdout",
     "output_type": "stream",
     "text": [
      "{20, 21, 22, -11, 12}\n"
     ]
    }
   ],
   "source": [
    "var_sc = var_sa.union(var_sb)\n",
    "print(var_sc)"
   ]
  },
  {
   "cell_type": "markdown",
   "metadata": {},
   "source": [
    "Note that result here contains the same entries as our \"convert to list then add\" version, but the ordering is different - there is no order to entries in`set`. Besides the behavior of `set`, you should walk away with the take home message that there is more than one way to achieve any desired objective in Python."
   ]
  },
  {
   "cell_type": "markdown",
   "metadata": {},
   "source": [
    "### References\n",
    "\n",
    "1. The `list` class: https://docs.python.org/3/tutorial/datastructures.html\n",
    "2. The `tuple` class: http://docs.python.org/3/tutorial/datastructures.html#tuples-and-sequences\n",
    "3. The `set` class: https://docs.python.org/3/tutorial/datastructures.html#sets\n",
    "4. Methods for `set`: https://www.python-course.eu/python3_sets_frozensets.php"
   ]
  }
 ],
 "metadata": {
  "kernelspec": {
   "display_name": "Python 3",
   "language": "python",
   "name": "python3"
  },
  "language_info": {
   "codemirror_mode": {
    "name": "ipython",
    "version": 3
   },
   "file_extension": ".py",
   "mimetype": "text/x-python",
   "name": "python",
   "nbconvert_exporter": "python",
   "pygments_lexer": "ipython3",
   "version": "3.8.3"
  }
 },
 "nbformat": 4,
 "nbformat_minor": 1
}
