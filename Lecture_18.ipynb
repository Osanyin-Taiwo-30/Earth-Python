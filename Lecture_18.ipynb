{
 "cells": [
  {
   "cell_type": "code",
   "execution_count": null,
   "metadata": {
    "ExecuteTime": {
     "end_time": "2020-03-19T00:51:18.665440Z",
     "start_time": "2020-03-19T00:51:16.838796Z"
    },
    "hide_input": false
   },
   "outputs": [],
   "source": [
    "import numpy as np\n",
    "import matplotlib.pyplot as plt\n",
    "%matplotlib inline\n",
    "from IPython.display import Image\n",
    "import pandas as pd\n",
    "import cartopy.crs as ccrs\n",
    "from cartopy.feature import NaturalEarthFeature, LAND, COASTLINE, OCEAN, LAKES, BORDERS\n",
    "from cartopy import feature as cfeature\n",
    "import warnings \n",
    "# this will allow us to use the code in peace :) \n",
    "warnings.filterwarnings(\"ignore\")"
   ]
  },
  {
   "cell_type": "markdown",
   "metadata": {},
   "source": [
    "## Lecture 18\n",
    "\n",
    "### Learning objectives\n",
    "\n",
    "- Learn about the Python packages **geoplot** and **geopandas**.\n",
    "- Learn a bit about coordinate systems (UTM versus WGS84, as examples).\n",
    "- Learn something about Hawaiian volcanism."
   ]
  },
  {
   "cell_type": "markdown",
   "metadata": {
    "hide_input": true
   },
   "source": [
    "By now we have learned a great deal about plotting and map making.  In this lecture we will pull together a number of concepts and add some new tools (geoplot and geopandas).  **Geopandas** is a software package built on top of **pandas** that is made for dealing with spatial data. **Geoplot** is built on top of **matplotlib** and has a number of mapping tools that we can use.\n",
    "\n",
    "Let's import the packages we will need for this lecture."
   ]
  },
  {
   "cell_type": "code",
   "execution_count": null,
   "metadata": {
    "ExecuteTime": {
     "end_time": "2020-03-19T00:53:54.110019Z",
     "start_time": "2020-03-19T00:53:51.186407Z"
    }
   },
   "outputs": [],
   "source": [
    "import geopandas as gpd\n",
    "import geoplot as gplt"
   ]
  },
  {
   "cell_type": "markdown",
   "metadata": {},
   "source": [
    "By now you should be familiar with the rudiments of **cartopy**.  We will now learn how to make more complicated plots using the  volcanoes active over the last 6 million years as an example. We downloaded the data from this website: https://www.navdat.org/NavdatSearch/Search.cfm  by setting the Age filter to 6 (Ma) and exporting the data as an excel spreadsheet which in turn got saved as a tab delimited text file in `Datasets/navdat.txt`.\n",
    "\n",
    "The first new thing we need to grapple with is the **geopandas** overlay on **pandas**.  This is a very powerful, but also complicated software package.  The first thing we will use it for is wrangling our volcano dataset into a form that we can plot with **geoplot**.  \n",
    "\n",
    "A **geopandas** `DataFrame` differs from a **pandas** `DataFrame` in that it has a `geometry` field which can be points, polygons or other spatial data types.  \n",
    "\n",
    "\n",
    "We'll approach this as follows: \n",
    "- We need to first read in the data set with **pandas**.\n",
    "- Make a map as we did in Lecture 17.\n",
    "- Turn the **pandas** `DataFrame` into a **geopandas** one by putting in the `geometry` information required by **geoplot**.\n",
    "- Use **geoplot** to do some new stuff.  "
   ]
  },
  {
   "cell_type": "code",
   "execution_count": null,
   "metadata": {},
   "outputs": [],
   "source": [
    "# Read in the data file\n",
    "df = pd.read_csv('Datasets/navdat.txt', sep='\\t')\n",
    "df.head()"
   ]
  },
  {
   "cell_type": "markdown",
   "metadata": {},
   "source": [
    "Make the map (cribbing from Lecture 17). "
   ]
  },
  {
   "cell_type": "code",
   "execution_count": null,
   "metadata": {},
   "outputs": [],
   "source": [
    "proj = ccrs.LambertConformal(central_longitude=260.0, central_latitude=33.0)\n",
    "ax = plt.axes(projection=proj)\n",
    "ax.set_extent([-130.0, -70.0, 15.0, 52.0], crs=ccrs.PlateCarree())\n",
    "gl = ax.gridlines(ylocs=np.arange(0.0,90.0,15.0), xlocs=np.arange(-180.0, 180.0, 15.0),\\\n",
    "                linewidth=2, linestyle=\"dotted\")\n",
    "\n",
    "ax.coastlines();\n",
    "\n",
    "ax.add_feature(BORDERS, linestyle='-', linewidth=2)\n",
    "states_provinces = cfeature.NaturalEarthFeature(\n",
    "        category='cultural',\n",
    "        name='admin_1_states_provinces_lines',\n",
    "        scale='50m',\n",
    "        edgecolor='purple',\n",
    "        facecolor='none',\n",
    "        linestyle='dotted')\n",
    "ax.add_feature(states_provinces);"
   ]
  },
  {
   "cell_type": "markdown",
   "metadata": {},
   "source": [
    "Now for the new stuff.  We nedd to use the `.GeoDataFrame` method of **geopandas** to put in the geometry field required by **geoplots**.   "
   ]
  },
  {
   "cell_type": "code",
   "execution_count": null,
   "metadata": {},
   "outputs": [],
   "source": [
    "gdf = gpd.GeoDataFrame(df, geometry=gpd.points_from_xy(df.LONGITUDE, df.LATITUDE))\n",
    "gdf.head()"
   ]
  },
  {
   "cell_type": "markdown",
   "metadata": {},
   "source": [
    "You can see that **geopandas** put in a new column, called `geometry` with the lat/lon as a tuple with the geometry type of `POINT`.  \n",
    "\n",
    "Now we can just plot the points with `.pointplot()` from **geoplot** to make the heatmap!\n",
    "A heatmap is a data visualization technique that shows magnitude of a phenomenon as color in two dimensions.\n",
    "We can use one of the columns to determine color (`hue`), so in this example, we color the points by age:"
   ]
  },
  {
   "cell_type": "code",
   "execution_count": null,
   "metadata": {},
   "outputs": [],
   "source": [
    "# Same as before:  \n",
    "proj = ccrs.LambertConformal(central_longitude=260.0, central_latitude=33.0)\n",
    "ax = plt.axes(projection=proj)\n",
    "ax.set_extent([-130.0, -70.0, 15.0, 52.0], crs=ccrs.PlateCarree())\n",
    "\n",
    "ax.coastlines();\n",
    "\n",
    "ax.add_feature(BORDERS, linestyle='-', linewidth=2)\n",
    "states_provinces = cfeature.NaturalEarthFeature(\n",
    "        category='cultural',\n",
    "        name='admin_1_states_provinces_lines',\n",
    "        scale='50m',\n",
    "        edgecolor='purple',\n",
    "        facecolor='none',\n",
    "        linestyle='dotted')\n",
    "ax.add_feature(states_provinces); # The NEW stuff!\n",
    "\n",
    "gplt.pointplot(gdf, ax=ax, hue='CALCULATED AGE', legend=True);"
   ]
  },
  {
   "cell_type": "markdown",
   "metadata": {},
   "source": [
    "There are many more plots that we can make with **geoplots**.  See this website for all the options:  https://residentmario.github.io/geoplot/plot_references/plot_reference.html"
   ]
  },
  {
   "cell_type": "code",
   "execution_count": null,
   "metadata": {},
   "outputs": [],
   "source": [
    "# Read in the data file\n",
    "df = pd.read_csv('Datasets/WUS_navdat.txt', sep='\\t')\n",
    "gdf = gpd.GeoDataFrame(df, geometry=gpd.points_from_xy(df.LONGITUDE, df.LATITUDE))"
   ]
  },
  {
   "cell_type": "code",
   "execution_count": null,
   "metadata": {},
   "outputs": [],
   "source": [
    "df.head()"
   ]
  },
  {
   "cell_type": "code",
   "execution_count": null,
   "metadata": {},
   "outputs": [],
   "source": [
    "# same as before:  \n",
    "proj = ccrs.LambertConformal(central_longitude=260.0, central_latitude=33.0)\n",
    "ax = plt.axes(projection=proj)\n",
    "ax.add_feature(BORDERS, linestyle='-', linewidth=2)\n",
    "states_provinces = cfeature.NaturalEarthFeature(\n",
    "        category='cultural',\n",
    "        name='admin_1_states_provinces_lines',\n",
    "        scale='50m',\n",
    "        edgecolor='purple',\n",
    "        facecolor='none',\n",
    "        linestyle='dotted')\n",
    "ax.add_feature(states_provinces);\n",
    "\n",
    "ax.coastlines()\n",
    "\n",
    "# but with the KDE plot.  \n",
    "gplt.kdeplot(gdf, ax=ax);"
   ]
  },
  {
   "cell_type": "markdown",
   "metadata": {},
   "source": [
    "That made a contour plot for the locations of volcanoes in the Western US. What we were after was a heatmap in which color indicates density of volcanoes. We can do that with the `shade` argument and we can also specify a colormap with the familiar `cmap` argument.  Maybe `cmap=inferno` is appropriate?  "
   ]
  },
  {
   "cell_type": "code",
   "execution_count": null,
   "metadata": {},
   "outputs": [],
   "source": [
    "proj = ccrs.LambertConformal(central_longitude=260.0, central_latitude=33.0)\n",
    "ax = plt.axes(projection=proj)\n",
    "ax.add_feature(BORDERS, linestyle='-', linewidth=2)\n",
    "states_provinces = cfeature.NaturalEarthFeature(\n",
    "        category='cultural',\n",
    "        name='admin_1_states_provinces_lines',\n",
    "        scale='50m',\n",
    "        edgecolor='purple',\n",
    "        facecolor='none',\n",
    "        linestyle='dotted')\n",
    "ax.add_feature(states_provinces);\n",
    "\n",
    "ax.coastlines()\n",
    "\n",
    "# but with the KDE plot.  \n",
    "gplt.kdeplot(gdf, ax=ax, shade=True, cmap='inferno');"
   ]
  },
  {
   "cell_type": "markdown",
   "metadata": {},
   "source": [
    "### Historical lava flows in Hawaii"
   ]
  },
  {
   "cell_type": "markdown",
   "metadata": {},
   "source": [
    "The big advantage of **geopandas** is the ability to plot polygons.  Polygons outline geological features such as formations, age units, etc.   Coastlines are really polygons too.  In the rest of this lecture, we will explore making maps with some geologically interesting polygons - historical lava flows in Hawaii.  \n",
    "\n",
    "We will proceed as follows: \n",
    "\n",
    "1. Get the coastline of the Big Islanad of Hawaii into a `geopandas.DataFrame`.\n",
    "    - These are in the file `Datasets/Coastline.shp`.\n",
    "    - Make a quick plot of Hawaii as a lightgreen polygon in a sea of lightblue. \n",
    "2. Find the elevation data for the Big Island of  Hawaii.\n",
    "    - Make a heatmap of the elevation data.\n",
    "    - Make a contour plot of the elevation data (a topographic map).  \n",
    "3. Find the lava flow outlines from https://pubs.usgs.gov/of/2007/1089/.\n",
    "    - These data are in `Datasets/BigIslandData.shp` and are in Universal Transverse Mercator and we really want them in lat/lon (in fact, on the WGS84 ellipsoid). Converting between different coordinate systems just means we to know the transforms. Here is a big list of them:  http://spatialreference.org.     \n",
    "    - Plot the converted polygons on the topographic map.   "
   ]
  },
  {
   "cell_type": "markdown",
   "metadata": {},
   "source": [
    "Read in the coastlines for the State of Hawaii, filter for the Island Hawaii (it's the big one with the active lava flows) and plot the outline with the `.plot()` method on `geopandas.DataFrames`."
   ]
  },
  {
   "cell_type": "code",
   "execution_count": null,
   "metadata": {},
   "outputs": [],
   "source": [
    "# Read in the data as a geopandas dataframe\n",
    "hawaii = gpd.read_file('Datasets/Coastline.shp')\n",
    "\n",
    "# Take a quick look at the format:\n",
    "hawaii.head()"
   ]
  },
  {
   "cell_type": "markdown",
   "metadata": {},
   "source": [
    "There are data from all the Hawaiian islands, so we should filter for the Big Island, which is actually named \"Hawaii\" too.  "
   ]
  },
  {
   "cell_type": "code",
   "execution_count": null,
   "metadata": {},
   "outputs": [],
   "source": [
    "# Select only the data from island called \"Hawaii\". \n",
    "bigIsland = hawaii[(hawaii.isle == 'Hawaii')]\n",
    "fig, ax = plt.subplots(figsize=(8,6)) # Make fig and ax objects\n",
    "# Set the ocean to blue.\n",
    "ax.set_facecolor('lightblue')\n",
    "# Plot the polygons from the geometry column\n",
    "bigIsland.plot(ax=ax, edgecolor='black', linewidth=1, facecolor='lightgreen');"
   ]
  },
  {
   "cell_type": "markdown",
   "metadata": {},
   "source": [
    "Ok, that was pretty easy.  \n",
    "\n",
    "Now let's put on the topography. The `matplotlib.tri.tricontourf()` funtion takes unstructured x,y,z data  and plots contours of an interpolated surface between them. This allows us to make\n",
    "\n",
    "But we have to import the function first, as this is a new one.  It has a number of functions which you can explore (try `help(tri)` after importing the module).   "
   ]
  },
  {
   "cell_type": "code",
   "execution_count": null,
   "metadata": {},
   "outputs": [],
   "source": [
    "import matplotlib.tri as tri"
   ]
  },
  {
   "cell_type": "code",
   "execution_count": null,
   "metadata": {},
   "outputs": [],
   "source": [
    "fig, ax = plt.subplots(figsize=(8,6))\n",
    "# read in the elevation data as a Pandas DatFrame.  \n",
    "bigIslandElev = pd.read_csv('Datasets/BigIslandElev.csv')\n",
    "# Plot longitude as x, latitude as y and elevation as z:\n",
    "x = bigIslandElev.lon.values\n",
    "y = bigIslandElev.lat.values\n",
    "z = bigIslandElev.elevation.values\n",
    "ax.tricontourf(x, y, z);"
   ]
  },
  {
   "cell_type": "markdown",
   "metadata": {},
   "source": [
    "Well that was relatively painless.  Now let's plot the same data, but as a contour plot. We can use the `matplotlib.tri.tricontour()` function to do this."
   ]
  },
  {
   "cell_type": "code",
   "execution_count": null,
   "metadata": {},
   "outputs": [],
   "source": [
    "fig, ax = plt.subplots(figsize=(8,6))\n",
    "# Setting the ocean to blue.\n",
    "ax.set_facecolor('lightblue')\n",
    "bigIsland.plot(ax=ax, edgecolor='black', linewidth=1, facecolor='lightgreen')\n",
    "\n",
    "ax.tricontour(x, y, z);"
   ]
  },
  {
   "cell_type": "markdown",
   "metadata": {},
   "source": [
    "We can specify the colors for contour lines using the argument `colors`. If we set a single value, all contours will have the same color. We can also specify the specific contour values to plot using the argument `levels`.  Let's modify the plot so the contours look nicer:"
   ]
  },
  {
   "cell_type": "code",
   "execution_count": null,
   "metadata": {},
   "outputs": [],
   "source": [
    "fig, ax = plt.subplots(figsize=(8,6))\n",
    "# Setting the ocean to blue.\n",
    "ax.set_facecolor('lightblue')\n",
    "bigIsland.plot(ax=ax, edgecolor='black', linewidth=1, facecolor='lightgreen')\n",
    "\n",
    "ax.tricontour(x, y, z, colors='black', linewidths=1, levels=np.arange(-5000,5000,1000));"
   ]
  },
  {
   "cell_type": "markdown",
   "metadata": {},
   "source": [
    "Now we can read in the flow polygons and convert them from UTM to WGS84. \n",
    "\n",
    "But first what are 'UTM' and 'WGS84'?  "
   ]
  },
  {
   "cell_type": "markdown",
   "metadata": {},
   "source": [
    "### Coordinate Systems \n",
    "\n",
    "There are many coordinate systems, but the two used with GPS are geodetic latitude/longitude/elevation and UTM (Universal Transverse Mercator). \n",
    "\n",
    "Lat/Lon/Elevation: The prime meridian and the equator are the reference planes used to define latitude and longitude.  The geodetic latitude of a point is the angle from the equatorial plane to the vertical direction of  a line normal to the reference ellipsoid.  The geodetic longitude of a point is the angle between a reference plane and a plane passing through the point, both planes being perpendicular to the equatorial plane.  The geodetic elevation is at a point is the distance from the reference ellipsoid to the point in a direction normal to the ellipsoid.  We will be using the reference ellipsoid known as WGS84 (although there are many so be careful!)  \n",
    "\n",
    "The Universal Transverse Mercator (UTM) coordinates define map locations (2D) within zones.  Zone numbers designate 6 degree longitudinal strips. The letters go from A (south pole) to Z (north pole). So  Each zone has a central meridian (CM).  Northings/eastings are measured from the equator and the CM.   San Diego is in zone S11, for example.  \n",
    "\n",
    "It turns out that with **Geopandas**, conversion is pretty straightforward, once you know the details of what coordinate system you are in.  For this exercise, the data are from Hawaii and are in zone 4 based on the NAD83 ellipsoid in units of meters.  We want them in longitude/latitude on ellipsoid WGS84. \n"
   ]
  },
  {
   "cell_type": "code",
   "execution_count": null,
   "metadata": {},
   "outputs": [],
   "source": [
    "Image('Figures/coordinateSystems.png')"
   ]
  },
  {
   "cell_type": "markdown",
   "metadata": {},
   "source": [
    "Lets set our conversion strings, read in the data and first take a look at the geometry field in UTM. "
   ]
  },
  {
   "cell_type": "code",
   "execution_count": null,
   "metadata": {},
   "outputs": [],
   "source": [
    "# Set Conversion Strings\n",
    "UTM4 = '+proj=utm +zone=4 +ellps=GRS80 +datum=NAD83 +units=m +no_defs'\n",
    "WGS84 = '+proj=longlat +ellps=WGS84 +datum=WGS84 +no_defs'\n",
    "\n",
    "# Get Big Island Flows and convert to WGS84\n",
    "bigIslandFlows = gpd.read_file('Datasets/BigIslandData.shp', crs=UTM4)\n",
    "# On UTM4\n",
    "bigIslandFlows.head()"
   ]
  },
  {
   "cell_type": "markdown",
   "metadata": {},
   "source": [
    "Looking at the polygon for the first flow (ID=5522), we can see how the `POLYGON` column has points like (862851.7650805543 2185118.765394682,...).  These are the Easting and Northing of a point on the flow with ID 5522.  How do I know which is easting and which is northing???   (HINT: think about the definitions).  "
   ]
  },
  {
   "cell_type": "code",
   "execution_count": null,
   "metadata": {},
   "outputs": [],
   "source": [
    "bigIslandFlows.loc[bigIslandFlows.ID == 5522]['geometry']"
   ]
  },
  {
   "cell_type": "markdown",
   "metadata": {},
   "source": [
    "We can convert between coordinate systems when we read the file in like this: "
   ]
  },
  {
   "cell_type": "code",
   "execution_count": null,
   "metadata": {},
   "outputs": [],
   "source": [
    "bigIslandFlows = gpd.read_file('Datasets/BigIslandData.shp', crs=UTM4).to_crs(WGS84)\n",
    "bigIslandFlows.head()"
   ]
  },
  {
   "cell_type": "markdown",
   "metadata": {},
   "source": [
    "And now notice how the polygon is in longitude/latitude:"
   ]
  },
  {
   "cell_type": "code",
   "execution_count": null,
   "metadata": {},
   "outputs": [],
   "source": [
    "bigIslandFlows.loc[bigIslandFlows.ID == 5522]['geometry']"
   ]
  },
  {
   "cell_type": "markdown",
   "metadata": {},
   "source": [
    "And now for the plot!"
   ]
  },
  {
   "cell_type": "code",
   "execution_count": null,
   "metadata": {},
   "outputs": [],
   "source": [
    "# From before\n",
    "fig, ax = plt.subplots(figsize=(8,6))\n",
    "# Setting the ocean to blue.\n",
    "ax.set_facecolor('lightblue')\n",
    "bigIsland.plot(ax=ax, edgecolor='black', linewidth=1, facecolor='lightgreen')\n",
    "\n",
    "ax.tricontour(x, y, z, colors='black', linewidths=1, levels=np.arange(-5000,5000,500))\n",
    "\n",
    "# Now the flow polygons: \n",
    "bigIslandFlows.plot(ax=ax, column='Ages', cmap='magma', legend=True, legend_kwds={'label': 'Date of Eruption (A.D.)'})\n",
    "plt.xlim(-156.2,-154.8)\n",
    "plt.savefig('hawaii.jpg');"
   ]
  }
 ],
 "metadata": {
  "kernelspec": {
   "display_name": "Python 3",
   "language": "python",
   "name": "python3"
  },
  "language_info": {
   "codemirror_mode": {
    "name": "ipython",
    "version": 3
   },
   "file_extension": ".py",
   "mimetype": "text/x-python",
   "name": "python",
   "nbconvert_exporter": "python",
   "pygments_lexer": "ipython3",
   "version": "3.8.3"
  }
 },
 "nbformat": 4,
 "nbformat_minor": 2
}
