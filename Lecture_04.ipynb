{
 "cells": [
  {
   "cell_type": "markdown",
   "metadata": {},
   "source": [
    "##  Lecture 4\n",
    "\n",
    "### Learning objectives\n",
    "\n",
    "- Learn more about another useful data structure, **dictionaries** (`dict`) and some of their **methods**.\n",
    "- Introduce special Python code blocks.\n",
    "- Learn about `for` loops, `while` loops and `if` statements."
   ]
  },
  {
   "cell_type": "markdown",
   "metadata": {},
   "source": [
    "## Dictionaries!\n",
    "\n",
    "Our next container is the Python **dictionary**. These are denoted by \\{ \\}.  They are  somewhat like lists, but instead of integer **indices**, they use alphanumeric (letters and numbers) **keys**:\n",
    "I love dictionaries.  So here is a bit more about them.\n",
    "\n",
    "One way to define a **dictionary** is with the curly braces, keys and values with syntax like this: \n"
   ]
  },
  {
   "cell_type": "code",
   "execution_count": 1,
   "metadata": {},
   "outputs": [
    {
     "name": "stdout",
     "output_type": "stream",
     "text": [
      "{'lisa': 46084, 'lab': 46531, 'jeff': 44707}\n"
     ]
    }
   ],
   "source": [
    "tel_nos = {'lisa': 46084, 'lab': 46531, 'jeff': 44707} # defines a dictionary of  telephone extensions\n",
    "print(tel_nos)   "
   ]
  },
  {
   "cell_type": "markdown",
   "metadata": {},
   "source": [
    "The format here is:\n",
    "```\n",
    "my_dict = { key_1: value_1, key_2: value_2, key_3: value_3 }\n",
    "```"
   ]
  },
  {
   "cell_type": "markdown",
   "metadata": {},
   "source": [
    "The keys are `'lisa'`, `'lab'`, and `'jeff'` and the values are 46084, 46531 and  44707. To return the value associated with a specific key, use square brackets with the key name:"
   ]
  },
  {
   "cell_type": "code",
   "execution_count": 2,
   "metadata": {},
   "outputs": [
    {
     "name": "stdout",
     "output_type": "stream",
     "text": [
      "46084\n"
     ]
    }
   ],
   "source": [
    "print(tel_nos['lisa'])"
   ]
  },
  {
   "cell_type": "markdown",
   "metadata": {},
   "source": [
    " To change a key's value:"
   ]
  },
  {
   "cell_type": "code",
   "execution_count": 3,
   "metadata": {},
   "outputs": [],
   "source": [
    "tel_nos['lisa'] = 40684"
   ]
  },
  {
   "cell_type": "markdown",
   "metadata": {},
   "source": [
    "To add a new key and value:"
   ]
  },
  {
   "cell_type": "code",
   "execution_count": 4,
   "metadata": {},
   "outputs": [
    {
     "name": "stdout",
     "output_type": "stream",
     "text": [
      "{'lisa': 40684, 'lab': 46531, 'jeff': 44707, 'new_guy': 48888}\n"
     ]
    }
   ],
   "source": [
    "tel_nos['new_guy'] = 48888\n",
    "print(tel_nos)"
   ]
  },
  {
   "cell_type": "markdown",
   "metadata": {},
   "source": [
    "Like the other containers we learned about in Lecture 3, dictionaries also have  **methods**.\n",
    "\n",
    "One useful one can generate a `list` of all the **keys**:"
   ]
  },
  {
   "cell_type": "code",
   "execution_count": 5,
   "metadata": {},
   "outputs": [
    {
     "name": "stdout",
     "output_type": "stream",
     "text": [
      "['lisa', 'lab', 'jeff', 'new_guy']\n"
     ]
    }
   ],
   "source": [
    "print(list(tel_nos.keys())) # returns an unordered list of the keys"
   ]
  },
  {
   "cell_type": "markdown",
   "metadata": {},
   "source": [
    "Or, for a _sorted_ `list` of keys, you can use the function `sorted()`.  "
   ]
  },
  {
   "cell_type": "code",
   "execution_count": 6,
   "metadata": {},
   "outputs": [
    {
     "name": "stdout",
     "output_type": "stream",
     "text": [
      "['jeff', 'lab', 'lisa', 'new_guy']\n"
     ]
    }
   ],
   "source": [
    "print(sorted(tel_nos.keys()))"
   ]
  },
  {
   "cell_type": "markdown",
   "metadata": {},
   "source": [
    "Another `list` generator called `values()`  can be used to generate a list of all the values (duh): "
   ]
  },
  {
   "cell_type": "code",
   "execution_count": 7,
   "metadata": {},
   "outputs": [
    {
     "name": "stdout",
     "output_type": "stream",
     "text": [
      "[40684, 46531, 44707, 48888]\n"
     ]
    }
   ],
   "source": [
    "print(list(tel_nos.values()))"
   ]
  },
  {
   "cell_type": "markdown",
   "metadata": {},
   "source": [
    "There are other ways to create dictionaries.  The `dict()` constructor can make a dictionary directly from a `list` containing key-value `tuples`:  "
   ]
  },
  {
   "cell_type": "code",
   "execution_count": 8,
   "metadata": {},
   "outputs": [
    {
     "name": "stdout",
     "output_type": "stream",
     "text": [
      "{'jeff': 44707, 'lisa': 46084, 'lab': 46531}\n"
     ]
    }
   ],
   "source": [
    "print(dict([('jeff', 44707), ('lisa', 46084), ('lab', 46531)]))"
   ]
  },
  {
   "cell_type": "markdown",
   "metadata": {},
   "source": [
    "The above one liner looks pretty dense with lots of brackets all smashed together. You might find it easy to digest what is happening if you use an expanded formatting style like this:"
   ]
  },
  {
   "cell_type": "code",
   "execution_count": 9,
   "metadata": {},
   "outputs": [
    {
     "name": "stdout",
     "output_type": "stream",
     "text": [
      "{'jeff': 44707, 'lisa': 46084, 'lab': 46531}\n"
     ]
    }
   ],
   "source": [
    "print(                      # open bracket for print - pass it a dict\n",
    "  dict(                     #   declare a tuple - pass it a list\n",
    "        [                   #     declare a list \n",
    "          ('jeff', 44707),  #       declare a tuple\n",
    "          ('lisa', 46084),  #       declare a tuple\n",
    "          ('lab', 46531)    #       declare a tuple\n",
    "        ]                   #     finish declaration of the list\n",
    "       )                    #   finish declaration of the tuple\n",
    "     )                      # close bracket for print"
   ]
  },
  {
   "cell_type": "markdown",
   "metadata": {},
   "source": [
    "For a more complete description of dictionaries,  see: \n",
    "\n",
    "http://docs.python.org/tutorial/datastructures.html#dictionaries\n"
   ]
  },
  {
   "cell_type": "markdown",
   "metadata": {},
   "source": [
    "## Code blocks\n",
    "\n",
    "We are about ready to start writing a \"real\" program.  First we need to talk about the structure of a Python program and the concept of the 'code block'. \n",
    "\n",
    "Every programming language provides a way to group blocks of code together and execute them under certain conditions.  Python uses indentation to define the code blocks and this also makes the code more readable. \n",
    "\n",
    "A common form for a code block starts with a _condition_ statement (e.g. \"if statement is true\") terminated by a colon (`:`). Most often, this condition statement would be followed by an indented code block that is executed, if the statement is true (which for Python means has has the value `True`). \n",
    "\n",
    " A typical Python program looks like this: \n"
   ]
  },
  {
   "cell_type": "markdown",
   "metadata": {},
   "source": [
    "```\n",
    "program statement\n",
    "\n",
    "block 1 condition statement:\n",
    "\n",
    "    block 1 statement\n",
    "\n",
    "    block 1 statement \\\n",
    "\n",
    "         Break in the indentation convention!\n",
    "\n",
    "    block 1 statement\n",
    "\n",
    "    block 2 condition statement:\n",
    "\n",
    "        block 2 statement\n",
    "\n",
    "        block 2 statement\n",
    "\n",
    "        block 3 condition statement:\n",
    "\n",
    "            block 3 statement\n",
    "\n",
    "            block 3 statement\n",
    "\n",
    "            block 4 condition statement: block 4 single line of code\n",
    "\n",
    "        block 2 statement\n",
    "\n",
    "        block 2 statement\n",
    "\n",
    "    block 1 statement\n",
    "\n",
    "    block 1 statement\n",
    "\n",
    "program statement\n",
    "```"
   ]
  },
  {
   "cell_type": "markdown",
   "metadata": {},
   "source": [
    "Exceptions to the code indentation rules are:\n",
    "\n",
    "- Statements can be continued on the next line with the continuation character `\\` and the indentation of the following line is arbitrary.  In Python 3, the backslash is not always required, but it is certainly recommended (by me) for clarity.  \n",
    "\n",
    "- If a code block consists of a single statement, then that may be placed on the same line as the colon (see block 4 above).  \n",
    "\n",
    "- The keyword `break` breaks you out of the code block. Use with caution!\n",
    "\n",
    "- There is a cheat that comes in handy when you are writing a complicated program and want to put in the code blocks but don't want them to DO anything yet:  the keyword  `pass` does nothing and can be used to stand in for a code block."
   ]
  },
  {
   "cell_type": "markdown",
   "metadata": {},
   "source": [
    "**TIP:**  Use only spaces or only tabs to indent your code. Jupyter notebooks try to guess what you want and will indent for you, for example, after a statement terminating in a colon.  \n",
    "\n",
    "Whatever you do BE CONSISTENT because tabs are not the same as spaces in Python. Even if you can't tell the difference just by looking at it, Python knows and will complain about it!\n",
    "\n"
   ]
  },
  {
   "cell_type": "markdown",
   "metadata": {},
   "source": [
    "## Conditional statements\n",
    "\n",
    "Conditions  statements are statements like:  \"x is greater than y\", which evaluate to either `True` or `False`.  \n",
    "\n",
    "In Python we would use a  _relational operator_ `>`  for the \"is greater than\" test so the question \"is x is greater than y?\" is written:  `x > y`.\n",
    "\n",
    "We already encountered a few _relational operators_ in Lecture 2, but  here is a more complete list  of those that are frequently used in condition statements:  \n",
    "\n",
    "`==`  means \"equals\";  A==B (Does A equal B?)\n",
    "\n",
    "`!=` means \"does not equal\";  A!=B (Is A not equal to B?)\n",
    "\n",
    "`<` means \"less than\"\n",
    "\n",
    "`<=` means \"less than or equal to\"\n",
    "\n",
    "`>` means \"greater than\"\n",
    "\n",
    "`>=` means \"greater than or equal to\"\n",
    "\n",
    "Conditions (like `A == B`) can be combined with `and` or `or` to make complex tests. For example\n",
    "```python\n",
    "((A == B) and (C != D))\n",
    "```\n",
    "In the abve, both conditions (either side of `and`) have to be true for the condition to evaluate as `True`.  \n",
    "Alternatively for \n",
    "```python\n",
    "((A == B) or (C != D))\n",
    "```\n",
    "only one condition either side of `or` has to be true for the entire condition to evaluate as `True`.   "
   ]
  },
  {
   "cell_type": "markdown",
   "metadata": {},
   "source": [
    "### `while` loops\n",
    "\n",
    "The `while` loop executes a code block while some condition is `True`. \n",
    "\n",
    "**TIP:**  Be VERY CAREFUL with these as they will go on and on and on and on if the condition stays True.  For example the statement `while 1:`  will always be `True` and would be a very dangerous condition statement to make.  If that happens to you, just save your notebook and select \"Close and Halt\" under \"File\" and restart your notebook. OH, and then take the statement OUT! \n",
    "\n",
    "Let's practice making a code block using a `while` loop.  We will set a variable $N$ to some number (100) and decrement $N$ by 1 until it reaches a _threshold_ (90). When $N$ is no longer greater than the threshold, the code block will terminate.  "
   ]
  },
  {
   "cell_type": "code",
   "execution_count": 10,
   "metadata": {},
   "outputs": [
    {
     "name": "stdout",
     "output_type": "stream",
     "text": [
      "100\n",
      "99\n",
      "98\n",
      "97\n",
      "96\n",
      "95\n",
      "94\n",
      "93\n",
      "92\n",
      "91\n",
      "and the final value is: 90\n"
     ]
    }
   ],
   "source": [
    "N = 100 # define the variable N to be 100\n",
    "threshold = 90 # define some threshold to be 90\n",
    "\n",
    "# while the condition in the () is True, the program will continue\n",
    "while N > threshold:  # is N greater then threshold?  if so, execute the indented code block\n",
    "    print(N)  # what it says\n",
    "    N -= 1  # decrement N by one\n",
    "print('and the final value is:', N) # now we're done we'll see what is left of N."
   ]
  },
  {
   "cell_type": "markdown",
   "metadata": {},
   "source": [
    "### `if` statements\n",
    "\n",
    "In an `if` statement, the code-block is executed (once) if the condition is `True`.\n",
    "\n",
    "Here is a simple `if` statement:"
   ]
  },
  {
   "cell_type": "code",
   "execution_count": 11,
   "metadata": {},
   "outputs": [
    {
     "name": "stdout",
     "output_type": "stream",
     "text": [
      "where did N go?\n"
     ]
    }
   ],
   "source": [
    "# We can re-use N which was used in an earlier script (assuming it was run!):\n",
    "if N < 100: # Is N less than 100?  \n",
    "    print(\"where did N go?\") # if so, print this.   \n",
    "# if not - you need to re-execute the while loop above this one.  "
   ]
  },
  {
   "cell_type": "markdown",
   "metadata": {},
   "source": [
    "There are additional conditions that you can  include in the `if` statements. In Python these are: `elif` (short for \"else if\") which means if the first `if` statment is `False`, but the statement following `elif` is `True`, then do something. Another is `else`, which means \"otherwise\". \n",
    "\n",
    "Consider these examples:"
   ]
  },
  {
   "cell_type": "code",
   "execution_count": 12,
   "metadata": {},
   "outputs": [
    {
     "name": "stdout",
     "output_type": "stream",
     "text": [
      "Temperate region\n"
     ]
    }
   ],
   "source": [
    "latitude = 32.7 # define a variable 'latitude'\n",
    "\n",
    "if latitude < 24: \n",
    "    print(\"Tropical region\")\n",
    "elif latitude> 24 and latitude < 66:\n",
    "    print(\"Temperate region\")\n",
    "else:\n",
    "    print(\"Polar region\")"
   ]
  },
  {
   "cell_type": "markdown",
   "metadata": {},
   "source": [
    "`in` is another Python _reserved keyword_ (remember from Lecture 2) that checks if a particular value is \"in\" a `list` (or `tuple` or `set`):  "
   ]
  },
  {
   "cell_type": "code",
   "execution_count": 13,
   "metadata": {},
   "outputs": [
    {
     "name": "stdout",
     "output_type": "stream",
     "text": [
      "call susie and apologize!\n"
     ]
    }
   ],
   "source": [
    "my_list = ['jane', 'josh', 'sid', 'geoff'] # define a list\n",
    "if 'susie' in my_list:  # if the string \"susie\" is in the list, then \n",
    "    pass # don't do anything\n",
    "if 'susie' not in my_list:\n",
    "    print('call susie and apologize!')\n",
    "    my_list.append('susie')\n",
    "elif 'george' in my_list: # if the last if statement is false, try this one\n",
    "    print('susie and george both in list') \n",
    "else: # if both statements are false, do this:\n",
    "    print(\"susie in list but george isn't\")"
   ]
  },
  {
   "cell_type": "markdown",
   "metadata": {},
   "source": [
    "### `for` loops\n",
    "\n",
    "\n",
    "The `for` loop allows you to step through a `list` (or `tuple`, among other things) sequentially. It assigns the first element to a variable name, say, `x`,  performs some operation on it and then return to the top of the loop and assign the next element to the same variable name.  \n",
    "\n",
    "For example, if we have a list `L = [1, 2, 3]`, this loop will assign each element in `L` to the variable `x`, square it, and then print the result.  "
   ]
  },
  {
   "cell_type": "code",
   "execution_count": 14,
   "metadata": {},
   "outputs": [
    {
     "name": "stdout",
     "output_type": "stream",
     "text": [
      "1 1\n",
      "2 4\n",
      "3 9\n"
     ]
    }
   ],
   "source": [
    "L = [1, 2, 3] # define the list 'L'\n",
    "\n",
    "# step through the list assigning each element to the variable, x\n",
    "for x in L: # x is assigned to each element in turn\n",
    "    print(x, x*x) # or we could have written print (x**2)"
   ]
  },
  {
   "cell_type": "markdown",
   "metadata": {},
   "source": [
    "As a second example of a `for` loop, we can use the `list` generated by the dictionary method `dict.keys()`:"
   ]
  },
  {
   "cell_type": "code",
   "execution_count": 15,
   "metadata": {},
   "outputs": [
    {
     "name": "stdout",
     "output_type": "stream",
     "text": [
      "List of keys in telnos: ['lisa', 'lab', 'jeff', 'new_guy']\n",
      "lisa\n",
      "lab\n",
      "jeff\n",
      "new_guy\n"
     ]
    }
   ],
   "source": [
    "# print out the list generated\n",
    "print('List of keys in telnos:', list(tel_nos.keys())) # here you need the list() function\n",
    "# notice the slightly fancier form of the print statement above.\n",
    "\n",
    "# now step through that list, \n",
    "   # assigning each element to the variable key\n",
    "for key in tel_nos.keys():  # just use the list generator (we don't need the list() function)\n",
    "    print(key) # print out the variable, key"
   ]
  },
  {
   "cell_type": "markdown",
   "metadata": {},
   "source": [
    "What just happened?  The `for` statement assigned each element in the `list` generated by the method `tel_nos.keys()` to the variable `key` and then printed each element out. The `for` statement loops through the entire `list`, one element at a time."
   ]
  },
  {
   "cell_type": "markdown",
   "metadata": {},
   "source": [
    "## Nested loops\n",
    "\n",
    "You can build a series of loops within loops, i.e. _nested_ loops.    \n",
    "\n",
    "Remember that everything within an indented code block is executed completely before moving on to the next code block.  "
   ]
  },
  {
   "cell_type": "code",
   "execution_count": 16,
   "metadata": {},
   "outputs": [
    {
     "name": "stdout",
     "output_type": "stream",
     "text": [
      "lisa\n",
      " > lisa's number\n",
      "   > she's on the phone (busy)\n",
      "lab\n",
      "jeff\n"
     ]
    }
   ],
   "source": [
    "# define a dictionary of telephone extensions:\n",
    "tel_nos = {'lisa': 46084, 'lab': 46531, 'jeff': 44707}\n",
    "keys = tel_nos.keys() # make a list generator of the dictionary keys\n",
    "busy = True # define the boolean 'busy' as True\n",
    "# step through the list generator of the dictionary keys, \n",
    "# assigning each key to the variable 'key'\n",
    "for key in keys:\n",
    "    print(key) # print the variable 'key' (the name)\n",
    "    num = tel_nos[key] # assign the value of the key (the telephone number) to 'num'\n",
    "    if num == 46084: # conditional statement, if the number is 46084, then\n",
    "        # print the message identifying the key that this value belongs to\n",
    "        print(\" > \" + key + \"'s number\") \n",
    "        while busy: # If 'busy' is still 'True', then print the message \"she's on the phone\"\n",
    "            print(\"   > she's on the phone (busy)\")\n",
    "            busy = False # set 'busy' to 'False'"
   ]
  },
  {
   "cell_type": "markdown",
   "metadata": {},
   "source": [
    "### References\n",
    "1. Information about dictionaries: http://docs.python.org/tutorial/datastructures.html#dictionaries"
   ]
  }
 ],
 "metadata": {
  "kernelspec": {
   "display_name": "Python 3",
   "language": "python",
   "name": "python3"
  },
  "language_info": {
   "codemirror_mode": {
    "name": "ipython",
    "version": 3
   },
   "file_extension": ".py",
   "mimetype": "text/x-python",
   "name": "python",
   "nbconvert_exporter": "python",
   "pygments_lexer": "ipython3",
   "version": "3.8.3"
  }
 },
 "nbformat": 4,
 "nbformat_minor": 1
}
