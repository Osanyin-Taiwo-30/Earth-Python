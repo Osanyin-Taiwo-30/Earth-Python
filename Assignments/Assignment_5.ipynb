{
 "cells": [
  {
   "cell_type": "markdown",
   "metadata": {},
   "source": [
    "# SIO 113: Assignment #5\n",
    "\n",
    "#### Instructor: Dave May (dmay@ucsd.edu)\n",
    "\n",
    "#### Assistant: Gabrielle Hobson (ghobson@ucsd.edu)\n",
    "\n",
    "#### Scripps Institution of Oceanography, UCSD.\n",
    "\n",
    "----"
   ]
  },
  {
   "cell_type": "markdown",
   "metadata": {},
   "source": [
    "<div class=\"alert alert-block alert-info\"><b>Preliminary:</b>\n",
    "Create a new notebook and rename it using the format YourLastname_FirstInitial_HW_05. \n",
    "</div>"
   ]
  },
  {
   "cell_type": "markdown",
   "metadata": {},
   "source": [
    "### 1. Bar charts and sub-plots\n",
    "\n",
    "- Read the data file `Datasets/ClayMinerals/clay_meta_data_v1.csv` into a pandas `DataFrame`.\n",
    "- These are data for the clay minerals in different types of soil from Ito & Wagai 2017 ( https://www.ncbi.nlm.nih.gov/pmc/articles/PMC5667577/ ).\n",
    "- Use `.groupby()` to group the datasets by \"Soil order\" and \"Topsoil or Subsoil\". You can group by more than one column. \n",
    "- Use the `mean()` method to get the mean value for each type of clay for the topsoil and subsoil for each soil type.\n",
    "- Make a plot with 2 columns and 4 rows.\n",
    "- The `.groupby()` method has a method `.agg()` which takes a dictionary of the desired column headers (in this case the minerals) as keys and what action is required (in this case 'mean') as values. `.groupby()` also can make plots specifying the kind of plot, the `ax` object, the rotation of the xlabel (use `rot=0` in the following) and the title (use the soil type in the following).\n",
    "- Choose four soil types. For each soil type, plot a bar chart of the topsoil minerals in the left hand column and a bar chart of the subsoil minerals in the right hand column. For each chart, get rid of the minerals for which the abundance is 0.\n",
    "- Set the plot title to the type of soil (\"Topsoil or Subsoil\").\n",
    "\n",
    "### 2. Plotting histograms\n",
    "\n",
    "- In the file `Datasets/SurfaceTemp/surfaceTemperature.txt`, you will find global surface temperature data that was recorded by the MODIS satellite.\n",
    "- Inspect the data.\n",
    "- Import the surface temperature data from `surfaceTemperature.txt` into a pandas `DataFrame`.\n",
    "- Sort the data.\n",
    "- Plot the global surface temperature across the globe as a histogram. Plot the mean, median and mode as vertical lines and add a legend. Note that the `mode()` method works a little differently than the other to and you have to turn the result into a `float`. Do these statistics tell us much for this dataset?\n",
    "- Generate a cumulative distribution function of temperature across the globe.\n",
    "\n",
    "### 3. Convergence of the mean\n",
    "- Create a simulated normal distribution with a mean of 0 and a standard deviation of 1.\n",
    "- Using a `for` loop, create a program that draws a value from the distribution and appends it to a `list`. Do this until your list is 100 values long.\n",
    "- At each loop of the list, calculate the mean of the values that you have drawn so far. Append the mean to another list.\n",
    "- Plot the mean of each draw against number of points in the draw as a line plot. Add a red horizontal line at 0.\n",
    "- How many points does it take for the mean to reasonably approximate an answer of 0?"
   ]
  },
  {
   "cell_type": "markdown",
   "metadata": {},
   "source": [
    "### Reference\n",
    "\n",
    "Ito, Akihiko, and Rota Wagai. \"Global distribution of clay-size minerals on land surface for biogeochemical and climatological studies.\" Scientific data 4, no. 1 (2017): 1-11.\n"
   ]
  },
  {
   "cell_type": "markdown",
   "metadata": {},
   "source": [
    "<div class=\"alert alert-block alert-danger\"><b> \n",
    "To receive full credit, your notebook:\n",
    "    \n",
    "1. Must have the correct name;\n",
    "2. Must be fully commented;\n",
    "3. Must run as expected;\n",
    "4. Must be submitted into Canvas before the deadline.\n",
    "</b></div>"
   ]
  }
 ],
 "metadata": {
  "kernelspec": {
   "display_name": "Python 3",
   "language": "python",
   "name": "python3"
  },
  "language_info": {
   "codemirror_mode": {
    "name": "ipython",
    "version": 3
   },
   "file_extension": ".py",
   "mimetype": "text/x-python",
   "name": "python",
   "nbconvert_exporter": "python",
   "pygments_lexer": "ipython3",
   "version": "3.8.3"
  }
 },
 "nbformat": 4,
 "nbformat_minor": 1
}
