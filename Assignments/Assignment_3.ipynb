{
 "cells": [
  {
   "cell_type": "markdown",
   "metadata": {},
   "source": [
    "# SIO113: Assignment #3\n",
    "\n",
    "#### Instructor: Dave May (dmay@ucsd.edu)\n",
    "\n",
    "#### Assistant: Gabrielle Hobson (ghobson@ucsd.edu)\n",
    "\n",
    "#### Scripps Institution of Oceanography, UCSD, Spring 2022\n",
    "\n",
    "----"
   ]
  },
  {
   "cell_type": "markdown",
   "metadata": {},
   "source": [
    "<div class=\"alert alert-block alert-info\"><b>Preliminary:</b>\n",
    "Create a new notebook and rename it using the format YourLastname_FirstInitial_HW_03.\n",
    "</div>"
   ]
  },
  {
   "cell_type": "markdown",
   "metadata": {},
   "source": [
    "## Earthquake Analysis"
   ]
  },
  {
   "cell_type": "markdown",
   "metadata": {},
   "source": [
    "1. Obtain the data set\n",
    "  * Go to the [IRIS website](http://ds.iris.edu/ieb/index.html?format=text&nodata=404&starttime=1970-01-01&endtime=2025-01-01&minmag=0&maxmag=10&mindepth=0&maxdepth=900&orderby=time-desc&limit=1000&maxlat=89.18&minlat=-89.18&maxlon=180.00&minlon=-180.00&zm=1&mt=ter) (US's national earthquake database).\n",
    "  * Search for the last 10 earthquakes. To do this, on the right panel, set \"Maximum earthquakes\" to `10` and set \"Select earthquakes by\" to `Newest`. Then click \"Apply\".\n",
    "  * On the right panel, under \"Download as\" select `Excel`.\n",
    "  * Upload the `.csv` file (it's probably called `IEB_export.csv`) into you Jupyter environment (or copy to a directory on your computer with your notebook in it). \n",
    "2. Process the data\n",
    "  * Load the `.csv` file into a **pandas** `DataFrame`.\n",
    "  * Extract the latitudes,  longitudes and depths  as a **NumPy** array.  \n",
    "3. Visualize the data\n",
    "  * Create an XY scatter plot with longitude on the X-axis and latitudes on the Y-axis. Use small red triangles as the symbols.  \n",
    "  * Add a title to you plot.\n",
    "  * Label both the x and y axes.\n",
    "  * Save your figure as a `.png` file.\n",
    "4. Extensions for future work\n",
    "  * Write a module that has a great circle function in it that returns a value for the distance rounded to the nearest decimal.\n",
    "  * Save your module in a `.py` file to be re-used later."
   ]
  },
  {
   "cell_type": "markdown",
   "metadata": {},
   "source": [
    "<div class=\"alert alert-block alert-warning\"><b>Note:</b>\n",
    "When submitting your homework to Canvas, you must include the datafile you downloaded along with your solution (Jupyter notebook). Please upload your submisson as a single zip file.\n",
    "</div>"
   ]
  },
  {
   "cell_type": "markdown",
   "metadata": {},
   "source": [
    "<div class=\"alert alert-block alert-danger\"><b> \n",
    "To receive full credit, your notebook:\n",
    "    \n",
    "1. Must have the correct name;\n",
    "2. Must be fully commented;\n",
    "3. Must run as expected;\n",
    "4. Must be submitted into Canvas before the deadline.\n",
    "</b></div>"
   ]
  }
 ],
 "metadata": {
  "kernelspec": {
   "display_name": "Python 3",
   "language": "python",
   "name": "python3"
  },
  "language_info": {
   "codemirror_mode": {
    "name": "ipython",
    "version": 3
   },
   "file_extension": ".py",
   "mimetype": "text/x-python",
   "name": "python",
   "nbconvert_exporter": "python",
   "pygments_lexer": "ipython3",
   "version": "3.8.3"
  }
 },
 "nbformat": 4,
 "nbformat_minor": 1
}
