{
 "cells": [
  {
   "cell_type": "markdown",
   "metadata": {},
   "source": [
    "## Assignment 3"
   ]
  },
  {
   "cell_type": "markdown",
   "metadata": {},
   "source": [
    "- Make a notebook and change the name of the notebook to: YourLastName_Initial_HW_03 (for example,  Cych_B_HW_03)\n",
    "- Go to the IRIS website (US's national earthquake database, http://ds.iris.edu/ieb/index.html?format=text&nodata=404&starttime=1970-01-01&endtime=2025-01-01&minmag=0&maxmag=10&mindepth=0&maxdepth=900&orderby=time-desc&limit=1000&maxlat=89.18&minlat=-89.18&maxlon=180.00&minlon=-180.00&zm=1&mt=ter) and search for the last 10 earthquakes (set Max quakes to 10) and Priority to Newest). Click on \"Apply\".  Then click on 'Download as Excel'.   Upload the .csv file to the datahub site or to a   directory on your computer with your notebook in it. \n",
    "- Read this file into a Pandas DataFrame.\n",
    "- Extract the latitudes,  longitudes and depths  as a **NumPy** array.  \n",
    "- Make an XY plot with longitude on the horizontal axis and latitudes on the Y axis.  Use small red triangles as the symbols.  \n",
    "- Label your axes.\n",
    "- Save your figure as a .png file\n",
    "- write a module that has a great circle function in it that returns a value for the distance rounded to the nearest decimal.  save your module to be re-used later. "
   ]
  },
  {
   "cell_type": "markdown",
   "metadata": {},
   "source": [
    "Your code must be fully commented, the notebook must have the correct name and it must be turned in to Canvas before the deadline."
   ]
  },
  {
   "cell_type": "markdown",
   "metadata": {},
   "source": [
    "To turn it in, you must include the datafile you downloaded in a zip file with your solution notebook.  "
   ]
  }
 ],
 "metadata": {
  "kernelspec": {
   "display_name": "Python 3",
   "language": "python",
   "name": "python3"
  },
  "language_info": {
   "codemirror_mode": {
    "name": "ipython",
    "version": 3
   },
   "file_extension": ".py",
   "mimetype": "text/x-python",
   "name": "python",
   "nbconvert_exporter": "python",
   "pygments_lexer": "ipython3",
   "version": "3.8.3"
  }
 },
 "nbformat": 4,
 "nbformat_minor": 1
}
