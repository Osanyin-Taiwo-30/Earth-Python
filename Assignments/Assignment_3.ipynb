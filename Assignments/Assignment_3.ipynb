{
 "cells": [
  {
   "cell_type": "markdown",
   "metadata": {},
   "source": [
    "# SIO113: Assignment #3\n",
    "\n",
    "#### Instructor: Dave May (dmay@ucsd.edu)\n",
    "\n",
    "#### Assistant: Brendan Cych (bcych@ucsd.edu)\n",
    "\n",
    "#### Scripps Institution of Oceanography, UCSD, Spring 2021\n",
    "\n",
    "----"
   ]
  },
  {
   "cell_type": "markdown",
   "metadata": {},
   "source": [
    "<div class=\"alert alert-block alert-info\"><b>Preliminary:</b>\n",
    "Create a new notebook and rename it using the format YourLastname_FirstInitial_HW_03. For example, <b>Cych_B_HW_03</b>\n",
    "</div>"
   ]
  },
  {
   "cell_type": "markdown",
   "metadata": {},
   "source": [
    "- Go to the IRIS website (US's national earthquake database, http://ds.iris.edu/ieb/index.html?format=text&nodata=404&starttime=1970-01-01&endtime=2025-01-01&minmag=0&maxmag=10&mindepth=0&maxdepth=900&orderby=time-desc&limit=1000&maxlat=89.18&minlat=-89.18&maxlon=180.00&minlon=-180.00&zm=1&mt=ter) and search for the last 10 earthquakes (set Max quakes to 10) and Priority to Newest). Click on \"Apply\".  Then click on 'Download as Excel'.   Upload the .csv file to the datahub site or to a   directory on your computer with your notebook in it. \n",
    "- Read this file into a Pandas DataFrame.\n",
    "- Extract the latitudes,  longitudes and depths  as a `numpy` array.  \n",
    "- Make an XY plot with longitude on the horizontal axis and latitudes on the Y axis.  Use small red triangles as the symbols.  \n",
    "- Label your axes.\n",
    "- Save your figure as a .png file\n",
    "- Write a module that has a great circle function in it that returns a value for the distance rounded to the nearest decimal.\n",
    "- Save your module to be re-used later. "
   ]
  },
  {
   "cell_type": "markdown",
   "metadata": {},
   "source": [
    "<div class=\"alert alert-block alert-warning\"><b>Note:</b>\n",
    "When submitting your homework to Canvas, you must include the datafile you downloaded in a zip file with your solution notebook.\n",
    "</div>"
   ]
  },
  {
   "cell_type": "markdown",
   "metadata": {},
   "source": [
    "<div class=\"alert alert-block alert-danger\"><b> \n",
    "To receive full credit, your notebook:\n",
    "    \n",
    "1. Must have the correct name;\n",
    "2. Must be fully commented;\n",
    "3. Must run as expected;\n",
    "4. Must be submitted into Canvas before the deadline.\n",
    "</b></div>"
   ]
  }
 ],
 "metadata": {
  "kernelspec": {
   "display_name": "Python 3",
   "language": "python",
   "name": "python3"
  },
  "language_info": {
   "codemirror_mode": {
    "name": "ipython",
    "version": 3
   },
   "file_extension": ".py",
   "mimetype": "text/x-python",
   "name": "python",
   "nbconvert_exporter": "python",
   "pygments_lexer": "ipython3",
   "version": "3.8.3"
  }
 },
 "nbformat": 4,
 "nbformat_minor": 1
}
