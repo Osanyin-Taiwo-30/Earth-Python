{
 "cells": [
  {
   "cell_type": "markdown",
   "metadata": {},
   "source": [
    "# SIO113: Assignment #2\n",
    "\n",
    "#### Instructor: Dave May (dmay@ucsd.edu)\n",
    "\n",
    "#### Assistant: Brendan Cych (bcych@ucsd.edu)\n",
    "\n",
    "#### Scripps Institution of Oceanography, UCSD, Spring 2021\n",
    "\n",
    "----"
   ]
  },
  {
   "cell_type": "markdown",
   "metadata": {},
   "source": [
    "<div class=\"alert alert-block alert-info\"><b>Preliminary:</b>\n",
    "Create a new notebook and rename it using the format YourLastname_FirstInitial_HW_02. For example, <b>Cych_B_HW_02</b>\n",
    "</div>"
   ]
  },
  {
   "cell_type": "markdown",
   "metadata": {},
   "source": [
    "<div class=\"alert alert-block alert-warning\"><b>Note:</b>\n",
    "In the following it is assumed that you imported the NumPy module into the following namespace\n",
    "    \n",
    "`\n",
    "import numpy as np\n",
    "`    \n",
    "</div>"
   ]
  },
  {
   "cell_type": "markdown",
   "metadata": {
    "collapsed": true
   },
   "source": [
    "- In a **markdown** cell, write a description of what the notebook does.\n",
    "- Create a NumPy  array of numbers from 0 to 100.\n",
    "- Create another list that is empty.\n",
    "- Write a `for` loop that takes the square root of each value in your NumPy `ndarray` (using `np.sqrt()`) and appends the result to the empty list.  \n",
    "- Print out all the numbers that are divisible by 4 (using the modulo operator).\n",
    "- Plot the square roots against the original values in the NumPy array.  \n",
    "- Create a dictionary with at least four key:value pairs.\n",
    "\n",
    "- Write your own module that contains at least four functions and uses a dictionary and a list. Include a doc string in your module which briefly describes what functionality the module provides. Include a docstring for each function.\n",
    "- Save the contents of your model in a file using the magic (Jupyter) command: \n",
    "```python\n",
    "%%writefile YOUR_MODULE_NAME.py\n",
    "```\n",
    "- Import your module into your notebook and call all of the functions defined within it. "
   ]
  },
  {
   "cell_type": "markdown",
   "metadata": {},
   "source": [
    "<div class=\"alert alert-block alert-warning\"><b>Hint:</b> For the purposes of debugging, you will probably want to 'reload' your module as you refine / change / edit it.\n",
    "</div>"
   ]
  },
  {
   "cell_type": "markdown",
   "metadata": {},
   "source": [
    "To reload your module, do the following (at the top of your notebook)\n",
    "\n",
    "```python\n",
    "from importlib import reload\n",
    "```\n",
    "\n",
    "and then\n",
    "\n",
    "```python\n",
    "reload(YOUR_MODULE_NAME)\n",
    "```"
   ]
  },
  {
   "cell_type": "markdown",
   "metadata": {},
   "source": [
    "<div class=\"alert alert-block alert-danger\"><b> \n",
    "To receive full credit, your notebook:\n",
    "    \n",
    "1. Must have the correct name;\n",
    "2. Must be fully commented;\n",
    "3. Must run as expected;\n",
    "4. Must be submitted into Canvas before the deadline.\n",
    "</b></div>"
   ]
  }
 ],
 "metadata": {
  "kernelspec": {
   "display_name": "Python 3",
   "language": "python",
   "name": "python3"
  },
  "language_info": {
   "codemirror_mode": {
    "name": "ipython",
    "version": 3
   },
   "file_extension": ".py",
   "mimetype": "text/x-python",
   "name": "python",
   "nbconvert_exporter": "python",
   "pygments_lexer": "ipython3",
   "version": "3.8.3"
  }
 },
 "nbformat": 4,
 "nbformat_minor": 1
}
