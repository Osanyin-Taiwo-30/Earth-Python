{
 "cells": [
  {
   "cell_type": "markdown",
   "metadata": {},
   "source": [
    "### Assignment 2"
   ]
  },
  {
   "cell_type": "markdown",
   "metadata": {
    "collapsed": true
   },
   "source": [
    "- Make a notebook and change the name of the notebook to: YourLastNameInitial_HW_02\n",
    "    (for example,  CychB_HW_02)\n",
    "- In a **markdown** cell, write a description of what the notebook does\n",
    "- Create a **Numpy**  array of numbers from 0 to 100\n",
    "- Create another list that is empty\n",
    "- Write a **for** loop that takes the square root of all the values in your list of numbers (using **np.sqrt**) and appends them to the empty list.  \n",
    "- Print out all the numbers that are divisible by 4 (using the modulo operator).\n",
    "- Plot the square roots against the original list.  \n",
    "- Create a dictionary with at least 4 key:value pairs\n",
    "\n",
    "- Write your own module that contains at least four functions and uses a dictionary and a list. Include a doc string in your module and a comment before each function that briefly describes the function.  Save it with the magic command %%writefile YOURMODULENAME.py\n",
    "- Import the module into your notebook and call all of the functions. \n",
    "\n",
    "Hint: For the purposes of debugging, you will probably want to 'reload' your module as you refine it.  To do this\n",
    "\n",
    "_from importlib import reload_\n",
    "\n",
    "then\n",
    "\n",
    "_reload(YOURMODULENAME)_ "
   ]
  },
  {
   "cell_type": "markdown",
   "metadata": {},
   "source": [
    "Your code must be fully commented. "
   ]
  }
 ],
 "metadata": {
  "kernelspec": {
   "display_name": "Python 3",
   "language": "python",
   "name": "python3"
  },
  "language_info": {
   "codemirror_mode": {
    "name": "ipython",
    "version": 3
   },
   "file_extension": ".py",
   "mimetype": "text/x-python",
   "name": "python",
   "nbconvert_exporter": "python",
   "pygments_lexer": "ipython3",
   "version": "3.8.3"
  }
 },
 "nbformat": 4,
 "nbformat_minor": 1
}
