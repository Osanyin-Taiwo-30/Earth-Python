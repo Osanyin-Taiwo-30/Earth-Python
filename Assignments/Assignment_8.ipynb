{
 "cells": [
  {
   "cell_type": "markdown",
   "metadata": {},
   "source": [
    "### Assignment \\#8\n",
    "\n",
    "\n",
    "\n",
    "The Christmas Day Earthquake, in 2016, was a magnitude 7.6 earthquake, so it was observed by  seismic stations around the world.\n",
    "\n",
    "In previous weeks, we looked at a seismic record from a single station, Pinyon Flat and used that record to estimate the P-wave arrival, S-wave arrival, and the distance between the station and the earthquake epicenter.\n",
    "\n",
    "In this assignment, we will calculate: the S-wave and P-wave arrivals at 4 different stations, the great circle distance between each station and the earthquake epicenter, and find the coordinates of the epicenter.\n",
    "\n",
    "\n",
    "The four stations are **HOPE, PAYG, PMSA, and SJG**. The data from these stations were downloaded from the IRIS website: \n",
    " http://ds.iris.edu/wilber3/find_stations/9948944\n",
    " \n",
    "\n",
    "You'll find the datafiles in the folder _Datasets/seismicRecords/_  (which may be in a folder 'above' the current working directory). \n",
    "\n",
    "\n",
    "\n",
    "Each file has either HOPE, PAYG, PMSA or SJG in the filename. These are the different stations we wish to analyze.\n",
    "\n",
    "\n",
    "1. The seismic records are in the files with the extension _.txt_ \n",
    "    \n",
    "    a. Read each datafile into a pandas DataFrame. The actual data start after a  meta-data line so use skiprows=1, header=None\n",
    "    \n",
    "    b.   Make a figure object with  the **fig=plt.figure()** statement using the **figsize** argument to set the figure to be 10x10.  Use the **ax=fig.add_subplots()** syntax to create axis objects (ax1-ax4) with 4 rows and one column. Plot a seismogram from each station.  Put a note on each  seismogram using the **plt.text(x,y,stationName,transform=ax.transAxes)** syntax, where stationName is one of the station names.  Here **ax** should be one of your axis objects and x and y are the locations in relative coordinates for your note (0 is far left (bottom) and 1 is far right(top).  \n",
    "\n",
    "2. Write a function to calculate the time delay for a given seismic record:\n",
    "   \n",
    "   a. Find the P wave arrival\n",
    "       i.  Assume a sampling rate of 20 samples/second.  You can find this information in the file headers, e.g., '20 sps'.\n",
    "       \n",
    "       ii. Filter for the first .8 minutes and label it noise\n",
    "       \n",
    "       iii. Calculate the maximum value and minimum value in the noise \n",
    "       \n",
    "       iii. Find the first velocity  after .8 minutes that is greater than the maximum noise or is less than the minimum noise. Take this as  the P-wave arrival.  Take the last peak that exceeds the noise limits as the S-wave arrival.  \n",
    "       \n",
    "    b. Calculate the time delay between the S wave arrival and the P wave arrival using your function.\n",
    "    \n",
    "   c. Use the time delay to find the great circle distance (in degrees) between the station and the earthquake epicenter \n",
    "   (**Hint:** use the file _DeltaTimeData.csv_ in the _Datasets_ directory  used in earlier lectures.)\n",
    "\n",
    "3. Make a map\n",
    "    \n",
    "    a. Use the files in the Datasets/seismicRecords directory with the extension .BHZ to get the latitude and longitude of each station\n",
    "    \n",
    "    b. Plot each station on the map as a star\n",
    "    \n",
    "    c. For each station, use the function **pts_on_a_plane( )** from Lecture 23, the coordinates of the station as the pole, and the great circle distance you calculated in 2c as gamma to find the points on a small circle\n",
    "   \n",
    "   d. Plot the small circle around each station\n",
    "   e. The small circles should all intersect where the Earthquake occured- in Chile, so plot the location of the Earthquake (from Lecture 6, latitude=-43.42, longitude=-73.95) as a blue square.  How did we do?  \n",
    "    \n"
   ]
  },
  {
   "cell_type": "code",
   "execution_count": null,
   "metadata": {},
   "outputs": [],
   "source": []
  }
 ],
 "metadata": {
  "kernelspec": {
   "display_name": "Python 3",
   "language": "python",
   "name": "python3"
  },
  "language_info": {
   "codemirror_mode": {
    "name": "ipython",
    "version": 3
   },
   "file_extension": ".py",
   "mimetype": "text/x-python",
   "name": "python",
   "nbconvert_exporter": "python",
   "pygments_lexer": "ipython3",
   "version": "3.8.3"
  }
 },
 "nbformat": 4,
 "nbformat_minor": 2
}
