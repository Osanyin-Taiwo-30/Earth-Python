{
 "cells": [
  {
   "cell_type": "markdown",
   "metadata": {},
   "source": [
    "# SIO113: Assignment #8\n",
    "\n",
    "#### Instructor: Dave May (dmay@ucsd.edu)\n",
    "\n",
    "#### Assistant: Brendan Cych (bcych@ucsd.edu)\n",
    "\n",
    "#### Scripps Institution of Oceanography, UCSD, Spring 2021\n",
    "\n",
    "----"
   ]
  },
  {
   "cell_type": "markdown",
   "metadata": {},
   "source": [
    "<div class=\"alert alert-block alert-info\"><b>Preliminary:</b>\n",
    "Create a new notebook and rename it using the format YourLastname_FirstInitial_HW_08. \n",
    "For example, <b>Cych_B_HW_08</b>\n",
    "</div>"
   ]
  },
  {
   "cell_type": "markdown",
   "metadata": {
    "ExecuteTime": {
     "end_time": "2021-03-23T21:36:16.594879Z",
     "start_time": "2021-03-23T21:36:16.576713Z"
    }
   },
   "source": [
    "### 1.  KMeans Clustering\n",
    "1. Read in the data set _Datasets/Forams/Forams.txt_ into a Pandas DataFrame (remembering that the Datasets directory may be 'above' the current working directory of this notebook.  \n",
    "2. Filter the dataframe per species. Make a plot of the data \\['Ø [mm]'\\] column against the \\['Perc [%]'\\] column. Plot each species as a different color. \n",
    "3. Use the Scikitlearn KMeans algorithm on your data to find clusters. Use the \\['Ø [mm]','Perc [%]','Growth [%]'\\] columns for the clustering.\n",
    "4. Make another plot of \\['Ø [mm]'\\] column against \\['Perc [%]'\\], this time coloring by your clusters. Did the algorithm work? How did it compare with the original species designations?\n",
    "\n",
    "### 2. Plotting Terrain Contours\n",
    "1. Read in the data file '../Datasets/topodata.csv'. These are data from the etopo data that we have used on the California coastline.\n",
    "2. Use the .unique attribute on the lats and lons series and the len() function to find the number of unique latitudes and longitudes.\n",
    "3. Turn each of the columns into numpy arrays, and reshape them to be (n_lats,n_lons) where n_lats is the number of unique latitudes and n_lons is the number of unique longitudes. Note: They must be in this order or this will not work.\n",
    "4. Using cartopy, plot a lambert conformal map with central longitude -120 and central latitude 35. Use `ax.set_extent()` to set the axis extents to the minimum and maximum latitudes and longitudes in your DataFrame.\n",
    "5. Use `plt.contourf()` to plot your topography data on the map. Use the `transform` argument to plot your contours in the right place. Use the arguments `cmap='terrain'` and `levels=30` to make the map look nice (if you don't like the color scale, you can use the \"vmin\" and \"vmax\" arguments to change the maximum and minimum contour levels)."
   ]
  },
  {
   "cell_type": "markdown",
   "metadata": {},
   "source": [
    "<div class=\"alert alert-block alert-danger\"><b> \n",
    "To receive full credit, your notebook:\n",
    "    \n",
    "1. Must have the correct name;\n",
    "2. Must be fully commented;\n",
    "3. Must run as expected;\n",
    "4. Must be submitted into Canvas before the deadline.\n",
    "</b></div>"
   ]
  }
 ],
 "metadata": {
  "kernelspec": {
   "display_name": "Python 3",
   "language": "python",
   "name": "python3"
  },
  "language_info": {
   "codemirror_mode": {
    "name": "ipython",
    "version": 3
   },
   "file_extension": ".py",
   "mimetype": "text/x-python",
   "name": "python",
   "nbconvert_exporter": "python",
   "pygments_lexer": "ipython3",
   "version": "3.7.4"
  }
 },
 "nbformat": 4,
 "nbformat_minor": 2
}
