{
 "cells": [
  {
   "cell_type": "markdown",
   "metadata": {},
   "source": [
    "# SIO113: Assignment #8\n",
    "\n",
    "#### Instructor: Dave May (dmay@ucsd.edu)\n",
    "\n",
    "#### Assistant: Gabrielle Hobson (ghobson@ucsd.edu)\n",
    "\n",
    "#### Scripps Institution of Oceanography, UCSD, Spring 2022\n",
    "\n",
    "----"
   ]
  },
  {
   "cell_type": "markdown",
   "metadata": {},
   "source": [
    "<div class=\"alert alert-block alert-info\"><b>Preliminary:</b>\n",
    "Create a new notebook and rename it using the format YourLastname_FirstInitial_HW_08. \n",
    "</div>"
   ]
  },
  {
   "cell_type": "markdown",
   "metadata": {
    "ExecuteTime": {
     "end_time": "2021-03-23T21:36:16.594879Z",
     "start_time": "2021-03-23T21:36:16.576713Z"
    }
   },
   "source": [
    "## 1.  KMeans clustering\n",
    "1. Read in the data set `Datasets/Forams/Forams.txt` into a Pandas `DataFrame` (remembering that the Datasets directory may be 'above' the current working directory of this notebook.  \n",
    "2. Filter the dataframe per species. Make a plot of the data `'Ø [mm]'` column against the `'Perc [%]'` column. Plot each species as a different color. \n",
    "3. Use the **Scikit-learn** `KMeans()` algorithm on your data to find clusters. Use the `'Ø [mm]'`,`'Perc [%]'`,`'Growth [%]'` columns for the clustering.\n",
    "4. Make another plot of `'Ø [mm]'` column against `'Perc [%]'`, this time coloring by your clusters. Did the algorithm work? How did it compare with the original species designations?"
   ]
  },
  {
   "cell_type": "markdown",
   "metadata": {},
   "source": [
    "## 2. PCA analysis on melt pond imagery data\n",
    "1. Following the lecture, load in all 13 bands of Sentinel-2 into a 3D `ndarray` called `data_full`. \n",
    "2. Create a new array called `data` by slicing into `data_full` like so: `data = data_full[345:500, 90:155, :]`. \n",
    "3. Plot the red, green, and blue bands. Include appropriate titles.\n",
    "4. Compose the bands into a 2D data array.\n",
    "4. Center the data by subtracting the mean from each column of the array. \n",
    "5. Compute SVD of the data matrix. \n",
    "6. Create the principal components by scaling the bands by the right singular vectors. \n",
    "7. Plot the first 3 principal components. Include appropriate titles. \n",
    "8. Do you think it will be as easy to estimate the melt pond area for this melt pond, compared to the one we analysed in the lecture? What would make it easier or more difficult? "
   ]
  },
  {
   "cell_type": "markdown",
   "metadata": {},
   "source": [
    "<div class=\"alert alert-block alert-danger\"><b> \n",
    "To receive full credit, your notebook:\n",
    "    \n",
    "1. Must have the correct name;\n",
    "2. Must be fully commented;\n",
    "3. Must run as expected;\n",
    "4. Must be submitted into Canvas before the deadline.\n",
    "</b></div>"
   ]
  }
 ],
 "metadata": {
  "kernelspec": {
   "display_name": "Python 3",
   "language": "python",
   "name": "python3"
  },
  "language_info": {
   "codemirror_mode": {
    "name": "ipython",
    "version": 3
   },
   "file_extension": ".py",
   "mimetype": "text/x-python",
   "name": "python",
   "nbconvert_exporter": "python",
   "pygments_lexer": "ipython3",
   "version": "3.8.3"
  }
 },
 "nbformat": 4,
 "nbformat_minor": 2
}
