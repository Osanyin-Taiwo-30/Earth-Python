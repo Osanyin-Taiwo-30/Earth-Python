{
 "cells": [
  {
   "cell_type": "markdown",
   "metadata": {},
   "source": [
    "## Assignment 4"
   ]
  },
  {
   "cell_type": "markdown",
   "metadata": {},
   "source": [
    "Create a new notebook with the name format: Lastname_Inital_HomeworkNumber.  For example, **Cych_B_HW_4**\n",
    "\n",
    "Create a markdown block in which you will describe what the notebook does. \n",
    "\n",
    "### 1. Python usage: `lambda` & `list` comprehension\n",
    "- Write a **lambda function** that returns the square of an input parameter $x$\n",
    "    - Use **map( )** to generate a list of squares for a sequence with 10 values\n",
    "    - Use **filter( )** and the lambda function to generate a list of numbers whose squares  are between 5 and 50.\n",
    "    -  Use a **list comprehension** to generate the same list with only one line of code.\n",
    "\n",
    "\n",
    "### 2. Python usage: `class`\n",
    "- Create a **Class**, it should include at least 3 **attributes** and 3 **methods**. Be creative! Here are a few possibilities- Card, Deck, Planet, Phone Contact, Ocean, Student, Cellphone, Dog, Car\n",
    "    - Save your class in a **module**, import the module into your notebook\n",
    "    - Create 3 **instances** of your class, change the value of at least one attribute for one instance of your class \n",
    "    - Call all three of your methods-  you can use any of the instances of your class\n",
    "    \n",
    "### 3. Pandas data processing\n",
    "- Read in the ActiveVolcanoes.xlsx and GVP_Volcano_List_Holocene.xls files.\n",
    "    - Merge the two on the name of the volcano.  \n",
    "    - Delete all the rows with no Max VEI field.  (VEI stands for volcanic explosive index.)\n",
    "    - Group by tectonic setting and describe by the 'Max VEI' field. Which volcanic setting has the largest explosive index? \n",
    "\n"
   ]
  }
 ],
 "metadata": {
  "kernelspec": {
   "display_name": "Python 3",
   "language": "python",
   "name": "python3"
  },
  "language_info": {
   "codemirror_mode": {
    "name": "ipython",
    "version": 3
   },
   "file_extension": ".py",
   "mimetype": "text/x-python",
   "name": "python",
   "nbconvert_exporter": "python",
   "pygments_lexer": "ipython3",
   "version": "3.8.3"
  }
 },
 "nbformat": 4,
 "nbformat_minor": 2
}
