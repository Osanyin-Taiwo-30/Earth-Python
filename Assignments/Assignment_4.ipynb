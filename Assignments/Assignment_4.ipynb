{
 "cells": [
  {
   "cell_type": "markdown",
   "metadata": {},
   "source": [
    "# SIO113: Assignment #4\n",
    "\n",
    "#### Instructor: Dave May (dmay@ucsd.edu)\n",
    "\n",
    "#### Assistant: Brendan Cych (bcych@ucsd.edu)\n",
    "\n",
    "#### Scripps Institution of Oceanography, UCSD, Spring 2021\n",
    "\n",
    "----"
   ]
  },
  {
   "cell_type": "markdown",
   "metadata": {},
   "source": [
    "<div class=\"alert alert-block alert-info\"><b>Preliminary:</b>\n",
    "Create a new notebook and rename it using the format YourLastname_FirstInitial_HW_04. For example, <b>Cych_B_HW_04</b>\n",
    "</div>"
   ]
  },
  {
   "cell_type": "markdown",
   "metadata": {},
   "source": [
    "Create a Markdown block in which you will describe what the notebook does. "
   ]
  },
  {
   "cell_type": "markdown",
   "metadata": {},
   "source": [
    "### 1. Python usage: `lambda` & `list`, `dict` comprehension\n",
    "- Write a `lambda` function that returns the square of an input parameter `x`.\n",
    "    - Use **map( )** to generate a list of squares for a sequence with 10 values.\n",
    "    - Use **filter( )** and the lambda function to generate a list of numbers whose squares  are between 5 and 50.\n",
    "    -  Use a **list comprehension** to generate the same list with only one line of code.\n",
    "\n",
    "\n",
    "### 2. Python usage: `class`\n",
    "- Define your own python `class`. Your `class` definition must include at least 3 **attributes** and 3 **methods**. Be creative! Here are a few possibilities: Card, Deck, Planet, Phone Contact, Ocean, Student, Cellphone, Dog, Car.\n",
    "    - Save your class in a `module`, import the module into your notebook.\n",
    "    - Create 3 **instances** of your class, change the value of at least one attribute for one instance of your class.\n",
    "    - Call all three of your methods - you can use any one of the three class instances.\n",
    "    \n",
    "### 3. Pandas data processing\n",
    "- Read in the `ActiveVolcanoes.xlsx` and `GVP_Volcano_List_Holocene.xls` files into a Pandas `DataFrame`.\n",
    "    - Merge the two on the name of the volcano.  \n",
    "    - Delete all the rows with no \"Max VEI\" field. VEI is short for Volcanic Explosive Index.\n",
    "    - Group by tectonic setting and describe by the \"Max VEI\" field. Which volcanic setting has the largest explosive index? \n",
    "\n"
   ]
  },
  {
   "cell_type": "markdown",
   "metadata": {},
   "source": [
    "<div class=\"alert alert-block alert-danger\"><b> \n",
    "To receive full credit, your notebook:\n",
    "    \n",
    "1. Must have the correct name;\n",
    "2. Must be fully commented;\n",
    "3. Must run as expected;\n",
    "4. Must be submitted into Canvas before the deadline.\n",
    "</b></div>"
   ]
  }
 ],
 "metadata": {
  "kernelspec": {
   "display_name": "Python 3",
   "language": "python",
   "name": "python3"
  },
  "language_info": {
   "codemirror_mode": {
    "name": "ipython",
    "version": 3
   },
   "file_extension": ".py",
   "mimetype": "text/x-python",
   "name": "python",
   "nbconvert_exporter": "python",
   "pygments_lexer": "ipython3",
   "version": "3.8.3"
  }
 },
 "nbformat": 4,
 "nbformat_minor": 2
}
