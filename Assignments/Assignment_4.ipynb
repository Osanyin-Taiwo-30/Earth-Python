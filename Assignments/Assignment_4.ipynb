{
 "cells": [
  {
   "cell_type": "markdown",
   "metadata": {},
   "source": [
    "# SIO113: Assignment #4\n",
    "\n",
    "#### Instructor: Dave May (dmay@ucsd.edu)\n",
    "\n",
    "#### Assistant: Gabrielle Hobson (ghobson@ucsd.edu)\n",
    "\n",
    "#### Scripps Institution of Oceanography, UCSD, Spring 2022\n",
    "\n",
    "----"
   ]
  },
  {
   "cell_type": "markdown",
   "metadata": {},
   "source": [
    "<div class=\"alert alert-block alert-info\"><b>Preliminary:</b>\n",
    "Create a new notebook and rename it using the format YourLastname_FirstInitial_HW_04.\n",
    "</div>"
   ]
  },
  {
   "cell_type": "markdown",
   "metadata": {},
   "source": [
    "<div class=\"alert alert-block alert-warning\"><b>Note:</b>\n",
    "Please ensure that you create a Markdown cell at the beginning of your submission in which you describe what the notebook does. Please answer each question (and sub-questions) in seperate cells.\n",
    "</div>"
   ]
  },
  {
   "cell_type": "markdown",
   "metadata": {},
   "source": [
    "## Python language features"
   ]
  },
  {
   "cell_type": "markdown",
   "metadata": {},
   "source": [
    "**Part 1. `lambda` & `list`, `dict` comprehension**  \n",
    "1. Write a `lambda` function that returns the square of an input parameter `x`.  \n",
    "    - Apply the `lambda` function to each of the values in the following list:\n",
    "    ```python\n",
    "    x_vals = [ 3, 30, 7, 19, 1 ]\n",
    "    ```\n",
    "2. Use a **list comprehension** to generate the same result as above (e.g. the result of squaring each entry in `x_vals`) with only one line of code."
   ]
  },
  {
   "cell_type": "markdown",
   "metadata": {},
   "source": [
    "**Part 2. Write a Python `class`**  \n",
    "1. Define your own Python `class`. Your `class` definition must include at least 3 **attributes** and 3 **methods**. Be creative!  \n",
    "Here are a few possibilities / suggestions:\n",
    "  * Planet\n",
    "  * Phone contact\n",
    "  * Ocean\n",
    "  * Student\n",
    "  * Cellphone\n",
    "  * Car  \n",
    "2. Save your `class` definition into `.py` file so that it can be used as a module. \n",
    "3. `import` your module (defining your `class` from 2.1) into your notebook. Create 3 **instances** of your `class`, change the value of at least one attribute for one instance of your class.\n",
    "4. Call all three of your methods - you can use any one of the three class instances.\n",
    "5. Identify any methods for which an exception may occur. Modify these functions to halt the exection of Python if an exception occurs."
   ]
  },
  {
   "cell_type": "markdown",
   "metadata": {},
   "source": [
    "<div class=\"alert alert-block alert-warning\"><b>Note:</b>\n",
    "You must provide a docstring for the class, and all methods within the class.\n",
    "</div>"
   ]
  },
  {
   "cell_type": "markdown",
   "metadata": {},
   "source": [
    "## Data processing"
   ]
  },
  {
   "cell_type": "markdown",
   "metadata": {},
   "source": [
    "**Part 3. Data wrangling with pandas**"
   ]
  },
  {
   "cell_type": "markdown",
   "metadata": {},
   "source": [
    "1. Read in the files `Datasets/ActiveVolcanoes.xlsx` and `Datasets/GVP_Volcano_List_Holocene.xls` into a pandas `DataFrame`.\n",
    "2. Data manipulations\n",
    "  - Merge the two `DataFrame` objects on the name of the volcano.\n",
    "  - Delete all the rows with no \"Max VEI\" field. VEI is short for Volcanic Explosive Index.\n",
    "  - Group by tectonic setting and describe by the \"Max VEI\" field. Which volcanic setting has the largest explosive index? "
   ]
  },
  {
   "cell_type": "markdown",
   "metadata": {},
   "source": [
    "<div class=\"alert alert-block alert-danger\"><b> \n",
    "To receive full credit, your notebook:\n",
    "    \n",
    "1. Must have the correct name;\n",
    "2. Must be fully commented;\n",
    "3. Must run as expected;\n",
    "4. Must be submitted into Canvas before the deadline.\n",
    "</b></div>"
   ]
  }
 ],
 "metadata": {
  "kernelspec": {
   "display_name": "Python 3",
   "language": "python",
   "name": "python3"
  },
  "language_info": {
   "codemirror_mode": {
    "name": "ipython",
    "version": 3
   },
   "file_extension": ".py",
   "mimetype": "text/x-python",
   "name": "python",
   "nbconvert_exporter": "python",
   "pygments_lexer": "ipython3",
   "version": "3.8.3"
  }
 },
 "nbformat": 4,
 "nbformat_minor": 2
}
