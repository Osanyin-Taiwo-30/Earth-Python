{
 "cells": [
  {
   "cell_type": "markdown",
   "metadata": {},
   "source": [
    "##  Asignment 1"
   ]
  },
  {
   "cell_type": "markdown",
   "metadata": {
    "collapsed": true
   },
   "source": [
    "- Create a jupyter notebook.  \n",
    "- Rename the notebook (under File menu) with the format YourLastname_FirstInitial_HW_01.  For example, **Cych_B_HW_01**\n",
    "- Save the notebook (click on the disk icon in the menu bar)\n",
    "- Create a markdown block in which you will describe what the notebook does. \n",
    "- Make a code block that creates a list called _planets_\n",
    "    - append all the planets to the list.\n",
    "    - make a deep copy of your _planets_ list (with a different name). \n",
    "    - print the element at **index** 2 in your _planets_ list. \n",
    "    - set the element at **index** 2 in your copy to 'X'\n",
    "    - print the element at **index** 2 in both lists (_planets_ and your copy)\n",
    "    - append the element that you just changed   to the end of  your copy.\n",
    "    - use the help function to find out what the _built-in_ function **len()** does.\n",
    "- Make another code block that creates a list called, e.g., _numList_, using **range( )** that has 8 values starting with 1. \n",
    "    - print out your new list\n",
    "    - Create a **set** from each of the  three lists (_planets_, your copy of _planets_ and your new list of numbers.  \n",
    "    - Find the elements in common between the two planets lists _planets_ and your copy.  \n",
    "    - find the elements in common between _planets_ and your new numbers list. "
   ]
  },
  {
   "cell_type": "markdown",
   "metadata": {},
   "source": [
    "_Your notebook must have the correct name, be fully commented and run as expected to receive full credit._"
   ]
  }
 ],
 "metadata": {
  "kernelspec": {
   "display_name": "Python 3",
   "language": "python",
   "name": "python3"
  },
  "language_info": {
   "codemirror_mode": {
    "name": "ipython",
    "version": 3
   },
   "file_extension": ".py",
   "mimetype": "text/x-python",
   "name": "python",
   "nbconvert_exporter": "python",
   "pygments_lexer": "ipython3",
   "version": "3.8.3"
  }
 },
 "nbformat": 4,
 "nbformat_minor": 1
}
