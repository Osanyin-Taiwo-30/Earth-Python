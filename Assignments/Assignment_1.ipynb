{
 "cells": [
  {
   "cell_type": "markdown",
   "metadata": {},
   "source": [
    "# SIO113: Assignment #1\n",
    "\n",
    "#### Instructor: Dave May (dmay@ucsd.edu)\n",
    "\n",
    "#### Assistant: Brendan Cych (bcych@ucsd.edu)\n",
    "\n",
    "#### Scripps Institution of Oceanography, UCSD, Spring 2021\n",
    "\n",
    "----"
   ]
  },
  {
   "cell_type": "markdown",
   "metadata": {
    "collapsed": true
   },
   "source": [
    "- **Create** a new jupyter notebook (under File menu, select \"New Notebook\").  \n",
    "- **Rename** your notebook (under File menu, select \"Rename\") using the format YourLastname_FirstInitial_HW_01.  For example, **Cych_B_HW_01**.\n",
    "- Save the notebook (click on the disk icon in the menu bar).\n",
    "- Create a **markdown** block in which you will describe what the notebook does. \n",
    "- Make a **code** block that creates a `list` called `planets`.\n",
    "    - Append all the planets to the list.\n",
    "    - Make a deep copy of your `planets` list (with a different name). \n",
    "    - Print the element at **index** 2 in your `planets` list. \n",
    "    - Set the element at **index** 2 in your copy to the value `'X'`.\n",
    "    - Print the element at **index** 2 in both lists (`planets` and your copy).\n",
    "    - Append the element that you just changed   to the end of  your copy.\n",
    "    - Use the `help()` function to find out what the _built-in_ function `len()` does.\n",
    "- Make another code block that creates a list called, e.g., `numList`, using `range()` that has 8 values starting with 1. \n",
    "    - Print out your new list.\n",
    "    - Create a **set** from each of the  three lists (`planets`, your copy of `planets` and your new list of numbers.  \n",
    "    - Find the elements in common between the two planets lists `planets` and your copy.  \n",
    "    - Find the elements in common between `planets` and your new numbers list. "
   ]
  },
  {
   "cell_type": "markdown",
   "metadata": {},
   "source": [
    "<div class=\"alert alert-block alert-danger\"><b> \n",
    "To receive full credit, your notebook:\n",
    "    \n",
    "1. Must have the correct name;\n",
    "2. Must be fully commented;\n",
    "3. Must run as expected;\n",
    "4. Must be submitted into Canvas before the deadline.\n",
    "</b></div>"
   ]
  }
 ],
 "metadata": {
  "kernelspec": {
   "display_name": "Python 3",
   "language": "python",
   "name": "python3"
  },
  "language_info": {
   "codemirror_mode": {
    "name": "ipython",
    "version": 3
   },
   "file_extension": ".py",
   "mimetype": "text/x-python",
   "name": "python",
   "nbconvert_exporter": "python",
   "pygments_lexer": "ipython3",
   "version": "3.8.3"
  }
 },
 "nbformat": 4,
 "nbformat_minor": 1
}
