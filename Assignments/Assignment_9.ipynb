{
 "cells": [
  {
   "cell_type": "markdown",
   "metadata": {},
   "source": [
    "# SIO 113: Assignment #9\n",
    "\n",
    "#### Instructor: Dave May (dmay@ucsd.edu)\n",
    "\n",
    "#### Assistant: Gabrielle Hobson (ghobson@ucsd.edu)\n",
    "\n",
    "#### Scripps Institution of Oceanography, UCSD.\n",
    "\n",
    "----"
   ]
  },
  {
   "cell_type": "markdown",
   "metadata": {},
   "source": [
    "<div class=\"alert alert-block alert-info\"><b>Preliminary:</b>\n",
    "Create a new notebook and rename it using the format YourLastname_FirstInitial_HW_09. \n",
    "</div>"
   ]
  },
  {
   "cell_type": "markdown",
   "metadata": {},
   "source": [
    "<div class=\"alert alert-block alert-warning\"><b>Note:</b>\n",
    "This assignment requires the following packages / modules / methods\n",
    "    \n",
    "`\n",
    "import numpy as np\n",
    "import matplotlib.pyplot as plt\n",
    "import netCDF4 as nc4\n",
    "import dem_utils as dem_utils\n",
    "from mpl_toolkits.mplot3d import Axes3D\n",
    "from scipy.ndimage import gaussian_filter\n",
    "`    \n",
    "</div>"
   ]
  },
  {
   "cell_type": "markdown",
   "metadata": {},
   "source": [
    "## 1. Plotting terrain contours\n",
    "1. Read in the data file `Datasets/topodata.csv` into a Pandas `DataFrame`. These are data from the etopo data that we have used on the California coastline.\n",
    "2. Use the `.unique()` method on the lats and lons `Series` and the `len()` function to find the number of unique latitudes and longitudes.\n",
    "3. Turn each of the columns into numpy arrays, and reshape them to be `(n_lats, n_lons)` where `n_lats` is the number of unique latitudes and `n_lons` is the number of unique longitudes. Note: They must be in this order or this will not work.\n",
    "4. Using cartopy, plot a lambert conformal map with central longitude -120 and central latitude 35. Use `ax.set_extent()` to set the axis extents to the minimum and maximum latitudes and longitudes in your `DataFrame`.\n",
    "5. Use `plt.contourf()` to plot your topography data on the map. Use the `transform` argument to plot your contours in the right place. Use the arguments `cmap='terrain'` and `levels=30` to make the map look nice (if you don't like the color scale, you can use the `vmin` and `vmax` arguments to change the maximum and minimum contour levels)."
   ]
  },
  {
   "cell_type": "markdown",
   "metadata": {},
   "source": [
    "## 2. 3D topographic plotting\n",
    "\n",
    "1. Following the lecture on digital elevation models, load the topography dataset of the Rocky's `Datasets/topo_co.nc` using NetCDF. The dataset differs from the lecture, but the procedure is the same.\n",
    "The variable named `'elevation'` read from the NetCDF file will need to \"reshaped\" using `np.reshape()` as per the lecture.\n",
    "2. Create a meshgrid object using `lon_1d`, `lat_1d` using `np.meshgrid()`.\n",
    "3. Using `from mpl_toolkits.mplot3d import Axes3D`, create a 3D interactive plot using *both*\n",
    "`ax.plot_surface()` and `ax.contour3D()` *in the same plot*. Make the surface transparent via the `alpha` argument and set its color to grey or black. Plot 20 evenly spaced contours from the range $z = [0, 3500]$ m. Color the contours using the color map created by `dem_utils.create_topo_cmap()`. Add a color bar to your plot, label the axis and include the units of all physical quantities.\n",
    "4. In part 3, it is likely the result is hard to interpret due to the high frequency variations of the topography. For the purpose of visualization, it is sometimes desirable to smooth the data a little - just for the sake of making a nicer picture. One way to do that is using Gaussian blurring. To apply Gaussian blur use the code snippet shown below. This code will process `z_2d` and return a blurred version `z_2d_b`. Re-do part 3 using `z_2d_b` and compare the results.\n",
    "\n",
    "```python\n",
    "# Apply Gaussian blur\n",
    "from scipy.ndimage import gaussian_filter\n",
    "\n",
    "z_2d_b = gaussian_filter(z_2d, sigma=4)\n",
    "```"
   ]
  },
  {
   "cell_type": "markdown",
   "metadata": {},
   "source": [
    "<div class=\"alert alert-block alert-danger\"><b> \n",
    "To receive full credit, your notebook:\n",
    "    \n",
    "1. Must have the correct name;\n",
    "2. Must be fully commented;\n",
    "3. Must run as expected;\n",
    "4. Must be submitted into Canvas before the deadline.\n",
    "</b></div>"
   ]
  }
 ],
 "metadata": {
  "kernelspec": {
   "display_name": "Python 3",
   "language": "python",
   "name": "python3"
  },
  "language_info": {
   "codemirror_mode": {
    "name": "ipython",
    "version": 3
   },
   "file_extension": ".py",
   "mimetype": "text/x-python",
   "name": "python",
   "nbconvert_exporter": "python",
   "pygments_lexer": "ipython3",
   "version": "3.8.3"
  }
 },
 "nbformat": 4,
 "nbformat_minor": 1
}
