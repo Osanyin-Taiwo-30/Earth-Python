{
 "cells": [
  {
   "cell_type": "markdown",
   "metadata": {},
   "source": [
    "# Assignment 9\n",
    "\n",
    "\n",
    "### 1.  KMeans\n",
    "- read in the data set _Datasets/Forams/Forams.txt_ into a Pandas DataFrame (remembering that the Datasets directory may be 'above' the current working directory of this notebook.  \n",
    "- Make a seaborn **pairplot** of the columns \\['Ø [mm]','Perc [%]', 'Growth [%]'\\] using the Species to determine **hue**.  \n",
    "- Make a 3D plot and color the dots by species.\n",
    "- Use the Scikitlearn KMeans algorithm on your data to find clusters\n",
    "- make another pairplot using the clusters to determine color.   Did the algorithm work? How did it compare with the original species designations? \n",
    "\n",
    "\n",
    "### 2. Principal Components\n",
    "- Read the dataset 'Datasets/woadata.csv' into a pandas DataFrame.\n",
    "- This is a dataset containing normalized temperature, salinity, oxygen and nutrient data adapted from the NOAA World Ocean Atlas 2013 Vol 2 https://www.nodc.noaa.gov/OC5/woa13/\n",
    "- Make an array containing all the data excluding the latitude, longitude and elevation columns. Check that the shape is (2925,6)\n",
    "- Perform a PCA in 1 dimension on your array. To do this you will need to import PCA from **scikit-learn**, **fit** your pca to the data and then **transform** your data using the PCA.\n",
    "- Make a 3D scatter plot of latitudes, longitudes and elevations. Use the output of your PCA for the colors of the points.\n",
    "- Label the axes.\n",
    "\n",
    "### 2. 3-D plots\n",
    "- Make another figure and plot the ocean data again. Now import the dataset from 'Datasets/topodata.csv' these are topography data for the california margin. \n",
    "- Use **plot_surface** to plot latitudes,longitudes and elevation on the same axes. Hint: You will need to reshape the elevation data with **np.reshape()** and use **np.meshgrid( )** on the longitudes and latitudes.   Color the surface grey.\n",
    "\n"
   ]
  }
 ],
 "metadata": {
  "kernelspec": {
   "display_name": "Python 3",
   "language": "python",
   "name": "python3"
  },
  "language_info": {
   "codemirror_mode": {
    "name": "ipython",
    "version": 3
   },
   "file_extension": ".py",
   "mimetype": "text/x-python",
   "name": "python",
   "nbconvert_exporter": "python",
   "pygments_lexer": "ipython3",
   "version": "3.8.3"
  }
 },
 "nbformat": 4,
 "nbformat_minor": 1
}
