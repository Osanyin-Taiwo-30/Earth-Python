{
 "cells": [
  {
   "cell_type": "markdown",
   "metadata": {},
   "source": [
    "# SIO113: Assignment #9\n",
    "\n",
    "#### Instructor: Dave May (dmay@ucsd.edu)\n",
    "\n",
    "#### Assistant: Gabrielle Hobson (ghobson@ucsd.edu)\n",
    "\n",
    "#### Scripps Institution of Oceanography, UCSD, Spring 2022\n",
    "\n",
    "----"
   ]
  },
  {
   "cell_type": "markdown",
   "metadata": {},
   "source": [
    "<div class=\"alert alert-block alert-info\"><b>Preliminary:</b>\n",
    "Create a new notebook and rename it using the format YourLastname_FirstInitial_HW_09. \n",
    "</div>"
   ]
  },
  {
   "cell_type": "markdown",
   "metadata": {},
   "source": [
    "<div class=\"alert alert-block alert-warning\"><b>Note:</b>\n",
    "This assignment requires the following packages / modules / methods\n",
    "    \n",
    "`\n",
    "import numpy as np\n",
    "import matplotlib.pyplot as plt\n",
    "import netCDF4 as nc4\n",
    "import dem_utils as dem_utils\n",
    "from mpl_toolkits.mplot3d import Axes3D\n",
    "from scipy.ndimage import gaussian_filter\n",
    "`    \n",
    "</div>"
   ]
  },
  {
   "cell_type": "markdown",
   "metadata": {},
   "source": [
    "### 1. 3D topographic plotting\n",
    "\n",
    "1. Following the lecture on digital elevation models, load the topography dataset of the Rocky's `../Datasets/topo_co.nc` using NetCDF. The dataset differs from the lecture, but the procedure is the same.\n",
    "The variable named `'elevation'` read from the NetCDF file will need to \"reshaped\" using `np.reshape()` as per the lecture.\n",
    "2. Create a meshgrid object using `lon_1d`, `lat_1d` using `np.meshgrid()`.\n",
    "3. Using `from mpl_toolkits.mplot3d import Axes3D`, create a 3D interactive plot using *both*\n",
    "`ax.plot_surface()` and `ax.contour3D()` *in the same plot*. Make the surface transparent via the `alpha` argument and set its color to grey or black. Plot 20 evenly spaced contours from the range $z = [0, 3500]$ m. Color the contours using the color map created by `dem_utils.create_topo_cmap()`. Add a color bar to your plot, label the axis and include the units of all physical quantities.\n",
    "4. In part 3, it is likely the result is hard to interpret due to the high frequency variations of the topography. For the purpose of visualization, it is sometimes desirable to smooth the data a little - just for the sake of making a nicer picture. One way to do that is using Gaussian blurring. To apply Gaussian blur use the code snippet shown below. This code will process `z_2d` and return a blurred version `z_2d_b`. Re-do part 3 using `z_2d_b` and compare the results.\n",
    "\n",
    "```python\n",
    "# Apply Gaussian blur\n",
    "from scipy.ndimage import gaussian_filter\n",
    "\n",
    "z_2d_b = gaussian_filter(z_2d, sigma=4)\n",
    "```"
   ]
  },
  {
   "cell_type": "markdown",
   "metadata": {},
   "source": [
    "### 2. Hillslope diffusion applied to Sierra Nevada\n",
    "\n",
    "The Sierra Nevada is actively uplifting by 1-2 mm/yr.\n",
    "We wish to use following *simplified* landscape evolution model which only includes hillslope erosion\n",
    "to simulate the topography over time:\n",
    "\n",
    "$$\n",
    "\\frac{\\partial H}{\\partial t} = \\kappa \\nabla^2 H + U,\n",
    "$$\n",
    "\n",
    "where $U$ is the uplift velocity (here assumed to be constant throughout the model).\n",
    "This is the exact same equation as used in the lecture, excepted we have dropped the fluvial erosion term and assumed $\\kappa$ is a constant (in space and time).\n",
    "\n",
    "Whilst we know the uplift $U$ is approximately 1-2 mm/yr, the diffusion constant $\\kappa$ is poorly constrained.\n",
    "It has been suggested that the Sierra Nevada formed in less than 3 million years.\n",
    "In the context of our simple landscape evolution model, we wish to use the uplift and age\n",
    "to try and determine possible values of $\\kappa$ which lead to a topograhic expressions\n",
    "that are similar to the present day Sierra Nevada.\n",
    "\n",
    "\n",
    "For each of the subsequent parts of this question, you should use the code block below containing the comment at the top  \n",
    "```python\n",
    "# --- [CODE BLOCK] \"Python code to define and run the LEM\" --- #\n",
    "```"
   ]
  },
  {
   "cell_type": "code",
   "execution_count": null,
   "metadata": {},
   "outputs": [],
   "source": [
    "# --- [CODE BLOCK] \"Python code to define and run the LEM\" --- #\n",
    "\n",
    "# ---- INPUT PARAMETERS TO VARY ---- #\n",
    "#U = INSERT VALUE AND UNCOMMENT LINE      # Units: (m / yr)\n",
    "#\n",
    "#kappa = INSERT VALUE AND UNCOMMENT LINE  # Units: (m^2 / yr)\n",
    "# ---------------------------------- #\n",
    "\n",
    "# Stop the simulation when time exceeds max_time_myr.\n",
    "max_time_myr = 400.0 # (Myr)\n",
    "\n",
    "# Define the size of the domain.\n",
    "Lx, Ly = 600.0e3, 300.0e3 # (m)\n",
    "\n",
    "nx, ny = 40, 20 # Number of cells in x, y.\n",
    "\n",
    "dx, dy = Lx / float(nx), Ly / float(ny) # Size of each FD cell.\n",
    "\n",
    "# 1D coordinate arrays for x and y\n",
    "x_1d, y_1d = np.linspace(0.5 * dx, Lx - 0.5 * dx, nx), np.linspace(0.5 * dy, Ly - 0.5 * dy, ny)\n",
    "\n",
    "# Define an initial condition for H.\n",
    "np.random.seed(0)\n",
    "delta_H = 1.0\n",
    "H_ic = delta_H * np.random.random((nx, ny))\n",
    "\n",
    "kappa_2d, source_2d, uplift_2d = np.zeros((nx, ny)), np.zeros((nx, ny)), np.zeros((nx, ny))\n",
    "\n",
    "# Define the uplift function.\n",
    "for j in range(ny):\n",
    "    for i in range(nx):\n",
    "        eax, eay = 0.5, 0.3 # Parameters for the ellipse size\n",
    "        norm_x, norm_y = x_1d[i] / Lx, y_1d[j] / Ly # Normalize coordinates\n",
    "        radius = np.sqrt( ((norm_x - 0.5)/eax)**2 + ((norm_y - 0.5)/eay)**2 )\n",
    "        uplift_2d[i, j] = U * 0.5 * (np.arctan(-120.0 * (radius - 0.5))/(0.5 * np.pi) + 1.0)\n",
    "\n",
    "        \n",
    "# Insert [CODE BLOCK] \"Python code to view the initial condition\" \n",
    "# if want to see what the initial condition looks like.\n",
    "        \n",
    "# -------------------------------------\n",
    "# Time loop\n",
    "# -------------------------------------\n",
    "tk, time = 0, 0.0\n",
    "H_2d = np.copy(H_ic)\n",
    "\n",
    "for tk in range(1, 1000000):\n",
    "    H_old = np.copy(H_2d)\n",
    "\n",
    "    kappa_2d[:,:] = kappa    \n",
    "    source_2d[:,:] = uplift_2d\n",
    "\n",
    "    dt, H_new = dem_utils.diffusion_equation_perform_one_step(\n",
    "                                dx, dy, kappa_2d, H_old,\n",
    "                                source=source_2d,  # Provide a non-zero source\n",
    "                                dbc_bottom=True, dbc_top=True, dbc_left=True, dbc_right=True, dt_max=2000)\n",
    "    \n",
    "    H_2d = np.copy(H_new)    \n",
    "    \n",
    "    time += dt\n",
    "    time_kyr = time * 1.0e-3\n",
    "    \n",
    "    # Report info about simulation progress\n",
    "    if tk % 200 == 0: \n",
    "        print('  computed step', tk, 'time', ('%1.2e'%time_kyr), '(kyr)') \n",
    "        \n",
    "    # Abort time loop as simulation makes no sense\n",
    "    if time * 1.0e-6 > max_time_myr:\n",
    "        print('==> Simulation reached max time ' + str(max_time_myr) + ' Myr - stop!')\n",
    "        break"
   ]
  },
  {
   "cell_type": "markdown",
   "metadata": {},
   "source": [
    "If you are curious what the intiial condition looks like, you can view it using the code block below"
   ]
  },
  {
   "cell_type": "code",
   "execution_count": null,
   "metadata": {},
   "outputs": [],
   "source": [
    "# --- [CODE BLOCK] \"Python code to view the initial condition\" --- #\n",
    "\n",
    "# Create a subplot with 2 figures showing the initial condition for H\n",
    "# and the imposed uplift.\n",
    "fig, (ax1, ax2) = plt.subplots(1, 2, figsize=(12, 4), constrained_layout=True)\n",
    "\n",
    "im1 = ax1.imshow(H_ic.T, origin='lower', extent=(0, Lx, 0, Ly), cmap=plt.cm.RdYlGn_r)\n",
    "fig.colorbar(im1, ax=ax1);\n",
    "ax1.set(xlabel='$x$ (m)', ylabel='$y$ (m)', title='$H$ (m)')\n",
    "\n",
    "im3 = ax2.imshow(uplift_2d.T, origin='lower', extent=(0, Lx, 0, Ly), cmap='binary')\n",
    "fig.colorbar(im3, ax=ax2);\n",
    "ax2.set(xlabel='$x$ (m)', ylabel='$y$ (m)', title='$U$ (m/yr)')\n",
    "ax2.set(yticks=[])\n",
    "# ------------------------------------------------------------ #"
   ]
  },
  {
   "cell_type": "markdown",
   "metadata": {},
   "source": [
    "----"
   ]
  },
  {
   "cell_type": "markdown",
   "metadata": {},
   "source": [
    "### Part 1. \n",
    "\n",
    "Modify the code provided to do the following:\n",
    "1. Within the time loop, compute the maximum topography. Store the result in a variable called `max_topo`. The topography is stored in the variable called `H_2d` and the units of elevation stored in `H_2d` is meters.\n",
    "2. Within the `if` statement shown below\n",
    "```python\n",
    "# Report info about simulation progress\n",
    "if tk % 200 == 0: \n",
    "    print('  computed step', tk, 'time', ('%1.2e'%time_kyr), '(kyr)') \n",
    "```\n",
    "print out the value of `max_topo` so that you can monitor the maximum topography during the simulation.\n",
    "3. Store the time (`time_kyr`) and the maximum topography (`max_topo`) at each time step.\n",
    "4. Abort the time loop (using `break`) if the maximum topography exceeds 10 km.\n",
    "5. After the time loop has finished, create a plot showing the maximum topography (y-axis) over time (x-axis). Time should be reported in kyr, elevation should be shown in meters. Label all axis, and provide units. Add a title to the plot. Include in the plot title, the value of $\\kappa$ and $U$ being used."
   ]
  },
  {
   "cell_type": "markdown",
   "metadata": {},
   "source": [
    "### Part 2.\n",
    "\n",
    "Using an uplift of $U$ = 2 mm/yr, find a value of $\\kappa$ which at steady-state, \n",
    "produces a maximum topography of approximately 4000 m. \n",
    "Report the time required to reach steady-state in millions of years.\n",
    "Given the suggestion that the Sierra Nevada formed in 3 million years, does our simple model indicate that the landscape is presently in a steady-state?\n",
    "\n",
    "1. You should consider values of $\\kappa$ in the range of $10^{-1}$ m$^2$/yr to $10^5$ m$^2$/yr.\n",
    "2. A maximum topography in the range of 3800 m - 4200 m will be considered acceptably close. \n",
    "3. You can eye-ball the time where the topography reaches steady-state from your plot of max. topography vs time. You many need to adjust the x, y ranges on your plot to estimate the time.\n",
    "\n",
    "**Comments:**  \n",
    "- You should copy the code from part 1 and use it again here. \n",
    "- Modify the parameters `kappa` and `U` accordingly. The units of `kappa` used in the code are m$^2$/yr and the units of `U` used are m/yr.\n",
    "- If you notice `max_topo` has stagnated at a value far below 4 km, you should stop the simulation and try a different value of $\\kappa$.\n",
    "- Please provide the plot of max. topo. vs time with your answer. "
   ]
  },
  {
   "cell_type": "markdown",
   "metadata": {},
   "source": [
    "### Part 3. \n",
    "\n",
    "Using a value of $U$ = 2 mm/yr, determine a value of $\\kappa$ which produces approximately 4 km of topography in 3 million years. \n",
    "1. Is the $\\kappa$ you obtained smaller or larger than the kappa computed in part 2? What is the ratio of the two diffusivities found?\n",
    "2. On your plot of max. topography vs time, add a new line showing the maximum topography which would occur if $\\kappa = 0$, i.e. compute the solution to $\\partial H / \\partial t = U$ using $H_0(\\mathbf x) = 0$. Label the curve obtained from ploting the simulation data as `'LEM'` and the other line as `'zero diffusion'`.\n",
    "3. The slope of these curves is called the \"erosion rate\". At 3 Myr, is the \"erosion rate\" of the simulation (curve labelled `'LEM'`) higher or lower than the \"erosion rate\" of the `'zero diffusion'` curve? Provide an explanation for the difference between the erosion rate of `'LEM'` compared to `'zero diffusion'`.\n",
    "\n",
    "**Comments:**\n",
    "- You should copy the code from part 1 and use it again here. \n",
    "- Modify the parameters `kappa` and `U` accordingly.\n",
    "- You may wish to modify the value of `max_time_myr` to a value slightly larger than 3 million years."
   ]
  },
  {
   "cell_type": "markdown",
   "metadata": {},
   "source": [
    "<div class=\"alert alert-block alert-danger\"><b> \n",
    "To receive full credit, your notebook:\n",
    "    \n",
    "1. Must have the correct name;\n",
    "2. Must be fully commented;\n",
    "3. Must run as expected;\n",
    "4. Must be submitted into Canvas before the deadline.\n",
    "</b></div>"
   ]
  }
 ],
 "metadata": {
  "kernelspec": {
   "display_name": "Python 3",
   "language": "python",
   "name": "python3"
  },
  "language_info": {
   "codemirror_mode": {
    "name": "ipython",
    "version": 3
   },
   "file_extension": ".py",
   "mimetype": "text/x-python",
   "name": "python",
   "nbconvert_exporter": "python",
   "pygments_lexer": "ipython3",
   "version": "3.8.3"
  }
 },
 "nbformat": 4,
 "nbformat_minor": 1
}
