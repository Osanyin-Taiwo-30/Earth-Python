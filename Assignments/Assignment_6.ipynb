{
 "cells": [
  {
   "cell_type": "markdown",
   "metadata": {},
   "source": [
    "# SIO113: Assignment #6\n",
    "\n",
    "#### Instructor: Dave May (dmay@ucsd.edu)\n",
    "\n",
    "#### Assistant: Brendan Cych (bcych@ucsd.edu)\n",
    "\n",
    "#### Scripps Institution of Oceanography, UCSD, Spring 2021\n",
    "\n",
    "----"
   ]
  },
  {
   "cell_type": "markdown",
   "metadata": {},
   "source": [
    "<div class=\"alert alert-block alert-info\"><b>Preliminary:</b>\n",
    "Create a new notebook and rename it using the format YourLastname_FirstInitial_HW_06. \n",
    "For example, <b>Cych_B_HW_06</b>\n",
    "</div>"
   ]
  },
  {
   "cell_type": "markdown",
   "metadata": {},
   "source": [
    "<div class=\"alert alert-block alert-warning\"><b>Note:</b>\n",
    "In the following it is assumed that you imported the NumPy and Matplotlib modules into the following namespaces\n",
    "    \n",
    "`\n",
    "import numpy as np\n",
    "import matplotlib.pyplot as plt\n",
    "`    \n",
    "</div>"
   ]
  },
  {
   "cell_type": "markdown",
   "metadata": {},
   "source": [
    "### 1. Polynomial fits\n",
    "\n",
    "Certain isotopes are unstable and decay through _radioactive decay_.  The formula for radioactive decay is:\n",
    "\n",
    "$N= N_o \\exp^{-\\lambda T}$,\n",
    "\n",
    "where\n",
    "\n",
    "  $\\lambda$ is the decay constant (the time for $N$ to decay to $1/\\exp$ of the original value,\n",
    "\n",
    "  $T$ is time,\n",
    "\n",
    "  $N$ is the number of nuclei remaining after time $T$ and\n",
    "\n",
    "  $N_o$ is the original number or parent nuclei.\n",
    "\n",
    "The _half-life_ ($t_{1/2}$) is the time for $N$ to decay to $N_o$/2. The formula is:\n",
    "\n",
    "$t_{1/2} = \\frac {ln 2}{\\lambda}$\n",
    "\n",
    "1. Write a `lambda` function to calculate radioactive decay. The decay constant, time, and initial parent should be supplied as parameters.  \n",
    "2. The half-life of radiocarbon is 5,730 yrs. Calculate the decay constant of radiocarbon. \n",
    "3. Assume that the the initial parent, $N_o$, is 1, and time ranges from 0 to 7 half-lives. Use your function to calculate radioactive decay for radiocarbon.\n",
    "4. Plot a curve of $N$ versus $T$.\n",
    "5. Calculate the best-fit polynomial to your curve.  Use both `np.polyfit()` and the scikit-klearn way (e.g. what we called Ridge fit in lecture 16).  Try different degrees for you polynomial, 3 and 13. \n",
    "6. Draw a red vertical line at the half-life of radiocarbon and a red horizontal line at 0.5.   \n",
    "\n",
    "    \n",
    "###  2. 2-D histograms,  contour plots and maps\n",
    "1. Read the data file `Datasets/WUS_navdat.txt` into a pandas `DataFrame`.\n",
    "2. Find all the igneous units with ages less than 6 Ma (Plio-Pleistosene).\n",
    "3. Make a 2-D histogram of volcano locations in the Seattle area.\n",
    "    1. Filter the data to be between 40 and 50 degrees latitude and -124 and -110 longitude.\n",
    "    2. Make NumPy arrays for the latitude and longitude values.\n",
    "    3. Make a matplotlib figure (`plt.figure()`) with height and width both equal to 10.\n",
    "    4. A heatmap is really a 2-D histogram in color and there is a handy function in matplotlib that makes a  plot called `plt.hist2d()`.  Read the help message for that function.\n",
    "    5. Call `plt.hist2d()` with  your longitude, latitude arrays as x and y and 25 bins.\n",
    "    6. Label your x and y axes \"Longitude\" and \"Latitude\" respectively. \n",
    "    7. Make a big red star (`markersize = 25`) at the location of Seattle (47.61N,122.33W).  \n",
    "    8. Give your plot the title \"Volcano density near Seattle\". \n",
    "4. Use `geoplot` to make a contour map for only the volcanoes near Seattle, in the same way that we did in Lecture 18. Plot a red star at the location of Seattle.\n",
    "\n",
    "\n",
    "### 3. Maps\n",
    "\n",
    "People have been running observatories that measure the geomagnetic field since the mid-1800s and the US Geological Survey maintains a number of them throughout the US and US territories. The locations of the US array are available at this [website](https://www.usgs.gov/natural-hazards/geomagnetism/science/observatories?qt-science_center_objects=0#qt-science_center_objects).\n",
    "\n",
    "The file that you can download from the USGS website above is a `.kmz` file suitable for importing into Google Earth. We have translated the locations of the observatories into a `.csv` file for you that can be directly loaded into a pandas `DataFrame`.  \n",
    "1. Read the data file `Datasets/geomagnetic_observatories.csv` into a pandas `DataFrame`.\n",
    "2. Make a $10 \\times 10$ figure object.\n",
    "3. Make an orthographic projection that shows all the locations of the observatories as red circles.\n",
    "4. Put on the gridlines as in the lecture. \n",
    "5. Label the points with the code of the observatory name (taken from Series labelled `Code`). Place the text such that it appears above and to the right of each of the dots."
   ]
  },
  {
   "cell_type": "markdown",
   "metadata": {},
   "source": [
    "If you have trouble - contact the TA or the instructor - we are here to help!  "
   ]
  },
  {
   "cell_type": "markdown",
   "metadata": {},
   "source": [
    "<div class=\"alert alert-block alert-danger\"><b> \n",
    "To receive full credit, your notebook:\n",
    "    \n",
    "1. Must have the correct name;\n",
    "2. Must be fully commented;\n",
    "3. Must run as expected;\n",
    "4. Must be submitted into Canvas before the deadline.\n",
    "</b></div>"
   ]
  }
 ],
 "metadata": {
  "kernelspec": {
   "display_name": "Python 3",
   "language": "python",
   "name": "python3"
  },
  "language_info": {
   "codemirror_mode": {
    "name": "ipython",
    "version": 3
   },
   "file_extension": ".py",
   "mimetype": "text/x-python",
   "name": "python",
   "nbconvert_exporter": "python",
   "pygments_lexer": "ipython3",
   "version": "3.8.3"
  }
 },
 "nbformat": 4,
 "nbformat_minor": 1
}
