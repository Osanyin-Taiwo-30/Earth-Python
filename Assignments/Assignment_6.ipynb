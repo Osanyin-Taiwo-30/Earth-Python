{
 "cells": [
  {
   "cell_type": "markdown",
   "metadata": {},
   "source": [
    "# SIO113: Assignment #6\n",
    "\n",
    "#### Instructor: Dave May (dmay@ucsd.edu)\n",
    "\n",
    "#### Assistant: Brendan Cych (bcych@ucsd.edu)\n",
    "\n",
    "#### Scripps Institution of Oceanography, UCSD, Spring 2021\n",
    "\n",
    "----"
   ]
  },
  {
   "cell_type": "markdown",
   "metadata": {},
   "source": [
    "<div class=\"alert alert-block alert-info\"><b>Preliminary:</b>\n",
    "Create a new notebook and rename it using the format YourLastname_FirstInitial_HW_06. \n",
    "For example, <b>Cych_B_HW_06</b>\n",
    "</div>"
   ]
  },
  {
   "cell_type": "markdown",
   "metadata": {},
   "source": [
    "### 1. Polynomial fits\n",
    "\n",
    "Certain isotopes are unstable and decay through _radioactive decay_.  The formula for radioactive decay is:\n",
    "\n",
    "$N= N_o \\exp^{-\\lambda T}$\n",
    "\n",
    "  $\\lambda$ is the decay constant (the time for $N$ to decay to $1/\\exp$ of the original value\n",
    "\n",
    "  $T$ is time\n",
    "\n",
    "  $N$ is the number of nuclei remaining after time $T$ \n",
    "\n",
    "  $N_o$ is the original number or parent nuclei\n",
    "\n",
    "The _half-life_ ($t_{1/2}$) is the time for $N$ to decay to $N_o$/2. The formula is:\n",
    "\n",
    "$t_{1/2} = \\frac {ln 2}{\\lambda}$\n",
    "\n",
    "- Write a lambda function to calculate radioactive decay. The decay constant, time, and initial parent should be supplied as parameters.  \n",
    "- The half-life of radiocarbon is 5,730 yrs. Calculate the decay constant of radiocarbon \n",
    "- Assume that the the initial parent, $N_o$, is 1, and time ranges from 0 to 7 half-lives. Use your function to calculate radioactive decay for radiocarbon\n",
    "- Plot a curve of $N$ versus $T$  \n",
    "- Calculate the best-fit polynomial to your curve.  Use both **np.polyfit( )** and the **sklearn** way.  Try different degrees for you polynomial, 3 and 13. \n",
    "- Draw a red vertical line at the half-life of radiocarbon and a red horizontal line at .5.   \n",
    "\n",
    "    \n",
    "###  2. 2D Histograms,  contour plots and maps\n",
    "- Read the data file \"Datasets/WUS_navdat.txt\" into a pandas DataFrame\n",
    "- Find all the igneous units with ages less than 6 Ma (Plio-Pleistosene).\n",
    "- Make a 2-D histogram of volcano locations in the Seattle area\n",
    "    - Filter the data to be between 40 and 50 degrees latitude and -124 and -110 longitude\n",
    "    - make **NumPy** arrays for the latitude and longitude values\n",
    "    - make a matplotlib figure (plt.figure()) with height and width both 10\n",
    "    - a heat map is really a 2d histogram in color and there is a handy function in **matplotlib** that makes a  plot called plt.hist2d().  Look at the help message for that function.\n",
    "    - call **plt.hist2d()** with  your longitude, latitude arrays as x and y and 25 bins.\n",
    "    - label your x and y axes Longitude and Latitude respectively. \n",
    "    - make a big red star (markersize=25) at the location of Seattle (47.61N,122.33W).  \n",
    "    - give your plot the title \"Volcano density near Seattle\" \n",
    "- Use geoplot to make a contour map for only the volcanoes near Seattle, in the same way that we did in Lecture 18. Plot a red star at the location of Seattle.\n",
    "\n",
    "\n",
    "### 3. Maps\n",
    "\n",
    "People have been running observatories that measure the geomagnetic field since the mid-1800s and the  US Geological Survey maintains a number of them throughout the US and US territories.  The locations of the US array are available at this website: https://www.usgs.gov/natural-hazards/geomagnetism/science/observatories?qt-science_center_objects=0#qt-science_center_objects.  The file that you download is a .kmz file suitable for importing into Google Earth, but we have translated the locations to a .csv file that can be loaded into a Pandas DataFrame.  \n",
    "- Read the data file \"Datasets/geomagnetic_observatories.csv\" into a pandas DataFrame\n",
    "- Make a 10x10 figure object.\n",
    "- Make an orthographic projection that shows all the locations of the observatories as red circles.\n",
    "- Put on the gridlines as in the lecture. \n",
    "- Label the points with the code of the observatory name. Make the text be on top and to the right of the dots."
   ]
  },
  {
   "cell_type": "markdown",
   "metadata": {},
   "source": [
    "If you have trouble - contact the TA or the instructor - we are here to help!  "
   ]
  },
  {
   "cell_type": "markdown",
   "metadata": {},
   "source": [
    "<div class=\"alert alert-block alert-danger\"><b> \n",
    "To receive full credit, your notebook:\n",
    "    \n",
    "1. Must have the correct name;\n",
    "2. Must be fully commented;\n",
    "3. Must run as expected;\n",
    "4. Must be submitted into Canvas before the deadline.\n",
    "</b></div>"
   ]
  }
 ],
 "metadata": {
  "kernelspec": {
   "display_name": "Python 3",
   "language": "python",
   "name": "python3"
  },
  "language_info": {
   "codemirror_mode": {
    "name": "ipython",
    "version": 3
   },
   "file_extension": ".py",
   "mimetype": "text/x-python",
   "name": "python",
   "nbconvert_exporter": "python",
   "pygments_lexer": "ipython3",
   "version": "3.8.3"
  }
 },
 "nbformat": 4,
 "nbformat_minor": 1
}
