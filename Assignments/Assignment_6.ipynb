{
 "cells": [
  {
   "cell_type": "markdown",
   "metadata": {},
   "source": [
    "# SIO113: Assignment #6\n",
    "\n",
    "#### Instructor: Dave May (dmay@ucsd.edu)\n",
    "\n",
    "#### Assistant: Brendan Cych (bcych@ucsd.edu)\n",
    "\n",
    "#### Scripps Institution of Oceanography, UCSD, Spring 2021\n",
    "\n",
    "----"
   ]
  },
  {
   "cell_type": "markdown",
   "metadata": {},
   "source": [
    "<div class=\"alert alert-block alert-info\"><b>Preliminary:</b>\n",
    "Create a new notebook and rename it using the format YourLastname_FirstInitial_HW_06. \n",
    "For example, <b>Cych_B_HW_06</b>\n",
    "</div>"
   ]
  },
  {
   "cell_type": "markdown",
   "metadata": {},
   "source": [
    "### 1. Polynomial fits\n",
    "\n",
    "Certain isotopes are unstable and decay through _radioactive decay_.  The formula for radioactive decay is:\n",
    "\n",
    "$N= N_o \\exp^{-\\lambda T}$\n",
    "\n",
    "  $\\lambda$ is the decay constant (the time for $N$ to decay to $1/\\exp$ of the original value\n",
    "\n",
    "  $T$ is time\n",
    "\n",
    "  $N$ is the number of nuclei remaining after time $T$ \n",
    "\n",
    "  $N_o$ is the original number or parent nuclei\n",
    "\n",
    "The _half-life_ ($t_{1/2}$) is the time for $N$ to decay to $N_o$/2. The formula is:\n",
    "\n",
    "$t_{1/2} = \\frac {ln 2}{\\lambda}$\n",
    "\n",
    "- Write a lambda function to calculate radioactive decay. The decay constant, time, and initial parent should be supplied as parameters.  \n",
    "- The half-life of radiocarbon is 5,730 yrs. Calculate the decay constant of radiocarbon \n",
    "- Assume that the the initial parent, $N_o$, is 1, and time ranges from 0 to 7 half-lives. Use your function to calculate radioactive decay for radiocarbon\n",
    "- Plot a curve of $N$ versus $T$  \n",
    "- Calculate the best-fit polynomial to your curve.  Use both **np.polyfit( )** and the **sklearn** way.  Try different degrees for you polynomial, 3 and 13. \n",
    "- Draw a red vertical line at the half-life of radiocarbon and a red horizontal line at .5.   \n",
    "\n",
    "    \n",
    "### 2.  Seaborn pairplots\n",
    "\n",
    "- Argon-argon dating is one of the primary ways that geologists determine the age of their rocks.  One interesting study attempted to date the age of hominid footprints in Africa (Liutkus-Pierce et al., 2016; http://dx.doi.org/10.1016/j.palaeo.2016.09.019) around Lake Natron in northern Tanzania.  By using different methods and isotopic systems they dated the footprints as being older than 5,760 kyr, but younger than 19.1 kyr. As part of the study, the authors dated biotites and hornblends from the underlying substrate in an attempt to provide the older bound.  They used three different argon-argon methods on six different samples.  The data are in the file 'Datasets/radioisotopicAgeTanzania.xlsx' and the results are in the columns labelled 'Integ. Age', 'Plat. Age' and 'Isochron Age'.  The ages are in They concluded that the ages were \"too old\", but the data set is non-the-less interesting for our purposes.  \n",
    "- read the data into a Pandas DataFrame.\n",
    "- drop the rows that do not have all three methods. \n",
    "- make a seaborn pair plot of the three different dating methods, coloring the points by sample name. \n",
    "- What is the most reasonable guess of the age and why would this be \"too old\".  \n",
    "\n",
    "### 3. Maps\n",
    "\n",
    "People have been running observatories that measure the geomagnetic field since the mid-1800s and the  US Geological Survey maintains a number of them throughout the US and US territories.  The locations of the US array are available at this website: https://www.usgs.gov/natural-hazards/geomagnetism/science/observatories?qt-science_center_objects=0#qt-science_center_objects.  The file that you download is a .kmz file suitable for importing into Google Earth, but we have translated the locations to a .csv file that can be loaded into a Pandas DataFrame.  \n",
    "- Read the data file \"Datasets/geomagnetic_observatories.csv\" into a pandas DataFrame\n",
    "- Make a 10x10 figure object.\n",
    "- Make an orthographic projection that shows all the locations of the observatories as red circles.\n",
    "- Put on the gridlines as in the lecture. \n",
    "- Label the points with the code of the observatory name. Make the text be on top and to the right of the dots."
   ]
  },
  {
   "cell_type": "markdown",
   "metadata": {},
   "source": [
    "If you have trouble - contact the TA or the instructor - we are here to help!  "
   ]
  },
  {
   "cell_type": "markdown",
   "metadata": {},
   "source": [
    "<div class=\"alert alert-block alert-danger\"><b> \n",
    "To receive full credit, your notebook:\n",
    "    \n",
    "1. Must have the correct name;\n",
    "2. Be fully commented;\n",
    "3. Run as expected;\n",
    "4. Be submiited into Canvas before the deadline.\n",
    "</b></div>"
   ]
  }
 ],
 "metadata": {
  "kernelspec": {
   "display_name": "Python 3",
   "language": "python",
   "name": "python3"
  },
  "language_info": {
   "codemirror_mode": {
    "name": "ipython",
    "version": 3
   },
   "file_extension": ".py",
   "mimetype": "text/x-python",
   "name": "python",
   "nbconvert_exporter": "python",
   "pygments_lexer": "ipython3",
   "version": "3.8.3"
  }
 },
 "nbformat": 4,
 "nbformat_minor": 1
}
